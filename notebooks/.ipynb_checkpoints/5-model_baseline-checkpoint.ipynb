{
 "cells": [
  {
   "cell_type": "markdown",
   "id": "20f10835",
   "metadata": {
    "id": "20f10835"
   },
   "source": [
    "# Model baseline"
   ]
  },
  {
   "cell_type": "markdown",
   "id": "5314fab2",
   "metadata": {},
   "source": [
    "## Data load, extraction, transform"
   ]
  },
  {
   "cell_type": "raw",
   "id": "68ad49a9",
   "metadata": {},
   "source": [
    "We can execute the cell of data preprocessing to execute the data pipeline and get the data ready for the Machine Learning application or we can skipp that cell and go to the next and load simply the preprocessed data from the data folder."
   ]
  },
  {
   "cell_type": "markdown",
   "id": "e654901d",
   "metadata": {
    "id": "e654901d"
   },
   "source": [
    "## Data preprocessing"
   ]
  },
  {
   "cell_type": "code",
   "execution_count": null,
   "id": "a0fd580b",
   "metadata": {
    "id": "a0fd580b",
    "outputId": "3762fa0d-72b5-41aa-cfb2-65b03028362a"
   },
   "outputs": [
    {
     "name": "stdout",
     "output_type": "stream",
     "text": [
      "We dropped 42448 records.\n",
      "Done!\n"
     ]
    }
   ],
   "source": [
    "%run ./5-data_preprocessing.ipynb"
   ]
  },
  {
   "cell_type": "markdown",
   "id": "7spNNtF_QbI1",
   "metadata": {
    "id": "7spNNtF_QbI1"
   },
   "source": [
    "# Load the data"
   ]
  },
  {
   "cell_type": "code",
   "execution_count": 1,
   "id": "Xe3ZEJUhqyqc",
   "metadata": {
    "executionInfo": {
     "elapsed": 2243,
     "status": "ok",
     "timestamp": 1699378423108,
     "user": {
      "displayName": "Badreddine Ben Nouma",
      "userId": "17693698400336640468"
     },
     "user_tz": 300
    },
    "id": "Xe3ZEJUhqyqc"
   },
   "outputs": [],
   "source": [
    "import pandas as pd\n",
    "\n",
    "\n",
    "train_df = pd.read_csv(\"../data/preprocessed_train_ks_dataset.csv\")\n",
    "test_df  = pd.read_csv(\"../data/preprocessed_test_ks_dataset.csv\")\n"
   ]
  },
  {
   "cell_type": "markdown",
   "id": "e78d8207",
   "metadata": {
    "id": "e78d8207"
   },
   "source": [
    "# Setup the baseline models"
   ]
  },
  {
   "cell_type": "markdown",
   "id": "1389401a",
   "metadata": {
    "id": "1389401a"
   },
   "source": [
    "# Hypothesis and choose the set of features"
   ]
  },
  {
   "cell_type": "raw",
   "id": "c6777d06",
   "metadata": {},
   "source": [
    "First of all, we need to delete few columns that are not useful for the machine learning task, e.g: name, ID, etc.\n",
    "\n",
    "In addition, we need to delete some other columns because they are not needed in this case for example: the number of backers, the pledged and the usd_pledged. The reason is beacuse they are variables that are not available when we want to do prediction they are variables that we obtain after the compaigns finishs.\n",
    "\n",
    "They can be useful for other ML tasks, but for the current case no. We are interested to predict the success probability of a new project before it starts. So, at that time we will not be able to predict or to know the number of backers neither the pledged ammount.\n",
    "\n",
    "We will be using all the derived features (day_launched, week_day, etc) and the transformed columns (main_category_0, main_category_1, etc)\n",
    "\n"
   ]
  },
  {
   "cell_type": "code",
   "execution_count": null,
   "id": "40urx6RmuXTX",
   "metadata": {
    "id": "40urx6RmuXTX"
   },
   "outputs": [],
   "source": [
    "# If the folowwing package is not already installed please install.\n",
    "!pip install pycaret"
   ]
  },
  {
   "cell_type": "code",
   "execution_count": 2,
   "id": "6e828ed4",
   "metadata": {
    "executionInfo": {
     "elapsed": 6185,
     "status": "ok",
     "timestamp": 1699378404751,
     "user": {
      "displayName": "Badreddine Ben Nouma",
      "userId": "17693698400336640468"
     },
     "user_tz": 300
    },
    "id": "6e828ed4"
   },
   "outputs": [],
   "source": [
    "from pycaret.classification import *"
   ]
  },
  {
   "cell_type": "code",
   "execution_count": 3,
   "id": "cbe4ca27",
   "metadata": {},
   "outputs": [
    {
     "data": {
      "text/html": [
       "<style type=\"text/css\">\n",
       "#T_3068f_row8_col1, #T_3068f_row12_col1, #T_3068f_row14_col1, #T_3068f_row16_col1 {\n",
       "  background-color: lightgreen;\n",
       "}\n",
       "</style>\n",
       "<table id=\"T_3068f\">\n",
       "  <thead>\n",
       "    <tr>\n",
       "      <th class=\"blank level0\" >&nbsp;</th>\n",
       "      <th id=\"T_3068f_level0_col0\" class=\"col_heading level0 col0\" >Description</th>\n",
       "      <th id=\"T_3068f_level0_col1\" class=\"col_heading level0 col1\" >Value</th>\n",
       "    </tr>\n",
       "  </thead>\n",
       "  <tbody>\n",
       "    <tr>\n",
       "      <th id=\"T_3068f_level0_row0\" class=\"row_heading level0 row0\" >0</th>\n",
       "      <td id=\"T_3068f_row0_col0\" class=\"data row0 col0\" >Session id</td>\n",
       "      <td id=\"T_3068f_row0_col1\" class=\"data row0 col1\" >5808</td>\n",
       "    </tr>\n",
       "    <tr>\n",
       "      <th id=\"T_3068f_level0_row1\" class=\"row_heading level0 row1\" >1</th>\n",
       "      <td id=\"T_3068f_row1_col0\" class=\"data row1 col0\" >Target</td>\n",
       "      <td id=\"T_3068f_row1_col1\" class=\"data row1 col1\" >state</td>\n",
       "    </tr>\n",
       "    <tr>\n",
       "      <th id=\"T_3068f_level0_row2\" class=\"row_heading level0 row2\" >2</th>\n",
       "      <td id=\"T_3068f_row2_col0\" class=\"data row2 col0\" >Target type</td>\n",
       "      <td id=\"T_3068f_row2_col1\" class=\"data row2 col1\" >Binary</td>\n",
       "    </tr>\n",
       "    <tr>\n",
       "      <th id=\"T_3068f_level0_row3\" class=\"row_heading level0 row3\" >3</th>\n",
       "      <td id=\"T_3068f_row3_col0\" class=\"data row3 col0\" >Original data shape</td>\n",
       "      <td id=\"T_3068f_row3_col1\" class=\"data row3 col1\" >(269152, 25)</td>\n",
       "    </tr>\n",
       "    <tr>\n",
       "      <th id=\"T_3068f_level0_row4\" class=\"row_heading level0 row4\" >4</th>\n",
       "      <td id=\"T_3068f_row4_col0\" class=\"data row4 col0\" >Transformed data shape</td>\n",
       "      <td id=\"T_3068f_row4_col1\" class=\"data row4 col1\" >(259731, 25)</td>\n",
       "    </tr>\n",
       "    <tr>\n",
       "      <th id=\"T_3068f_level0_row5\" class=\"row_heading level0 row5\" >5</th>\n",
       "      <td id=\"T_3068f_row5_col0\" class=\"data row5 col0\" >Transformed train set shape</td>\n",
       "      <td id=\"T_3068f_row5_col1\" class=\"data row5 col1\" >(178985, 25)</td>\n",
       "    </tr>\n",
       "    <tr>\n",
       "      <th id=\"T_3068f_level0_row6\" class=\"row_heading level0 row6\" >6</th>\n",
       "      <td id=\"T_3068f_row6_col0\" class=\"data row6 col0\" >Transformed test set shape</td>\n",
       "      <td id=\"T_3068f_row6_col1\" class=\"data row6 col1\" >(80746, 25)</td>\n",
       "    </tr>\n",
       "    <tr>\n",
       "      <th id=\"T_3068f_level0_row7\" class=\"row_heading level0 row7\" >7</th>\n",
       "      <td id=\"T_3068f_row7_col0\" class=\"data row7 col0\" >Numeric features</td>\n",
       "      <td id=\"T_3068f_row7_col1\" class=\"data row7 col1\" >24</td>\n",
       "    </tr>\n",
       "    <tr>\n",
       "      <th id=\"T_3068f_level0_row8\" class=\"row_heading level0 row8\" >8</th>\n",
       "      <td id=\"T_3068f_row8_col0\" class=\"data row8 col0\" >Preprocess</td>\n",
       "      <td id=\"T_3068f_row8_col1\" class=\"data row8 col1\" >True</td>\n",
       "    </tr>\n",
       "    <tr>\n",
       "      <th id=\"T_3068f_level0_row9\" class=\"row_heading level0 row9\" >9</th>\n",
       "      <td id=\"T_3068f_row9_col0\" class=\"data row9 col0\" >Imputation type</td>\n",
       "      <td id=\"T_3068f_row9_col1\" class=\"data row9 col1\" >simple</td>\n",
       "    </tr>\n",
       "    <tr>\n",
       "      <th id=\"T_3068f_level0_row10\" class=\"row_heading level0 row10\" >10</th>\n",
       "      <td id=\"T_3068f_row10_col0\" class=\"data row10 col0\" >Numeric imputation</td>\n",
       "      <td id=\"T_3068f_row10_col1\" class=\"data row10 col1\" >mean</td>\n",
       "    </tr>\n",
       "    <tr>\n",
       "      <th id=\"T_3068f_level0_row11\" class=\"row_heading level0 row11\" >11</th>\n",
       "      <td id=\"T_3068f_row11_col0\" class=\"data row11 col0\" >Categorical imputation</td>\n",
       "      <td id=\"T_3068f_row11_col1\" class=\"data row11 col1\" >mode</td>\n",
       "    </tr>\n",
       "    <tr>\n",
       "      <th id=\"T_3068f_level0_row12\" class=\"row_heading level0 row12\" >12</th>\n",
       "      <td id=\"T_3068f_row12_col0\" class=\"data row12 col0\" >Remove multicollinearity</td>\n",
       "      <td id=\"T_3068f_row12_col1\" class=\"data row12 col1\" >True</td>\n",
       "    </tr>\n",
       "    <tr>\n",
       "      <th id=\"T_3068f_level0_row13\" class=\"row_heading level0 row13\" >13</th>\n",
       "      <td id=\"T_3068f_row13_col0\" class=\"data row13 col0\" >Multicollinearity threshold</td>\n",
       "      <td id=\"T_3068f_row13_col1\" class=\"data row13 col1\" >0.900000</td>\n",
       "    </tr>\n",
       "    <tr>\n",
       "      <th id=\"T_3068f_level0_row14\" class=\"row_heading level0 row14\" >14</th>\n",
       "      <td id=\"T_3068f_row14_col0\" class=\"data row14 col0\" >Remove outliers</td>\n",
       "      <td id=\"T_3068f_row14_col1\" class=\"data row14 col1\" >True</td>\n",
       "    </tr>\n",
       "    <tr>\n",
       "      <th id=\"T_3068f_level0_row15\" class=\"row_heading level0 row15\" >15</th>\n",
       "      <td id=\"T_3068f_row15_col0\" class=\"data row15 col0\" >Outliers threshold</td>\n",
       "      <td id=\"T_3068f_row15_col1\" class=\"data row15 col1\" >0.050000</td>\n",
       "    </tr>\n",
       "    <tr>\n",
       "      <th id=\"T_3068f_level0_row16\" class=\"row_heading level0 row16\" >16</th>\n",
       "      <td id=\"T_3068f_row16_col0\" class=\"data row16 col0\" >Normalize</td>\n",
       "      <td id=\"T_3068f_row16_col1\" class=\"data row16 col1\" >True</td>\n",
       "    </tr>\n",
       "    <tr>\n",
       "      <th id=\"T_3068f_level0_row17\" class=\"row_heading level0 row17\" >17</th>\n",
       "      <td id=\"T_3068f_row17_col0\" class=\"data row17 col0\" >Normalize method</td>\n",
       "      <td id=\"T_3068f_row17_col1\" class=\"data row17 col1\" >robust</td>\n",
       "    </tr>\n",
       "    <tr>\n",
       "      <th id=\"T_3068f_level0_row18\" class=\"row_heading level0 row18\" >18</th>\n",
       "      <td id=\"T_3068f_row18_col0\" class=\"data row18 col0\" >Fold Generator</td>\n",
       "      <td id=\"T_3068f_row18_col1\" class=\"data row18 col1\" >StratifiedKFold</td>\n",
       "    </tr>\n",
       "    <tr>\n",
       "      <th id=\"T_3068f_level0_row19\" class=\"row_heading level0 row19\" >19</th>\n",
       "      <td id=\"T_3068f_row19_col0\" class=\"data row19 col0\" >Fold Number</td>\n",
       "      <td id=\"T_3068f_row19_col1\" class=\"data row19 col1\" >10</td>\n",
       "    </tr>\n",
       "    <tr>\n",
       "      <th id=\"T_3068f_level0_row20\" class=\"row_heading level0 row20\" >20</th>\n",
       "      <td id=\"T_3068f_row20_col0\" class=\"data row20 col0\" >CPU Jobs</td>\n",
       "      <td id=\"T_3068f_row20_col1\" class=\"data row20 col1\" >-1</td>\n",
       "    </tr>\n",
       "    <tr>\n",
       "      <th id=\"T_3068f_level0_row21\" class=\"row_heading level0 row21\" >21</th>\n",
       "      <td id=\"T_3068f_row21_col0\" class=\"data row21 col0\" >Use GPU</td>\n",
       "      <td id=\"T_3068f_row21_col1\" class=\"data row21 col1\" >False</td>\n",
       "    </tr>\n",
       "    <tr>\n",
       "      <th id=\"T_3068f_level0_row22\" class=\"row_heading level0 row22\" >22</th>\n",
       "      <td id=\"T_3068f_row22_col0\" class=\"data row22 col0\" >Log Experiment</td>\n",
       "      <td id=\"T_3068f_row22_col1\" class=\"data row22 col1\" >False</td>\n",
       "    </tr>\n",
       "    <tr>\n",
       "      <th id=\"T_3068f_level0_row23\" class=\"row_heading level0 row23\" >23</th>\n",
       "      <td id=\"T_3068f_row23_col0\" class=\"data row23 col0\" >Experiment Name</td>\n",
       "      <td id=\"T_3068f_row23_col1\" class=\"data row23 col1\" >clf-default-name</td>\n",
       "    </tr>\n",
       "    <tr>\n",
       "      <th id=\"T_3068f_level0_row24\" class=\"row_heading level0 row24\" >24</th>\n",
       "      <td id=\"T_3068f_row24_col0\" class=\"data row24 col0\" >USI</td>\n",
       "      <td id=\"T_3068f_row24_col1\" class=\"data row24 col1\" >39da</td>\n",
       "    </tr>\n",
       "  </tbody>\n",
       "</table>\n"
      ],
      "text/plain": [
       "<pandas.io.formats.style.Styler at 0x7fbad2159bb0>"
      ]
     },
     "metadata": {},
     "output_type": "display_data"
    }
   ],
   "source": [
    "# Define the features\n",
    "new_features = ['state', 'goal_usd', 'campaigns_duration',\n",
    "                'day_launched', 'month_launched', 'year_launched', 'week_day', 'season',\n",
    "               'category_0', 'category_1', 'category_2', 'category_3', 'category_4',\n",
    "               'category_5', 'category_6', 'category_7', 'main_category_0',\n",
    "               'main_category_1', 'main_category_2', 'main_category_3', 'country_0',\n",
    "               'country_1', 'country_2', 'country_3', 'country_4']\n",
    "\n",
    "# set up the ML classification experiment\n",
    "# we set some useful parameters: remove outliers, remove_multicolinearity, normalize the data,\n",
    "# We can tune many other parameters such: the imputation of missing values, but we have alrady done that while preprocessing the data \n",
    "classification = setup(data= train_df[new_features], target='state',\n",
    "                             remove_outliers=True,\n",
    "                             normalize=True,\n",
    "                             normalize_method='robust',\n",
    "                             remove_multicollinearity=True,)"
   ]
  },
  {
   "cell_type": "markdown",
   "id": "3d032d5a",
   "metadata": {
    "id": "3d032d5a"
   },
   "source": [
    "# Models Comparison"
   ]
  },
  {
   "cell_type": "code",
   "execution_count": null,
   "id": "5e8206de",
   "metadata": {
    "colab": {
     "base_uri": "https://localhost:8080/",
     "height": 751,
     "referenced_widgets": [
      "69666dbe439b42b9a44fe39cf4922bf7",
      "60aa741018924b7d9c7392e409c0e692",
      "52b722520c38418892ceaec24cdd98e2",
      "1f33c481506a447db9fce2ecdd45e81c",
      "85043543b66f4115a37e6ac9aa372d2a",
      "1d964a11f9db475bbf0dea6fb3bdc760",
      "49ea612293c846b6830761c4faedac4e",
      "c050b1cd348346efa6daa4584a482546",
      "ff29e467f5b44ff08602ed877e3d7849",
      "77eaf70c7ab242748d960da6a0c48537",
      "ce4154e133b84074b706fd6727ba6bee"
     ]
    },
    "executionInfo": {
     "elapsed": 1774160,
     "status": "ok",
     "timestamp": 1699286659332,
     "user": {
      "displayName": "Badreddine Ben Nouma",
      "userId": "17693698400336640468"
     },
     "user_tz": 300
    },
    "id": "5e8206de",
    "outputId": "288d4963-b927-48e0-cbef-59aa7ac61ecf"
   },
   "outputs": [
    {
     "data": {
      "text/html": [],
      "text/plain": [
       "<IPython.core.display.HTML object>"
      ]
     },
     "metadata": {},
     "output_type": "display_data"
    },
    {
     "data": {
      "text/html": [
       "<style type=\"text/css\">\n",
       "#T_a9fd8 th {\n",
       "  text-align: left;\n",
       "}\n",
       "#T_a9fd8_row0_col0, #T_a9fd8_row0_col3, #T_a9fd8_row1_col0, #T_a9fd8_row1_col1, #T_a9fd8_row1_col2, #T_a9fd8_row1_col3, #T_a9fd8_row1_col4, #T_a9fd8_row1_col5, #T_a9fd8_row1_col6, #T_a9fd8_row1_col7, #T_a9fd8_row2_col0, #T_a9fd8_row2_col1, #T_a9fd8_row2_col2, #T_a9fd8_row2_col3, #T_a9fd8_row2_col4, #T_a9fd8_row2_col5, #T_a9fd8_row2_col6, #T_a9fd8_row2_col7, #T_a9fd8_row3_col0, #T_a9fd8_row3_col1, #T_a9fd8_row3_col2, #T_a9fd8_row3_col3, #T_a9fd8_row3_col4, #T_a9fd8_row3_col5, #T_a9fd8_row3_col6, #T_a9fd8_row3_col7, #T_a9fd8_row4_col0, #T_a9fd8_row4_col1, #T_a9fd8_row4_col2, #T_a9fd8_row4_col3, #T_a9fd8_row4_col4, #T_a9fd8_row4_col5, #T_a9fd8_row4_col6, #T_a9fd8_row4_col7, #T_a9fd8_row5_col0, #T_a9fd8_row5_col1, #T_a9fd8_row5_col2, #T_a9fd8_row5_col3, #T_a9fd8_row5_col4, #T_a9fd8_row5_col5, #T_a9fd8_row5_col6, #T_a9fd8_row5_col7, #T_a9fd8_row6_col0, #T_a9fd8_row6_col1, #T_a9fd8_row6_col2, #T_a9fd8_row6_col3, #T_a9fd8_row6_col4, #T_a9fd8_row6_col5, #T_a9fd8_row6_col6, #T_a9fd8_row6_col7, #T_a9fd8_row7_col0, #T_a9fd8_row7_col1, #T_a9fd8_row7_col2, #T_a9fd8_row7_col3, #T_a9fd8_row7_col4, #T_a9fd8_row7_col5, #T_a9fd8_row7_col6, #T_a9fd8_row7_col7, #T_a9fd8_row8_col0, #T_a9fd8_row8_col1, #T_a9fd8_row8_col2, #T_a9fd8_row8_col3, #T_a9fd8_row8_col4, #T_a9fd8_row8_col5, #T_a9fd8_row8_col6, #T_a9fd8_row8_col7, #T_a9fd8_row9_col0, #T_a9fd8_row9_col1, #T_a9fd8_row9_col2, #T_a9fd8_row9_col3, #T_a9fd8_row9_col4, #T_a9fd8_row9_col5, #T_a9fd8_row9_col6, #T_a9fd8_row9_col7, #T_a9fd8_row10_col0, #T_a9fd8_row10_col1, #T_a9fd8_row10_col2, #T_a9fd8_row10_col3, #T_a9fd8_row10_col4, #T_a9fd8_row10_col5, #T_a9fd8_row10_col6, #T_a9fd8_row10_col7, #T_a9fd8_row11_col0, #T_a9fd8_row11_col1, #T_a9fd8_row11_col2, #T_a9fd8_row11_col3, #T_a9fd8_row11_col4, #T_a9fd8_row11_col5, #T_a9fd8_row11_col6, #T_a9fd8_row11_col7, #T_a9fd8_row12_col0, #T_a9fd8_row12_col1, #T_a9fd8_row12_col2, #T_a9fd8_row12_col3, #T_a9fd8_row12_col4, #T_a9fd8_row12_col5, #T_a9fd8_row12_col6, #T_a9fd8_row12_col7, #T_a9fd8_row13_col0, #T_a9fd8_row13_col1, #T_a9fd8_row13_col2, #T_a9fd8_row13_col3, #T_a9fd8_row13_col4, #T_a9fd8_row13_col5, #T_a9fd8_row13_col6, #T_a9fd8_row13_col7, #T_a9fd8_row14_col0, #T_a9fd8_row14_col1, #T_a9fd8_row14_col2, #T_a9fd8_row14_col4, #T_a9fd8_row14_col5, #T_a9fd8_row14_col6, #T_a9fd8_row14_col7 {\n",
       "  text-align: left;\n",
       "}\n",
       "#T_a9fd8_row0_col1, #T_a9fd8_row0_col2, #T_a9fd8_row0_col4, #T_a9fd8_row0_col5, #T_a9fd8_row0_col6, #T_a9fd8_row0_col7, #T_a9fd8_row14_col3 {\n",
       "  text-align: left;\n",
       "  background-color: yellow;\n",
       "}\n",
       "#T_a9fd8_row0_col8, #T_a9fd8_row1_col8, #T_a9fd8_row2_col8, #T_a9fd8_row3_col8, #T_a9fd8_row4_col8, #T_a9fd8_row5_col8, #T_a9fd8_row6_col8, #T_a9fd8_row7_col8, #T_a9fd8_row8_col8, #T_a9fd8_row9_col8, #T_a9fd8_row10_col8, #T_a9fd8_row11_col8, #T_a9fd8_row12_col8, #T_a9fd8_row14_col8 {\n",
       "  text-align: left;\n",
       "  background-color: lightgrey;\n",
       "}\n",
       "#T_a9fd8_row13_col8 {\n",
       "  text-align: left;\n",
       "  background-color: yellow;\n",
       "  background-color: lightgrey;\n",
       "}\n",
       "</style>\n",
       "<table id=\"T_a9fd8\" class=\"dataframe\">\n",
       "  <thead>\n",
       "    <tr>\n",
       "      <th class=\"blank level0\" >&nbsp;</th>\n",
       "      <th id=\"T_a9fd8_level0_col0\" class=\"col_heading level0 col0\" >Model</th>\n",
       "      <th id=\"T_a9fd8_level0_col1\" class=\"col_heading level0 col1\" >Accuracy</th>\n",
       "      <th id=\"T_a9fd8_level0_col2\" class=\"col_heading level0 col2\" >AUC</th>\n",
       "      <th id=\"T_a9fd8_level0_col3\" class=\"col_heading level0 col3\" >Recall</th>\n",
       "      <th id=\"T_a9fd8_level0_col4\" class=\"col_heading level0 col4\" >Prec.</th>\n",
       "      <th id=\"T_a9fd8_level0_col5\" class=\"col_heading level0 col5\" >F1</th>\n",
       "      <th id=\"T_a9fd8_level0_col6\" class=\"col_heading level0 col6\" >Kappa</th>\n",
       "      <th id=\"T_a9fd8_level0_col7\" class=\"col_heading level0 col7\" >MCC</th>\n",
       "      <th id=\"T_a9fd8_level0_col8\" class=\"col_heading level0 col8\" >TT (Sec)</th>\n",
       "    </tr>\n",
       "  </thead>\n",
       "  <tbody>\n",
       "    <tr>\n",
       "      <th id=\"T_a9fd8_level0_row0\" class=\"row_heading level0 row0\" >xgboost</th>\n",
       "      <td id=\"T_a9fd8_row0_col0\" class=\"data row0 col0\" >Extreme Gradient Boosting</td>\n",
       "      <td id=\"T_a9fd8_row0_col1\" class=\"data row0 col1\" >0.7321</td>\n",
       "      <td id=\"T_a9fd8_row0_col2\" class=\"data row0 col2\" >0.8172</td>\n",
       "      <td id=\"T_a9fd8_row0_col3\" class=\"data row0 col3\" >0.7009</td>\n",
       "      <td id=\"T_a9fd8_row0_col4\" class=\"data row0 col4\" >0.7475</td>\n",
       "      <td id=\"T_a9fd8_row0_col5\" class=\"data row0 col5\" >0.7234</td>\n",
       "      <td id=\"T_a9fd8_row0_col6\" class=\"data row0 col6\" >0.4641</td>\n",
       "      <td id=\"T_a9fd8_row0_col7\" class=\"data row0 col7\" >0.4650</td>\n",
       "      <td id=\"T_a9fd8_row0_col8\" class=\"data row0 col8\" >7.4580</td>\n",
       "    </tr>\n",
       "    <tr>\n",
       "      <th id=\"T_a9fd8_level0_row1\" class=\"row_heading level0 row1\" >lightgbm</th>\n",
       "      <td id=\"T_a9fd8_row1_col0\" class=\"data row1 col0\" >Light Gradient Boosting Machine</td>\n",
       "      <td id=\"T_a9fd8_row1_col1\" class=\"data row1 col1\" >0.7286</td>\n",
       "      <td id=\"T_a9fd8_row1_col2\" class=\"data row1 col2\" >0.8140</td>\n",
       "      <td id=\"T_a9fd8_row1_col3\" class=\"data row1 col3\" >0.6933</td>\n",
       "      <td id=\"T_a9fd8_row1_col4\" class=\"data row1 col4\" >0.7461</td>\n",
       "      <td id=\"T_a9fd8_row1_col5\" class=\"data row1 col5\" >0.7187</td>\n",
       "      <td id=\"T_a9fd8_row1_col6\" class=\"data row1 col6\" >0.4573</td>\n",
       "      <td id=\"T_a9fd8_row1_col7\" class=\"data row1 col7\" >0.4585</td>\n",
       "      <td id=\"T_a9fd8_row1_col8\" class=\"data row1 col8\" >11.8090</td>\n",
       "    </tr>\n",
       "    <tr>\n",
       "      <th id=\"T_a9fd8_level0_row2\" class=\"row_heading level0 row2\" >rf</th>\n",
       "      <td id=\"T_a9fd8_row2_col0\" class=\"data row2 col0\" >Random Forest Classifier</td>\n",
       "      <td id=\"T_a9fd8_row2_col1\" class=\"data row2 col1\" >0.7193</td>\n",
       "      <td id=\"T_a9fd8_row2_col2\" class=\"data row2 col2\" >0.7983</td>\n",
       "      <td id=\"T_a9fd8_row2_col3\" class=\"data row2 col3\" >0.6838</td>\n",
       "      <td id=\"T_a9fd8_row2_col4\" class=\"data row2 col4\" >0.7361</td>\n",
       "      <td id=\"T_a9fd8_row2_col5\" class=\"data row2 col5\" >0.7090</td>\n",
       "      <td id=\"T_a9fd8_row2_col6\" class=\"data row2 col6\" >0.4386</td>\n",
       "      <td id=\"T_a9fd8_row2_col7\" class=\"data row2 col7\" >0.4397</td>\n",
       "      <td id=\"T_a9fd8_row2_col8\" class=\"data row2 col8\" >22.5560</td>\n",
       "    </tr>\n",
       "    <tr>\n",
       "      <th id=\"T_a9fd8_level0_row3\" class=\"row_heading level0 row3\" >gbc</th>\n",
       "      <td id=\"T_a9fd8_row3_col0\" class=\"data row3 col0\" >Gradient Boosting Classifier</td>\n",
       "      <td id=\"T_a9fd8_row3_col1\" class=\"data row3 col1\" >0.7076</td>\n",
       "      <td id=\"T_a9fd8_row3_col2\" class=\"data row3 col2\" >0.7840</td>\n",
       "      <td id=\"T_a9fd8_row3_col3\" class=\"data row3 col3\" >0.7017</td>\n",
       "      <td id=\"T_a9fd8_row3_col4\" class=\"data row3 col4\" >0.7101</td>\n",
       "      <td id=\"T_a9fd8_row3_col5\" class=\"data row3 col5\" >0.7059</td>\n",
       "      <td id=\"T_a9fd8_row3_col6\" class=\"data row3 col6\" >0.4152</td>\n",
       "      <td id=\"T_a9fd8_row3_col7\" class=\"data row3 col7\" >0.4153</td>\n",
       "      <td id=\"T_a9fd8_row3_col8\" class=\"data row3 col8\" >21.3990</td>\n",
       "    </tr>\n",
       "    <tr>\n",
       "      <th id=\"T_a9fd8_level0_row4\" class=\"row_heading level0 row4\" >et</th>\n",
       "      <td id=\"T_a9fd8_row4_col0\" class=\"data row4 col0\" >Extra Trees Classifier</td>\n",
       "      <td id=\"T_a9fd8_row4_col1\" class=\"data row4 col1\" >0.6978</td>\n",
       "      <td id=\"T_a9fd8_row4_col2\" class=\"data row4 col2\" >0.7687</td>\n",
       "      <td id=\"T_a9fd8_row4_col3\" class=\"data row4 col3\" >0.6627</td>\n",
       "      <td id=\"T_a9fd8_row4_col4\" class=\"data row4 col4\" >0.7128</td>\n",
       "      <td id=\"T_a9fd8_row4_col5\" class=\"data row4 col5\" >0.6868</td>\n",
       "      <td id=\"T_a9fd8_row4_col6\" class=\"data row4 col6\" >0.3956</td>\n",
       "      <td id=\"T_a9fd8_row4_col7\" class=\"data row4 col7\" >0.3966</td>\n",
       "      <td id=\"T_a9fd8_row4_col8\" class=\"data row4 col8\" >24.0340</td>\n",
       "    </tr>\n",
       "    <tr>\n",
       "      <th id=\"T_a9fd8_level0_row5\" class=\"row_heading level0 row5\" >ada</th>\n",
       "      <td id=\"T_a9fd8_row5_col0\" class=\"data row5 col0\" >Ada Boost Classifier</td>\n",
       "      <td id=\"T_a9fd8_row5_col1\" class=\"data row5 col1\" >0.6826</td>\n",
       "      <td id=\"T_a9fd8_row5_col2\" class=\"data row5 col2\" >0.7519</td>\n",
       "      <td id=\"T_a9fd8_row5_col3\" class=\"data row5 col3\" >0.6965</td>\n",
       "      <td id=\"T_a9fd8_row5_col4\" class=\"data row5 col4\" >0.6776</td>\n",
       "      <td id=\"T_a9fd8_row5_col5\" class=\"data row5 col5\" >0.6869</td>\n",
       "      <td id=\"T_a9fd8_row5_col6\" class=\"data row5 col6\" >0.3651</td>\n",
       "      <td id=\"T_a9fd8_row5_col7\" class=\"data row5 col7\" >0.3653</td>\n",
       "      <td id=\"T_a9fd8_row5_col8\" class=\"data row5 col8\" >9.8570</td>\n",
       "    </tr>\n",
       "    <tr>\n",
       "      <th id=\"T_a9fd8_level0_row6\" class=\"row_heading level0 row6\" >knn</th>\n",
       "      <td id=\"T_a9fd8_row6_col0\" class=\"data row6 col0\" >K Neighbors Classifier</td>\n",
       "      <td id=\"T_a9fd8_row6_col1\" class=\"data row6 col1\" >0.6781</td>\n",
       "      <td id=\"T_a9fd8_row6_col2\" class=\"data row6 col2\" >0.7417</td>\n",
       "      <td id=\"T_a9fd8_row6_col3\" class=\"data row6 col3\" >0.6502</td>\n",
       "      <td id=\"T_a9fd8_row6_col4\" class=\"data row6 col4\" >0.6887</td>\n",
       "      <td id=\"T_a9fd8_row6_col5\" class=\"data row6 col5\" >0.6689</td>\n",
       "      <td id=\"T_a9fd8_row6_col6\" class=\"data row6 col6\" >0.3563</td>\n",
       "      <td id=\"T_a9fd8_row6_col7\" class=\"data row6 col7\" >0.3568</td>\n",
       "      <td id=\"T_a9fd8_row6_col8\" class=\"data row6 col8\" >28.5710</td>\n",
       "    </tr>\n",
       "    <tr>\n",
       "      <th id=\"T_a9fd8_level0_row7\" class=\"row_heading level0 row7\" >lr</th>\n",
       "      <td id=\"T_a9fd8_row7_col0\" class=\"data row7 col0\" >Logistic Regression</td>\n",
       "      <td id=\"T_a9fd8_row7_col1\" class=\"data row7 col1\" >0.6628</td>\n",
       "      <td id=\"T_a9fd8_row7_col2\" class=\"data row7 col2\" >0.7241</td>\n",
       "      <td id=\"T_a9fd8_row7_col3\" class=\"data row7 col3\" >0.6750</td>\n",
       "      <td id=\"T_a9fd8_row7_col4\" class=\"data row7 col4\" >0.6590</td>\n",
       "      <td id=\"T_a9fd8_row7_col5\" class=\"data row7 col5\" >0.6669</td>\n",
       "      <td id=\"T_a9fd8_row7_col6\" class=\"data row7 col6\" >0.3257</td>\n",
       "      <td id=\"T_a9fd8_row7_col7\" class=\"data row7 col7\" >0.3258</td>\n",
       "      <td id=\"T_a9fd8_row7_col8\" class=\"data row7 col8\" >7.1470</td>\n",
       "    </tr>\n",
       "    <tr>\n",
       "      <th id=\"T_a9fd8_level0_row8\" class=\"row_heading level0 row8\" >ridge</th>\n",
       "      <td id=\"T_a9fd8_row8_col0\" class=\"data row8 col0\" >Ridge Classifier</td>\n",
       "      <td id=\"T_a9fd8_row8_col1\" class=\"data row8 col1\" >0.6549</td>\n",
       "      <td id=\"T_a9fd8_row8_col2\" class=\"data row8 col2\" >0.0000</td>\n",
       "      <td id=\"T_a9fd8_row8_col3\" class=\"data row8 col3\" >0.6592</td>\n",
       "      <td id=\"T_a9fd8_row8_col4\" class=\"data row8 col4\" >0.6535</td>\n",
       "      <td id=\"T_a9fd8_row8_col5\" class=\"data row8 col5\" >0.6564</td>\n",
       "      <td id=\"T_a9fd8_row8_col6\" class=\"data row8 col6\" >0.3097</td>\n",
       "      <td id=\"T_a9fd8_row8_col7\" class=\"data row8 col7\" >0.3098</td>\n",
       "      <td id=\"T_a9fd8_row8_col8\" class=\"data row8 col8\" >5.8880</td>\n",
       "    </tr>\n",
       "    <tr>\n",
       "      <th id=\"T_a9fd8_level0_row9\" class=\"row_heading level0 row9\" >lda</th>\n",
       "      <td id=\"T_a9fd8_row9_col0\" class=\"data row9 col0\" >Linear Discriminant Analysis</td>\n",
       "      <td id=\"T_a9fd8_row9_col1\" class=\"data row9 col1\" >0.6549</td>\n",
       "      <td id=\"T_a9fd8_row9_col2\" class=\"data row9 col2\" >0.7116</td>\n",
       "      <td id=\"T_a9fd8_row9_col3\" class=\"data row9 col3\" >0.6592</td>\n",
       "      <td id=\"T_a9fd8_row9_col4\" class=\"data row9 col4\" >0.6535</td>\n",
       "      <td id=\"T_a9fd8_row9_col5\" class=\"data row9 col5\" >0.6564</td>\n",
       "      <td id=\"T_a9fd8_row9_col6\" class=\"data row9 col6\" >0.3097</td>\n",
       "      <td id=\"T_a9fd8_row9_col7\" class=\"data row9 col7\" >0.3098</td>\n",
       "      <td id=\"T_a9fd8_row9_col8\" class=\"data row9 col8\" >6.3310</td>\n",
       "    </tr>\n",
       "    <tr>\n",
       "      <th id=\"T_a9fd8_level0_row10\" class=\"row_heading level0 row10\" >svm</th>\n",
       "      <td id=\"T_a9fd8_row10_col0\" class=\"data row10 col0\" >SVM - Linear Kernel</td>\n",
       "      <td id=\"T_a9fd8_row10_col1\" class=\"data row10 col1\" >0.6535</td>\n",
       "      <td id=\"T_a9fd8_row10_col2\" class=\"data row10 col2\" >0.0000</td>\n",
       "      <td id=\"T_a9fd8_row10_col3\" class=\"data row10 col3\" >0.6732</td>\n",
       "      <td id=\"T_a9fd8_row10_col4\" class=\"data row10 col4\" >0.6490</td>\n",
       "      <td id=\"T_a9fd8_row10_col5\" class=\"data row10 col5\" >0.6598</td>\n",
       "      <td id=\"T_a9fd8_row10_col6\" class=\"data row10 col6\" >0.3069</td>\n",
       "      <td id=\"T_a9fd8_row10_col7\" class=\"data row10 col7\" >0.3082</td>\n",
       "      <td id=\"T_a9fd8_row10_col8\" class=\"data row10 col8\" >6.2600</td>\n",
       "    </tr>\n",
       "    <tr>\n",
       "      <th id=\"T_a9fd8_level0_row11\" class=\"row_heading level0 row11\" >dt</th>\n",
       "      <td id=\"T_a9fd8_row11_col0\" class=\"data row11 col0\" >Decision Tree Classifier</td>\n",
       "      <td id=\"T_a9fd8_row11_col1\" class=\"data row11 col1\" >0.6421</td>\n",
       "      <td id=\"T_a9fd8_row11_col2\" class=\"data row11 col2\" >0.6424</td>\n",
       "      <td id=\"T_a9fd8_row11_col3\" class=\"data row11 col3\" >0.6443</td>\n",
       "      <td id=\"T_a9fd8_row11_col4\" class=\"data row11 col4\" >0.6415</td>\n",
       "      <td id=\"T_a9fd8_row11_col5\" class=\"data row11 col5\" >0.6429</td>\n",
       "      <td id=\"T_a9fd8_row11_col6\" class=\"data row11 col6\" >0.2843</td>\n",
       "      <td id=\"T_a9fd8_row11_col7\" class=\"data row11 col7\" >0.2843</td>\n",
       "      <td id=\"T_a9fd8_row11_col8\" class=\"data row11 col8\" >6.6590</td>\n",
       "    </tr>\n",
       "    <tr>\n",
       "      <th id=\"T_a9fd8_level0_row12\" class=\"row_heading level0 row12\" >qda</th>\n",
       "      <td id=\"T_a9fd8_row12_col0\" class=\"data row12 col0\" >Quadratic Discriminant Analysis</td>\n",
       "      <td id=\"T_a9fd8_row12_col1\" class=\"data row12 col1\" >0.5534</td>\n",
       "      <td id=\"T_a9fd8_row12_col2\" class=\"data row12 col2\" >0.7212</td>\n",
       "      <td id=\"T_a9fd8_row12_col3\" class=\"data row12 col3\" >0.9397</td>\n",
       "      <td id=\"T_a9fd8_row12_col4\" class=\"data row12 col4\" >0.5301</td>\n",
       "      <td id=\"T_a9fd8_row12_col5\" class=\"data row12 col5\" >0.6778</td>\n",
       "      <td id=\"T_a9fd8_row12_col6\" class=\"data row12 col6\" >0.1067</td>\n",
       "      <td id=\"T_a9fd8_row12_col7\" class=\"data row12 col7\" >0.1682</td>\n",
       "      <td id=\"T_a9fd8_row12_col8\" class=\"data row12 col8\" >5.9510</td>\n",
       "    </tr>\n",
       "    <tr>\n",
       "      <th id=\"T_a9fd8_level0_row13\" class=\"row_heading level0 row13\" >nb</th>\n",
       "      <td id=\"T_a9fd8_row13_col0\" class=\"data row13 col0\" >Naive Bayes</td>\n",
       "      <td id=\"T_a9fd8_row13_col1\" class=\"data row13 col1\" >0.5431</td>\n",
       "      <td id=\"T_a9fd8_row13_col2\" class=\"data row13 col2\" >0.7053</td>\n",
       "      <td id=\"T_a9fd8_row13_col3\" class=\"data row13 col3\" >0.9493</td>\n",
       "      <td id=\"T_a9fd8_row13_col4\" class=\"data row13 col4\" >0.5238</td>\n",
       "      <td id=\"T_a9fd8_row13_col5\" class=\"data row13 col5\" >0.6751</td>\n",
       "      <td id=\"T_a9fd8_row13_col6\" class=\"data row13 col6\" >0.0863</td>\n",
       "      <td id=\"T_a9fd8_row13_col7\" class=\"data row13 col7\" >0.1479</td>\n",
       "      <td id=\"T_a9fd8_row13_col8\" class=\"data row13 col8\" >5.8060</td>\n",
       "    </tr>\n",
       "    <tr>\n",
       "      <th id=\"T_a9fd8_level0_row14\" class=\"row_heading level0 row14\" >dummy</th>\n",
       "      <td id=\"T_a9fd8_row14_col0\" class=\"data row14 col0\" >Dummy Classifier</td>\n",
       "      <td id=\"T_a9fd8_row14_col1\" class=\"data row14 col1\" >0.5000</td>\n",
       "      <td id=\"T_a9fd8_row14_col2\" class=\"data row14 col2\" >0.5000</td>\n",
       "      <td id=\"T_a9fd8_row14_col3\" class=\"data row14 col3\" >1.0000</td>\n",
       "      <td id=\"T_a9fd8_row14_col4\" class=\"data row14 col4\" >0.5000</td>\n",
       "      <td id=\"T_a9fd8_row14_col5\" class=\"data row14 col5\" >0.6667</td>\n",
       "      <td id=\"T_a9fd8_row14_col6\" class=\"data row14 col6\" >0.0000</td>\n",
       "      <td id=\"T_a9fd8_row14_col7\" class=\"data row14 col7\" >0.0000</td>\n",
       "      <td id=\"T_a9fd8_row14_col8\" class=\"data row14 col8\" >5.9040</td>\n",
       "    </tr>\n",
       "  </tbody>\n",
       "</table>\n"
      ],
      "text/plain": [
       "<pandas.io.formats.style.Styler at 0x7d09f8bb8040>"
      ]
     },
     "metadata": {},
     "output_type": "display_data"
    },
    {
     "data": {
      "application/vnd.jupyter.widget-view+json": {
       "model_id": "69666dbe439b42b9a44fe39cf4922bf7",
       "version_major": 2,
       "version_minor": 0
      },
      "text/plain": [
       "Processing:   0%|          | 0/65 [00:00<?, ?it/s]"
      ]
     },
     "metadata": {
      "application/vnd.jupyter.widget-view+json": {
       "colab": {
        "custom_widget_manager": {
         "url": "https://ssl.gstatic.com/colaboratory-static/widgets/colab-cdn-widget-manager/b3e629b1971e1542/manager.min.js"
        }
       }
      }
     },
     "output_type": "display_data"
    },
    {
     "data": {
      "text/html": [],
      "text/plain": [
       "<IPython.core.display.HTML object>"
      ]
     },
     "metadata": {},
     "output_type": "display_data"
    },
    {
     "data": {
      "text/html": [
       "<style>#sk-container-id-1 {color: black;background-color: white;}#sk-container-id-1 pre{padding: 0;}#sk-container-id-1 div.sk-toggleable {background-color: white;}#sk-container-id-1 label.sk-toggleable__label {cursor: pointer;display: block;width: 100%;margin-bottom: 0;padding: 0.3em;box-sizing: border-box;text-align: center;}#sk-container-id-1 label.sk-toggleable__label-arrow:before {content: \"▸\";float: left;margin-right: 0.25em;color: #696969;}#sk-container-id-1 label.sk-toggleable__label-arrow:hover:before {color: black;}#sk-container-id-1 div.sk-estimator:hover label.sk-toggleable__label-arrow:before {color: black;}#sk-container-id-1 div.sk-toggleable__content {max-height: 0;max-width: 0;overflow: hidden;text-align: left;background-color: #f0f8ff;}#sk-container-id-1 div.sk-toggleable__content pre {margin: 0.2em;color: black;border-radius: 0.25em;background-color: #f0f8ff;}#sk-container-id-1 input.sk-toggleable__control:checked~div.sk-toggleable__content {max-height: 200px;max-width: 100%;overflow: auto;}#sk-container-id-1 input.sk-toggleable__control:checked~label.sk-toggleable__label-arrow:before {content: \"▾\";}#sk-container-id-1 div.sk-estimator input.sk-toggleable__control:checked~label.sk-toggleable__label {background-color: #d4ebff;}#sk-container-id-1 div.sk-label input.sk-toggleable__control:checked~label.sk-toggleable__label {background-color: #d4ebff;}#sk-container-id-1 input.sk-hidden--visually {border: 0;clip: rect(1px 1px 1px 1px);clip: rect(1px, 1px, 1px, 1px);height: 1px;margin: -1px;overflow: hidden;padding: 0;position: absolute;width: 1px;}#sk-container-id-1 div.sk-estimator {font-family: monospace;background-color: #f0f8ff;border: 1px dotted black;border-radius: 0.25em;box-sizing: border-box;margin-bottom: 0.5em;}#sk-container-id-1 div.sk-estimator:hover {background-color: #d4ebff;}#sk-container-id-1 div.sk-parallel-item::after {content: \"\";width: 100%;border-bottom: 1px solid gray;flex-grow: 1;}#sk-container-id-1 div.sk-label:hover label.sk-toggleable__label {background-color: #d4ebff;}#sk-container-id-1 div.sk-serial::before {content: \"\";position: absolute;border-left: 1px solid gray;box-sizing: border-box;top: 0;bottom: 0;left: 50%;z-index: 0;}#sk-container-id-1 div.sk-serial {display: flex;flex-direction: column;align-items: center;background-color: white;padding-right: 0.2em;padding-left: 0.2em;position: relative;}#sk-container-id-1 div.sk-item {position: relative;z-index: 1;}#sk-container-id-1 div.sk-parallel {display: flex;align-items: stretch;justify-content: center;background-color: white;position: relative;}#sk-container-id-1 div.sk-item::before, #sk-container-id-1 div.sk-parallel-item::before {content: \"\";position: absolute;border-left: 1px solid gray;box-sizing: border-box;top: 0;bottom: 0;left: 50%;z-index: -1;}#sk-container-id-1 div.sk-parallel-item {display: flex;flex-direction: column;z-index: 1;position: relative;background-color: white;}#sk-container-id-1 div.sk-parallel-item:first-child::after {align-self: flex-end;width: 50%;}#sk-container-id-1 div.sk-parallel-item:last-child::after {align-self: flex-start;width: 50%;}#sk-container-id-1 div.sk-parallel-item:only-child::after {width: 0;}#sk-container-id-1 div.sk-dashed-wrapped {border: 1px dashed gray;margin: 0 0.4em 0.5em 0.4em;box-sizing: border-box;padding-bottom: 0.4em;background-color: white;}#sk-container-id-1 div.sk-label label {font-family: monospace;font-weight: bold;display: inline-block;line-height: 1.2em;}#sk-container-id-1 div.sk-label-container {text-align: center;}#sk-container-id-1 div.sk-container {/* jupyter's `normalize.less` sets `[hidden] { display: none; }` but bootstrap.min.css set `[hidden] { display: none !important; }` so we also need the `!important` here to be able to override the default hidden behavior on the sphinx rendered scikit-learn.org. See: https://github.com/scikit-learn/scikit-learn/issues/21755 */display: inline-block !important;position: relative;}#sk-container-id-1 div.sk-text-repr-fallback {display: none;}</style><div id=\"sk-container-id-1\" class=\"sk-top-container\"><div class=\"sk-text-repr-fallback\"><pre>XGBClassifier(base_score=None, booster=&#x27;gbtree&#x27;, callbacks=None,\n",
       "              colsample_bylevel=None, colsample_bynode=None,\n",
       "              colsample_bytree=None, device=None, early_stopping_rounds=None,\n",
       "              enable_categorical=False, eval_metric=None, feature_types=None,\n",
       "              gamma=None, grow_policy=None, importance_type=None,\n",
       "              interaction_constraints=None, learning_rate=None, max_bin=None,\n",
       "              max_cat_threshold=None, max_cat_to_onehot=None,\n",
       "              max_delta_step=None, max_depth=None, max_leaves=None,\n",
       "              min_child_weight=None, missing=nan, monotone_constraints=None,\n",
       "              multi_strategy=None, n_estimators=None, n_jobs=-1,\n",
       "              num_parallel_tree=None, objective=&#x27;binary:logistic&#x27;, ...)</pre><b>In a Jupyter environment, please rerun this cell to show the HTML representation or trust the notebook. <br />On GitHub, the HTML representation is unable to render, please try loading this page with nbviewer.org.</b></div><div class=\"sk-container\" hidden><div class=\"sk-item\"><div class=\"sk-estimator sk-toggleable\"><input class=\"sk-toggleable__control sk-hidden--visually\" id=\"sk-estimator-id-1\" type=\"checkbox\" checked><label for=\"sk-estimator-id-1\" class=\"sk-toggleable__label sk-toggleable__label-arrow\">XGBClassifier</label><div class=\"sk-toggleable__content\"><pre>XGBClassifier(base_score=None, booster=&#x27;gbtree&#x27;, callbacks=None,\n",
       "              colsample_bylevel=None, colsample_bynode=None,\n",
       "              colsample_bytree=None, device=None, early_stopping_rounds=None,\n",
       "              enable_categorical=False, eval_metric=None, feature_types=None,\n",
       "              gamma=None, grow_policy=None, importance_type=None,\n",
       "              interaction_constraints=None, learning_rate=None, max_bin=None,\n",
       "              max_cat_threshold=None, max_cat_to_onehot=None,\n",
       "              max_delta_step=None, max_depth=None, max_leaves=None,\n",
       "              min_child_weight=None, missing=nan, monotone_constraints=None,\n",
       "              multi_strategy=None, n_estimators=None, n_jobs=-1,\n",
       "              num_parallel_tree=None, objective=&#x27;binary:logistic&#x27;, ...)</pre></div></div></div></div></div>"
      ],
      "text/plain": [
       "XGBClassifier(base_score=None, booster='gbtree', callbacks=None,\n",
       "              colsample_bylevel=None, colsample_bynode=None,\n",
       "              colsample_bytree=None, device=None, early_stopping_rounds=None,\n",
       "              enable_categorical=False, eval_metric=None, feature_types=None,\n",
       "              gamma=None, grow_policy=None, importance_type=None,\n",
       "              interaction_constraints=None, learning_rate=None, max_bin=None,\n",
       "              max_cat_threshold=None, max_cat_to_onehot=None,\n",
       "              max_delta_step=None, max_depth=None, max_leaves=None,\n",
       "              min_child_weight=None, missing=nan, monotone_constraints=None,\n",
       "              multi_strategy=None, n_estimators=None, n_jobs=-1,\n",
       "              num_parallel_tree=None, objective='binary:logistic', ...)"
      ]
     },
     "execution_count": 47,
     "metadata": {},
     "output_type": "execute_result"
    }
   ],
   "source": [
    "compare_models()"
   ]
  },
  {
   "cell_type": "markdown",
   "id": "f415c2e5",
   "metadata": {},
   "source": [
    "### Conclusion"
   ]
  },
  {
   "cell_type": "raw",
   "id": "8bde4bb3",
   "metadata": {},
   "source": [
    "We have established an experiment that tests a bunch of machine learning algorithms to do the classificaiton task. We notice that the Extreme Gradient Boosting is the best algorithm that gave us 73% of accuracy. We noctice also that the Light Gradient Boosting Machine and Random Forest Classifier are close to xgboost's perfmance.\n",
    "\n",
    "So the next step is to create a blended model taking the top 3 models and see if the performance is improved or no.\n",
    "\n",
    "After doing so, I will tune the blended model and evaluate it."
   ]
  },
  {
   "cell_type": "markdown",
   "id": "9a41dc8c",
   "metadata": {},
   "source": [
    "# Create model for each top 3 models"
   ]
  },
  {
   "cell_type": "code",
   "execution_count": 6,
   "id": "31886f57",
   "metadata": {},
   "outputs": [
    {
     "data": {
      "text/html": [],
      "text/plain": [
       "<IPython.core.display.HTML object>"
      ]
     },
     "metadata": {},
     "output_type": "display_data"
    },
    {
     "data": {
      "text/html": [
       "<style type=\"text/css\">\n",
       "#T_a1eab_row10_col0, #T_a1eab_row10_col1, #T_a1eab_row10_col2, #T_a1eab_row10_col3, #T_a1eab_row10_col4, #T_a1eab_row10_col5, #T_a1eab_row10_col6 {\n",
       "  background: yellow;\n",
       "}\n",
       "</style>\n",
       "<table id=\"T_a1eab\">\n",
       "  <thead>\n",
       "    <tr>\n",
       "      <th class=\"blank level0\" >&nbsp;</th>\n",
       "      <th id=\"T_a1eab_level0_col0\" class=\"col_heading level0 col0\" >Accuracy</th>\n",
       "      <th id=\"T_a1eab_level0_col1\" class=\"col_heading level0 col1\" >AUC</th>\n",
       "      <th id=\"T_a1eab_level0_col2\" class=\"col_heading level0 col2\" >Recall</th>\n",
       "      <th id=\"T_a1eab_level0_col3\" class=\"col_heading level0 col3\" >Prec.</th>\n",
       "      <th id=\"T_a1eab_level0_col4\" class=\"col_heading level0 col4\" >F1</th>\n",
       "      <th id=\"T_a1eab_level0_col5\" class=\"col_heading level0 col5\" >Kappa</th>\n",
       "      <th id=\"T_a1eab_level0_col6\" class=\"col_heading level0 col6\" >MCC</th>\n",
       "    </tr>\n",
       "    <tr>\n",
       "      <th class=\"index_name level0\" >Fold</th>\n",
       "      <th class=\"blank col0\" >&nbsp;</th>\n",
       "      <th class=\"blank col1\" >&nbsp;</th>\n",
       "      <th class=\"blank col2\" >&nbsp;</th>\n",
       "      <th class=\"blank col3\" >&nbsp;</th>\n",
       "      <th class=\"blank col4\" >&nbsp;</th>\n",
       "      <th class=\"blank col5\" >&nbsp;</th>\n",
       "      <th class=\"blank col6\" >&nbsp;</th>\n",
       "    </tr>\n",
       "  </thead>\n",
       "  <tbody>\n",
       "    <tr>\n",
       "      <th id=\"T_a1eab_level0_row0\" class=\"row_heading level0 row0\" >0</th>\n",
       "      <td id=\"T_a1eab_row0_col0\" class=\"data row0 col0\" >0.7342</td>\n",
       "      <td id=\"T_a1eab_row0_col1\" class=\"data row0 col1\" >0.8176</td>\n",
       "      <td id=\"T_a1eab_row0_col2\" class=\"data row0 col2\" >0.7042</td>\n",
       "      <td id=\"T_a1eab_row0_col3\" class=\"data row0 col3\" >0.7493</td>\n",
       "      <td id=\"T_a1eab_row0_col4\" class=\"data row0 col4\" >0.7260</td>\n",
       "      <td id=\"T_a1eab_row0_col5\" class=\"data row0 col5\" >0.4685</td>\n",
       "      <td id=\"T_a1eab_row0_col6\" class=\"data row0 col6\" >0.4694</td>\n",
       "    </tr>\n",
       "    <tr>\n",
       "      <th id=\"T_a1eab_level0_row1\" class=\"row_heading level0 row1\" >1</th>\n",
       "      <td id=\"T_a1eab_row1_col0\" class=\"data row1 col0\" >0.7333</td>\n",
       "      <td id=\"T_a1eab_row1_col1\" class=\"data row1 col1\" >0.8157</td>\n",
       "      <td id=\"T_a1eab_row1_col2\" class=\"data row1 col2\" >0.7059</td>\n",
       "      <td id=\"T_a1eab_row1_col3\" class=\"data row1 col3\" >0.7469</td>\n",
       "      <td id=\"T_a1eab_row1_col4\" class=\"data row1 col4\" >0.7258</td>\n",
       "      <td id=\"T_a1eab_row1_col5\" class=\"data row1 col5\" >0.4666</td>\n",
       "      <td id=\"T_a1eab_row1_col6\" class=\"data row1 col6\" >0.4673</td>\n",
       "    </tr>\n",
       "    <tr>\n",
       "      <th id=\"T_a1eab_level0_row2\" class=\"row_heading level0 row2\" >2</th>\n",
       "      <td id=\"T_a1eab_row2_col0\" class=\"data row2 col0\" >0.7304</td>\n",
       "      <td id=\"T_a1eab_row2_col1\" class=\"data row2 col1\" >0.8150</td>\n",
       "      <td id=\"T_a1eab_row2_col2\" class=\"data row2 col2\" >0.7033</td>\n",
       "      <td id=\"T_a1eab_row2_col3\" class=\"data row2 col3\" >0.7436</td>\n",
       "      <td id=\"T_a1eab_row2_col4\" class=\"data row2 col4\" >0.7229</td>\n",
       "      <td id=\"T_a1eab_row2_col5\" class=\"data row2 col5\" >0.4608</td>\n",
       "      <td id=\"T_a1eab_row2_col6\" class=\"data row2 col6\" >0.4614</td>\n",
       "    </tr>\n",
       "    <tr>\n",
       "      <th id=\"T_a1eab_level0_row3\" class=\"row_heading level0 row3\" >3</th>\n",
       "      <td id=\"T_a1eab_row3_col0\" class=\"data row3 col0\" >0.7285</td>\n",
       "      <td id=\"T_a1eab_row3_col1\" class=\"data row3 col1\" >0.8137</td>\n",
       "      <td id=\"T_a1eab_row3_col2\" class=\"data row3 col2\" >0.6984</td>\n",
       "      <td id=\"T_a1eab_row3_col3\" class=\"data row3 col3\" >0.7431</td>\n",
       "      <td id=\"T_a1eab_row3_col4\" class=\"data row3 col4\" >0.7201</td>\n",
       "      <td id=\"T_a1eab_row3_col5\" class=\"data row3 col5\" >0.4570</td>\n",
       "      <td id=\"T_a1eab_row3_col6\" class=\"data row3 col6\" >0.4579</td>\n",
       "    </tr>\n",
       "    <tr>\n",
       "      <th id=\"T_a1eab_level0_row4\" class=\"row_heading level0 row4\" >4</th>\n",
       "      <td id=\"T_a1eab_row4_col0\" class=\"data row4 col0\" >0.7286</td>\n",
       "      <td id=\"T_a1eab_row4_col1\" class=\"data row4 col1\" >0.8134</td>\n",
       "      <td id=\"T_a1eab_row4_col2\" class=\"data row4 col2\" >0.6959</td>\n",
       "      <td id=\"T_a1eab_row4_col3\" class=\"data row4 col3\" >0.7445</td>\n",
       "      <td id=\"T_a1eab_row4_col4\" class=\"data row4 col4\" >0.7194</td>\n",
       "      <td id=\"T_a1eab_row4_col5\" class=\"data row4 col5\" >0.4571</td>\n",
       "      <td id=\"T_a1eab_row4_col6\" class=\"data row4 col6\" >0.4581</td>\n",
       "    </tr>\n",
       "    <tr>\n",
       "      <th id=\"T_a1eab_level0_row5\" class=\"row_heading level0 row5\" >5</th>\n",
       "      <td id=\"T_a1eab_row5_col0\" class=\"data row5 col0\" >0.7344</td>\n",
       "      <td id=\"T_a1eab_row5_col1\" class=\"data row5 col1\" >0.8189</td>\n",
       "      <td id=\"T_a1eab_row5_col2\" class=\"data row5 col2\" >0.6970</td>\n",
       "      <td id=\"T_a1eab_row5_col3\" class=\"data row5 col3\" >0.7532</td>\n",
       "      <td id=\"T_a1eab_row5_col4\" class=\"data row5 col4\" >0.7240</td>\n",
       "      <td id=\"T_a1eab_row5_col5\" class=\"data row5 col5\" >0.4687</td>\n",
       "      <td id=\"T_a1eab_row5_col6\" class=\"data row5 col6\" >0.4700</td>\n",
       "    </tr>\n",
       "    <tr>\n",
       "      <th id=\"T_a1eab_level0_row6\" class=\"row_heading level0 row6\" >6</th>\n",
       "      <td id=\"T_a1eab_row6_col0\" class=\"data row6 col0\" >0.7302</td>\n",
       "      <td id=\"T_a1eab_row6_col1\" class=\"data row6 col1\" >0.8151</td>\n",
       "      <td id=\"T_a1eab_row6_col2\" class=\"data row6 col2\" >0.6998</td>\n",
       "      <td id=\"T_a1eab_row6_col3\" class=\"data row6 col3\" >0.7451</td>\n",
       "      <td id=\"T_a1eab_row6_col4\" class=\"data row6 col4\" >0.7217</td>\n",
       "      <td id=\"T_a1eab_row6_col5\" class=\"data row6 col5\" >0.4604</td>\n",
       "      <td id=\"T_a1eab_row6_col6\" class=\"data row6 col6\" >0.4613</td>\n",
       "    </tr>\n",
       "    <tr>\n",
       "      <th id=\"T_a1eab_level0_row7\" class=\"row_heading level0 row7\" >7</th>\n",
       "      <td id=\"T_a1eab_row7_col0\" class=\"data row7 col0\" >0.7300</td>\n",
       "      <td id=\"T_a1eab_row7_col1\" class=\"data row7 col1\" >0.8155</td>\n",
       "      <td id=\"T_a1eab_row7_col2\" class=\"data row7 col2\" >0.7061</td>\n",
       "      <td id=\"T_a1eab_row7_col3\" class=\"data row7 col3\" >0.7416</td>\n",
       "      <td id=\"T_a1eab_row7_col4\" class=\"data row7 col4\" >0.7234</td>\n",
       "      <td id=\"T_a1eab_row7_col5\" class=\"data row7 col5\" >0.4600</td>\n",
       "      <td id=\"T_a1eab_row7_col6\" class=\"data row7 col6\" >0.4605</td>\n",
       "    </tr>\n",
       "    <tr>\n",
       "      <th id=\"T_a1eab_level0_row8\" class=\"row_heading level0 row8\" >8</th>\n",
       "      <td id=\"T_a1eab_row8_col0\" class=\"data row8 col0\" >0.7327</td>\n",
       "      <td id=\"T_a1eab_row8_col1\" class=\"data row8 col1\" >0.8182</td>\n",
       "      <td id=\"T_a1eab_row8_col2\" class=\"data row8 col2\" >0.6947</td>\n",
       "      <td id=\"T_a1eab_row8_col3\" class=\"data row8 col3\" >0.7518</td>\n",
       "      <td id=\"T_a1eab_row8_col4\" class=\"data row8 col4\" >0.7221</td>\n",
       "      <td id=\"T_a1eab_row8_col5\" class=\"data row8 col5\" >0.4654</td>\n",
       "      <td id=\"T_a1eab_row8_col6\" class=\"data row8 col6\" >0.4667</td>\n",
       "    </tr>\n",
       "    <tr>\n",
       "      <th id=\"T_a1eab_level0_row9\" class=\"row_heading level0 row9\" >9</th>\n",
       "      <td id=\"T_a1eab_row9_col0\" class=\"data row9 col0\" >0.7270</td>\n",
       "      <td id=\"T_a1eab_row9_col1\" class=\"data row9 col1\" >0.8125</td>\n",
       "      <td id=\"T_a1eab_row9_col2\" class=\"data row9 col2\" >0.6996</td>\n",
       "      <td id=\"T_a1eab_row9_col3\" class=\"data row9 col3\" >0.7402</td>\n",
       "      <td id=\"T_a1eab_row9_col4\" class=\"data row9 col4\" >0.7193</td>\n",
       "      <td id=\"T_a1eab_row9_col5\" class=\"data row9 col5\" >0.4540</td>\n",
       "      <td id=\"T_a1eab_row9_col6\" class=\"data row9 col6\" >0.4547</td>\n",
       "    </tr>\n",
       "    <tr>\n",
       "      <th id=\"T_a1eab_level0_row10\" class=\"row_heading level0 row10\" >Mean</th>\n",
       "      <td id=\"T_a1eab_row10_col0\" class=\"data row10 col0\" >0.7309</td>\n",
       "      <td id=\"T_a1eab_row10_col1\" class=\"data row10 col1\" >0.8156</td>\n",
       "      <td id=\"T_a1eab_row10_col2\" class=\"data row10 col2\" >0.7005</td>\n",
       "      <td id=\"T_a1eab_row10_col3\" class=\"data row10 col3\" >0.7459</td>\n",
       "      <td id=\"T_a1eab_row10_col4\" class=\"data row10 col4\" >0.7225</td>\n",
       "      <td id=\"T_a1eab_row10_col5\" class=\"data row10 col5\" >0.4619</td>\n",
       "      <td id=\"T_a1eab_row10_col6\" class=\"data row10 col6\" >0.4627</td>\n",
       "    </tr>\n",
       "    <tr>\n",
       "      <th id=\"T_a1eab_level0_row11\" class=\"row_heading level0 row11\" >Std</th>\n",
       "      <td id=\"T_a1eab_row11_col0\" class=\"data row11 col0\" >0.0024</td>\n",
       "      <td id=\"T_a1eab_row11_col1\" class=\"data row11 col1\" >0.0020</td>\n",
       "      <td id=\"T_a1eab_row11_col2\" class=\"data row11 col2\" >0.0039</td>\n",
       "      <td id=\"T_a1eab_row11_col3\" class=\"data row11 col3\" >0.0041</td>\n",
       "      <td id=\"T_a1eab_row11_col4\" class=\"data row11 col4\" >0.0023</td>\n",
       "      <td id=\"T_a1eab_row11_col5\" class=\"data row11 col5\" >0.0049</td>\n",
       "      <td id=\"T_a1eab_row11_col6\" class=\"data row11 col6\" >0.0050</td>\n",
       "    </tr>\n",
       "  </tbody>\n",
       "</table>\n"
      ],
      "text/plain": [
       "<pandas.io.formats.style.Styler at 0x7fbacf260f40>"
      ]
     },
     "metadata": {},
     "output_type": "display_data"
    },
    {
     "data": {
      "application/vnd.jupyter.widget-view+json": {
       "model_id": "",
       "version_major": 2,
       "version_minor": 0
      },
      "text/plain": [
       "Processing:   0%|          | 0/4 [00:00<?, ?it/s]"
      ]
     },
     "metadata": {},
     "output_type": "display_data"
    }
   ],
   "source": [
    "xgboost = create_model('xgboost')"
   ]
  },
  {
   "cell_type": "code",
   "execution_count": 11,
   "id": "14247f0b",
   "metadata": {
    "colab": {
     "base_uri": "https://localhost:8080/",
     "height": 457,
     "referenced_widgets": [
      "70883b2e11084c5487dcc3fc83739ac8",
      "138223814233493c90bd84d6df1ef498",
      "d711b541f6524f9ea4b78bca4300525a",
      "5c047ec3a79044cda58ec9c4055d5cb7",
      "05f4023bfc5e459ca0367c1113ce8a78",
      "fa107af6e4564949830bb522486f5123",
      "8ac9f686c0c1429097628886b33393bd",
      "55de66cb488c4b0e875166047ebc2ff7",
      "5b179a0da6b64627b3f9186b3d9196c9",
      "cf0f1f1f93a145b4ad83dddc2ab69677",
      "e8f321e3381b4384888709a9ed87ddbf"
     ]
    },
    "executionInfo": {
     "elapsed": 264756,
     "status": "ok",
     "timestamp": 1699316550659,
     "user": {
      "displayName": "Badreddine Ben Nouma",
      "userId": "17693698400336640468"
     },
     "user_tz": 300
    },
    "id": "14247f0b",
    "outputId": "b9a7bae0-990f-4b9b-bfc1-9774e1e58706"
   },
   "outputs": [
    {
     "data": {
      "text/html": [],
      "text/plain": [
       "<IPython.core.display.HTML object>"
      ]
     },
     "metadata": {},
     "output_type": "display_data"
    },
    {
     "data": {
      "text/html": [
       "<style type=\"text/css\">\n",
       "#T_5b88e_row10_col0, #T_5b88e_row10_col1, #T_5b88e_row10_col2, #T_5b88e_row10_col3, #T_5b88e_row10_col4, #T_5b88e_row10_col5, #T_5b88e_row10_col6 {\n",
       "  background: yellow;\n",
       "}\n",
       "</style>\n",
       "<table id=\"T_5b88e\" class=\"dataframe\">\n",
       "  <thead>\n",
       "    <tr>\n",
       "      <th class=\"blank level0\" >&nbsp;</th>\n",
       "      <th id=\"T_5b88e_level0_col0\" class=\"col_heading level0 col0\" >Accuracy</th>\n",
       "      <th id=\"T_5b88e_level0_col1\" class=\"col_heading level0 col1\" >AUC</th>\n",
       "      <th id=\"T_5b88e_level0_col2\" class=\"col_heading level0 col2\" >Recall</th>\n",
       "      <th id=\"T_5b88e_level0_col3\" class=\"col_heading level0 col3\" >Prec.</th>\n",
       "      <th id=\"T_5b88e_level0_col4\" class=\"col_heading level0 col4\" >F1</th>\n",
       "      <th id=\"T_5b88e_level0_col5\" class=\"col_heading level0 col5\" >Kappa</th>\n",
       "      <th id=\"T_5b88e_level0_col6\" class=\"col_heading level0 col6\" >MCC</th>\n",
       "    </tr>\n",
       "    <tr>\n",
       "      <th class=\"index_name level0\" >Fold</th>\n",
       "      <th class=\"blank col0\" >&nbsp;</th>\n",
       "      <th class=\"blank col1\" >&nbsp;</th>\n",
       "      <th class=\"blank col2\" >&nbsp;</th>\n",
       "      <th class=\"blank col3\" >&nbsp;</th>\n",
       "      <th class=\"blank col4\" >&nbsp;</th>\n",
       "      <th class=\"blank col5\" >&nbsp;</th>\n",
       "      <th class=\"blank col6\" >&nbsp;</th>\n",
       "    </tr>\n",
       "  </thead>\n",
       "  <tbody>\n",
       "    <tr>\n",
       "      <th id=\"T_5b88e_level0_row0\" class=\"row_heading level0 row0\" >0</th>\n",
       "      <td id=\"T_5b88e_row0_col0\" class=\"data row0 col0\" >0.7312</td>\n",
       "      <td id=\"T_5b88e_row0_col1\" class=\"data row0 col1\" >0.8151</td>\n",
       "      <td id=\"T_5b88e_row0_col2\" class=\"data row0 col2\" >0.6961</td>\n",
       "      <td id=\"T_5b88e_row0_col3\" class=\"data row0 col3\" >0.7487</td>\n",
       "      <td id=\"T_5b88e_row0_col4\" class=\"data row0 col4\" >0.7215</td>\n",
       "      <td id=\"T_5b88e_row0_col5\" class=\"data row0 col5\" >0.4625</td>\n",
       "      <td id=\"T_5b88e_row0_col6\" class=\"data row0 col6\" >0.4636</td>\n",
       "    </tr>\n",
       "    <tr>\n",
       "      <th id=\"T_5b88e_level0_row1\" class=\"row_heading level0 row1\" >1</th>\n",
       "      <td id=\"T_5b88e_row1_col0\" class=\"data row1 col0\" >0.7304</td>\n",
       "      <td id=\"T_5b88e_row1_col1\" class=\"data row1 col1\" >0.8133</td>\n",
       "      <td id=\"T_5b88e_row1_col2\" class=\"data row1 col2\" >0.6946</td>\n",
       "      <td id=\"T_5b88e_row1_col3\" class=\"data row1 col3\" >0.7481</td>\n",
       "      <td id=\"T_5b88e_row1_col4\" class=\"data row1 col4\" >0.7204</td>\n",
       "      <td id=\"T_5b88e_row1_col5\" class=\"data row1 col5\" >0.4608</td>\n",
       "      <td id=\"T_5b88e_row1_col6\" class=\"data row1 col6\" >0.4619</td>\n",
       "    </tr>\n",
       "    <tr>\n",
       "      <th id=\"T_5b88e_level0_row2\" class=\"row_heading level0 row2\" >2</th>\n",
       "      <td id=\"T_5b88e_row2_col0\" class=\"data row2 col0\" >0.7257</td>\n",
       "      <td id=\"T_5b88e_row2_col1\" class=\"data row2 col1\" >0.8109</td>\n",
       "      <td id=\"T_5b88e_row2_col2\" class=\"data row2 col2\" >0.6946</td>\n",
       "      <td id=\"T_5b88e_row2_col3\" class=\"data row2 col3\" >0.7406</td>\n",
       "      <td id=\"T_5b88e_row2_col4\" class=\"data row2 col4\" >0.7169</td>\n",
       "      <td id=\"T_5b88e_row2_col5\" class=\"data row2 col5\" >0.4513</td>\n",
       "      <td id=\"T_5b88e_row2_col6\" class=\"data row2 col6\" >0.4522</td>\n",
       "    </tr>\n",
       "    <tr>\n",
       "      <th id=\"T_5b88e_level0_row3\" class=\"row_heading level0 row3\" >3</th>\n",
       "      <td id=\"T_5b88e_row3_col0\" class=\"data row3 col0\" >0.7327</td>\n",
       "      <td id=\"T_5b88e_row3_col1\" class=\"data row3 col1\" >0.8184</td>\n",
       "      <td id=\"T_5b88e_row3_col2\" class=\"data row3 col2\" >0.6947</td>\n",
       "      <td id=\"T_5b88e_row3_col3\" class=\"data row3 col3\" >0.7518</td>\n",
       "      <td id=\"T_5b88e_row3_col4\" class=\"data row3 col4\" >0.7221</td>\n",
       "      <td id=\"T_5b88e_row3_col5\" class=\"data row3 col5\" >0.4654</td>\n",
       "      <td id=\"T_5b88e_row3_col6\" class=\"data row3 col6\" >0.4668</td>\n",
       "    </tr>\n",
       "    <tr>\n",
       "      <th id=\"T_5b88e_level0_row4\" class=\"row_heading level0 row4\" >4</th>\n",
       "      <td id=\"T_5b88e_row4_col0\" class=\"data row4 col0\" >0.7283</td>\n",
       "      <td id=\"T_5b88e_row4_col1\" class=\"data row4 col1\" >0.8117</td>\n",
       "      <td id=\"T_5b88e_row4_col2\" class=\"data row4 col2\" >0.6936</td>\n",
       "      <td id=\"T_5b88e_row4_col3\" class=\"data row4 col3\" >0.7452</td>\n",
       "      <td id=\"T_5b88e_row4_col4\" class=\"data row4 col4\" >0.7185</td>\n",
       "      <td id=\"T_5b88e_row4_col5\" class=\"data row4 col5\" >0.4565</td>\n",
       "      <td id=\"T_5b88e_row4_col6\" class=\"data row4 col6\" >0.4576</td>\n",
       "    </tr>\n",
       "    <tr>\n",
       "      <th id=\"T_5b88e_level0_row5\" class=\"row_heading level0 row5\" >5</th>\n",
       "      <td id=\"T_5b88e_row5_col0\" class=\"data row5 col0\" >0.7270</td>\n",
       "      <td id=\"T_5b88e_row5_col1\" class=\"data row5 col1\" >0.8087</td>\n",
       "      <td id=\"T_5b88e_row5_col2\" class=\"data row5 col2\" >0.6936</td>\n",
       "      <td id=\"T_5b88e_row5_col3\" class=\"data row5 col3\" >0.7433</td>\n",
       "      <td id=\"T_5b88e_row5_col4\" class=\"data row5 col4\" >0.7176</td>\n",
       "      <td id=\"T_5b88e_row5_col5\" class=\"data row5 col5\" >0.4541</td>\n",
       "      <td id=\"T_5b88e_row5_col6\" class=\"data row5 col6\" >0.4551</td>\n",
       "    </tr>\n",
       "    <tr>\n",
       "      <th id=\"T_5b88e_level0_row6\" class=\"row_heading level0 row6\" >6</th>\n",
       "      <td id=\"T_5b88e_row6_col0\" class=\"data row6 col0\" >0.7260</td>\n",
       "      <td id=\"T_5b88e_row6_col1\" class=\"data row6 col1\" >0.8109</td>\n",
       "      <td id=\"T_5b88e_row6_col2\" class=\"data row6 col2\" >0.6970</td>\n",
       "      <td id=\"T_5b88e_row6_col3\" class=\"data row6 col3\" >0.7398</td>\n",
       "      <td id=\"T_5b88e_row6_col4\" class=\"data row6 col4\" >0.7178</td>\n",
       "      <td id=\"T_5b88e_row6_col5\" class=\"data row6 col5\" >0.4519</td>\n",
       "      <td id=\"T_5b88e_row6_col6\" class=\"data row6 col6\" >0.4527</td>\n",
       "    </tr>\n",
       "    <tr>\n",
       "      <th id=\"T_5b88e_level0_row7\" class=\"row_heading level0 row7\" >7</th>\n",
       "      <td id=\"T_5b88e_row7_col0\" class=\"data row7 col0\" >0.7280</td>\n",
       "      <td id=\"T_5b88e_row7_col1\" class=\"data row7 col1\" >0.8131</td>\n",
       "      <td id=\"T_5b88e_row7_col2\" class=\"data row7 col2\" >0.6921</td>\n",
       "      <td id=\"T_5b88e_row7_col3\" class=\"data row7 col3\" >0.7456</td>\n",
       "      <td id=\"T_5b88e_row7_col4\" class=\"data row7 col4\" >0.7179</td>\n",
       "      <td id=\"T_5b88e_row7_col5\" class=\"data row7 col5\" >0.4559</td>\n",
       "      <td id=\"T_5b88e_row7_col6\" class=\"data row7 col6\" >0.4571</td>\n",
       "    </tr>\n",
       "    <tr>\n",
       "      <th id=\"T_5b88e_level0_row8\" class=\"row_heading level0 row8\" >8</th>\n",
       "      <td id=\"T_5b88e_row8_col0\" class=\"data row8 col0\" >0.7291</td>\n",
       "      <td id=\"T_5b88e_row8_col1\" class=\"data row8 col1\" >0.8130</td>\n",
       "      <td id=\"T_5b88e_row8_col2\" class=\"data row8 col2\" >0.6920</td>\n",
       "      <td id=\"T_5b88e_row8_col3\" class=\"data row8 col3\" >0.7475</td>\n",
       "      <td id=\"T_5b88e_row8_col4\" class=\"data row8 col4\" >0.7187</td>\n",
       "      <td id=\"T_5b88e_row8_col5\" class=\"data row8 col5\" >0.4583</td>\n",
       "      <td id=\"T_5b88e_row8_col6\" class=\"data row8 col6\" >0.4595</td>\n",
       "    </tr>\n",
       "    <tr>\n",
       "      <th id=\"T_5b88e_level0_row9\" class=\"row_heading level0 row9\" >9</th>\n",
       "      <td id=\"T_5b88e_row9_col0\" class=\"data row9 col0\" >0.7321</td>\n",
       "      <td id=\"T_5b88e_row9_col1\" class=\"data row9 col1\" >0.8174</td>\n",
       "      <td id=\"T_5b88e_row9_col2\" class=\"data row9 col2\" >0.6962</td>\n",
       "      <td id=\"T_5b88e_row9_col3\" class=\"data row9 col3\" >0.7501</td>\n",
       "      <td id=\"T_5b88e_row9_col4\" class=\"data row9 col4\" >0.7221</td>\n",
       "      <td id=\"T_5b88e_row9_col5\" class=\"data row9 col5\" >0.4642</td>\n",
       "      <td id=\"T_5b88e_row9_col6\" class=\"data row9 col6\" >0.4654</td>\n",
       "    </tr>\n",
       "    <tr>\n",
       "      <th id=\"T_5b88e_level0_row10\" class=\"row_heading level0 row10\" >Mean</th>\n",
       "      <td id=\"T_5b88e_row10_col0\" class=\"data row10 col0\" >0.7290</td>\n",
       "      <td id=\"T_5b88e_row10_col1\" class=\"data row10 col1\" >0.8133</td>\n",
       "      <td id=\"T_5b88e_row10_col2\" class=\"data row10 col2\" >0.6945</td>\n",
       "      <td id=\"T_5b88e_row10_col3\" class=\"data row10 col3\" >0.7461</td>\n",
       "      <td id=\"T_5b88e_row10_col4\" class=\"data row10 col4\" >0.7193</td>\n",
       "      <td id=\"T_5b88e_row10_col5\" class=\"data row10 col5\" >0.4581</td>\n",
       "      <td id=\"T_5b88e_row10_col6\" class=\"data row10 col6\" >0.4592</td>\n",
       "    </tr>\n",
       "    <tr>\n",
       "      <th id=\"T_5b88e_level0_row11\" class=\"row_heading level0 row11\" >Std</th>\n",
       "      <td id=\"T_5b88e_row11_col0\" class=\"data row11 col0\" >0.0024</td>\n",
       "      <td id=\"T_5b88e_row11_col1\" class=\"data row11 col1\" >0.0028</td>\n",
       "      <td id=\"T_5b88e_row11_col2\" class=\"data row11 col2\" >0.0016</td>\n",
       "      <td id=\"T_5b88e_row11_col3\" class=\"data row11 col3\" >0.0037</td>\n",
       "      <td id=\"T_5b88e_row11_col4\" class=\"data row11 col4\" >0.0019</td>\n",
       "      <td id=\"T_5b88e_row11_col5\" class=\"data row11 col5\" >0.0047</td>\n",
       "      <td id=\"T_5b88e_row11_col6\" class=\"data row11 col6\" >0.0049</td>\n",
       "    </tr>\n",
       "  </tbody>\n",
       "</table>\n"
      ],
      "text/plain": [
       "<pandas.io.formats.style.Styler at 0x7d3064250a30>"
      ]
     },
     "metadata": {},
     "output_type": "display_data"
    },
    {
     "data": {
      "application/vnd.jupyter.widget-view+json": {
       "model_id": "70883b2e11084c5487dcc3fc83739ac8",
       "version_major": 2,
       "version_minor": 0
      },
      "text/plain": [
       "Processing:   0%|          | 0/4 [00:00<?, ?it/s]"
      ]
     },
     "metadata": {
      "application/vnd.jupyter.widget-view+json": {
       "colab": {
        "custom_widget_manager": {
         "url": "https://ssl.gstatic.com/colaboratory-static/widgets/colab-cdn-widget-manager/b3e629b1971e1542/manager.min.js"
        }
       }
      }
     },
     "output_type": "display_data"
    },
    {
     "data": {
      "text/html": [],
      "text/plain": [
       "<IPython.core.display.HTML object>"
      ]
     },
     "metadata": {},
     "output_type": "display_data"
    }
   ],
   "source": [
    "lightgbm = create_model('lightgbm')"
   ]
  },
  {
   "cell_type": "code",
   "execution_count": null,
   "id": "_UzNYn2yvwDG",
   "metadata": {
    "colab": {
     "base_uri": "https://localhost:8080/",
     "height": 457,
     "referenced_widgets": [
      "adce2fb3be4b460fa9bfadf89d1ee0f3",
      "7d6cd8027e0e41698a32146fe6bb8c50",
      "15d2076afff544c687089a9e93a3aaf3",
      "c4d0b960ad104276998a0b208ed48fca",
      "46bfe2fba2f3492783e8d687256100ba",
      "a512f83e65864603a7ea5d221437e520",
      "c7bc58dae8ac485497802bb96d68fce6",
      "bcbd385245fc4f7d80e82680d79a648b",
      "c1284445413c479b95c691f4dae10a3f",
      "5dc10e35f1174ceeb3fac60672ee4c50",
      "34fe69a6fd9c450497c72095478c1ae7"
     ]
    },
    "executionInfo": {
     "elapsed": 261645,
     "status": "ok",
     "timestamp": 1699291848283,
     "user": {
      "displayName": "Badreddine Ben Nouma",
      "userId": "17693698400336640468"
     },
     "user_tz": 300
    },
    "id": "_UzNYn2yvwDG",
    "outputId": "252e3986-a6de-4166-f4dc-e2e1518ee779"
   },
   "outputs": [
    {
     "data": {
      "text/html": [],
      "text/plain": [
       "<IPython.core.display.HTML object>"
      ]
     },
     "metadata": {},
     "output_type": "display_data"
    },
    {
     "data": {
      "text/html": [
       "<style type=\"text/css\">\n",
       "#T_4262d_row10_col0, #T_4262d_row10_col1, #T_4262d_row10_col2, #T_4262d_row10_col3, #T_4262d_row10_col4, #T_4262d_row10_col5, #T_4262d_row10_col6 {\n",
       "  background: yellow;\n",
       "}\n",
       "</style>\n",
       "<table id=\"T_4262d\" class=\"dataframe\">\n",
       "  <thead>\n",
       "    <tr>\n",
       "      <th class=\"blank level0\" >&nbsp;</th>\n",
       "      <th id=\"T_4262d_level0_col0\" class=\"col_heading level0 col0\" >Accuracy</th>\n",
       "      <th id=\"T_4262d_level0_col1\" class=\"col_heading level0 col1\" >AUC</th>\n",
       "      <th id=\"T_4262d_level0_col2\" class=\"col_heading level0 col2\" >Recall</th>\n",
       "      <th id=\"T_4262d_level0_col3\" class=\"col_heading level0 col3\" >Prec.</th>\n",
       "      <th id=\"T_4262d_level0_col4\" class=\"col_heading level0 col4\" >F1</th>\n",
       "      <th id=\"T_4262d_level0_col5\" class=\"col_heading level0 col5\" >Kappa</th>\n",
       "      <th id=\"T_4262d_level0_col6\" class=\"col_heading level0 col6\" >MCC</th>\n",
       "    </tr>\n",
       "    <tr>\n",
       "      <th class=\"index_name level0\" >Fold</th>\n",
       "      <th class=\"blank col0\" >&nbsp;</th>\n",
       "      <th class=\"blank col1\" >&nbsp;</th>\n",
       "      <th class=\"blank col2\" >&nbsp;</th>\n",
       "      <th class=\"blank col3\" >&nbsp;</th>\n",
       "      <th class=\"blank col4\" >&nbsp;</th>\n",
       "      <th class=\"blank col5\" >&nbsp;</th>\n",
       "      <th class=\"blank col6\" >&nbsp;</th>\n",
       "    </tr>\n",
       "  </thead>\n",
       "  <tbody>\n",
       "    <tr>\n",
       "      <th id=\"T_4262d_level0_row0\" class=\"row_heading level0 row0\" >0</th>\n",
       "      <td id=\"T_4262d_row0_col0\" class=\"data row0 col0\" >0.7230</td>\n",
       "      <td id=\"T_4262d_row0_col1\" class=\"data row0 col1\" >0.8034</td>\n",
       "      <td id=\"T_4262d_row0_col2\" class=\"data row0 col2\" >0.6921</td>\n",
       "      <td id=\"T_4262d_row0_col3\" class=\"data row0 col3\" >0.7377</td>\n",
       "      <td id=\"T_4262d_row0_col4\" class=\"data row0 col4\" >0.7142</td>\n",
       "      <td id=\"T_4262d_row0_col5\" class=\"data row0 col5\" >0.4460</td>\n",
       "      <td id=\"T_4262d_row0_col6\" class=\"data row0 col6\" >0.4469</td>\n",
       "    </tr>\n",
       "    <tr>\n",
       "      <th id=\"T_4262d_level0_row1\" class=\"row_heading level0 row1\" >1</th>\n",
       "      <td id=\"T_4262d_row1_col0\" class=\"data row1 col0\" >0.7198</td>\n",
       "      <td id=\"T_4262d_row1_col1\" class=\"data row1 col1\" >0.7952</td>\n",
       "      <td id=\"T_4262d_row1_col2\" class=\"data row1 col2\" >0.6899</td>\n",
       "      <td id=\"T_4262d_row1_col3\" class=\"data row1 col3\" >0.7338</td>\n",
       "      <td id=\"T_4262d_row1_col4\" class=\"data row1 col4\" >0.7112</td>\n",
       "      <td id=\"T_4262d_row1_col5\" class=\"data row1 col5\" >0.4396</td>\n",
       "      <td id=\"T_4262d_row1_col6\" class=\"data row1 col6\" >0.4404</td>\n",
       "    </tr>\n",
       "    <tr>\n",
       "      <th id=\"T_4262d_level0_row2\" class=\"row_heading level0 row2\" >2</th>\n",
       "      <td id=\"T_4262d_row2_col0\" class=\"data row2 col0\" >0.7164</td>\n",
       "      <td id=\"T_4262d_row2_col1\" class=\"data row2 col1\" >0.7950</td>\n",
       "      <td id=\"T_4262d_row2_col2\" class=\"data row2 col2\" >0.6742</td>\n",
       "      <td id=\"T_4262d_row2_col3\" class=\"data row2 col3\" >0.7363</td>\n",
       "      <td id=\"T_4262d_row2_col4\" class=\"data row2 col4\" >0.7039</td>\n",
       "      <td id=\"T_4262d_row2_col5\" class=\"data row2 col5\" >0.4327</td>\n",
       "      <td id=\"T_4262d_row2_col6\" class=\"data row2 col6\" >0.4343</td>\n",
       "    </tr>\n",
       "    <tr>\n",
       "      <th id=\"T_4262d_level0_row3\" class=\"row_heading level0 row3\" >3</th>\n",
       "      <td id=\"T_4262d_row3_col0\" class=\"data row3 col0\" >0.7182</td>\n",
       "      <td id=\"T_4262d_row3_col1\" class=\"data row3 col1\" >0.7950</td>\n",
       "      <td id=\"T_4262d_row3_col2\" class=\"data row3 col2\" >0.6776</td>\n",
       "      <td id=\"T_4262d_row3_col3\" class=\"data row3 col3\" >0.7375</td>\n",
       "      <td id=\"T_4262d_row3_col4\" class=\"data row3 col4\" >0.7063</td>\n",
       "      <td id=\"T_4262d_row3_col5\" class=\"data row3 col5\" >0.4364</td>\n",
       "      <td id=\"T_4262d_row3_col6\" class=\"data row3 col6\" >0.4379</td>\n",
       "    </tr>\n",
       "    <tr>\n",
       "      <th id=\"T_4262d_level0_row4\" class=\"row_heading level0 row4\" >4</th>\n",
       "      <td id=\"T_4262d_row4_col0\" class=\"data row4 col0\" >0.7207</td>\n",
       "      <td id=\"T_4262d_row4_col1\" class=\"data row4 col1\" >0.8006</td>\n",
       "      <td id=\"T_4262d_row4_col2\" class=\"data row4 col2\" >0.6892</td>\n",
       "      <td id=\"T_4262d_row4_col3\" class=\"data row4 col3\" >0.7355</td>\n",
       "      <td id=\"T_4262d_row4_col4\" class=\"data row4 col4\" >0.7116</td>\n",
       "      <td id=\"T_4262d_row4_col5\" class=\"data row4 col5\" >0.4413</td>\n",
       "      <td id=\"T_4262d_row4_col6\" class=\"data row4 col6\" >0.4422</td>\n",
       "    </tr>\n",
       "    <tr>\n",
       "      <th id=\"T_4262d_level0_row5\" class=\"row_heading level0 row5\" >5</th>\n",
       "      <td id=\"T_4262d_row5_col0\" class=\"data row5 col0\" >0.7242</td>\n",
       "      <td id=\"T_4262d_row5_col1\" class=\"data row5 col1\" >0.8009</td>\n",
       "      <td id=\"T_4262d_row5_col2\" class=\"data row5 col2\" >0.6860</td>\n",
       "      <td id=\"T_4262d_row5_col3\" class=\"data row5 col3\" >0.7428</td>\n",
       "      <td id=\"T_4262d_row5_col4\" class=\"data row5 col4\" >0.7132</td>\n",
       "      <td id=\"T_4262d_row5_col5\" class=\"data row5 col5\" >0.4484</td>\n",
       "      <td id=\"T_4262d_row5_col6\" class=\"data row5 col6\" >0.4498</td>\n",
       "    </tr>\n",
       "    <tr>\n",
       "      <th id=\"T_4262d_level0_row6\" class=\"row_heading level0 row6\" >6</th>\n",
       "      <td id=\"T_4262d_row6_col0\" class=\"data row6 col0\" >0.7163</td>\n",
       "      <td id=\"T_4262d_row6_col1\" class=\"data row6 col1\" >0.7957</td>\n",
       "      <td id=\"T_4262d_row6_col2\" class=\"data row6 col2\" >0.6719</td>\n",
       "      <td id=\"T_4262d_row6_col3\" class=\"data row6 col3\" >0.7374</td>\n",
       "      <td id=\"T_4262d_row6_col4\" class=\"data row6 col4\" >0.7031</td>\n",
       "      <td id=\"T_4262d_row6_col5\" class=\"data row6 col5\" >0.4326</td>\n",
       "      <td id=\"T_4262d_row6_col6\" class=\"data row6 col6\" >0.4343</td>\n",
       "    </tr>\n",
       "    <tr>\n",
       "      <th id=\"T_4262d_level0_row7\" class=\"row_heading level0 row7\" >7</th>\n",
       "      <td id=\"T_4262d_row7_col0\" class=\"data row7 col0\" >0.7180</td>\n",
       "      <td id=\"T_4262d_row7_col1\" class=\"data row7 col1\" >0.7995</td>\n",
       "      <td id=\"T_4262d_row7_col2\" class=\"data row7 col2\" >0.6848</td>\n",
       "      <td id=\"T_4262d_row7_col3\" class=\"data row7 col3\" >0.7335</td>\n",
       "      <td id=\"T_4262d_row7_col4\" class=\"data row7 col4\" >0.7083</td>\n",
       "      <td id=\"T_4262d_row7_col5\" class=\"data row7 col5\" >0.4360</td>\n",
       "      <td id=\"T_4262d_row7_col6\" class=\"data row7 col6\" >0.4370</td>\n",
       "    </tr>\n",
       "    <tr>\n",
       "      <th id=\"T_4262d_level0_row8\" class=\"row_heading level0 row8\" >8</th>\n",
       "      <td id=\"T_4262d_row8_col0\" class=\"data row8 col0\" >0.7191</td>\n",
       "      <td id=\"T_4262d_row8_col1\" class=\"data row8 col1\" >0.7956</td>\n",
       "      <td id=\"T_4262d_row8_col2\" class=\"data row8 col2\" >0.6859</td>\n",
       "      <td id=\"T_4262d_row8_col3\" class=\"data row8 col3\" >0.7346</td>\n",
       "      <td id=\"T_4262d_row8_col4\" class=\"data row8 col4\" >0.7094</td>\n",
       "      <td id=\"T_4262d_row8_col5\" class=\"data row8 col5\" >0.4381</td>\n",
       "      <td id=\"T_4262d_row8_col6\" class=\"data row8 col6\" >0.4391</td>\n",
       "    </tr>\n",
       "    <tr>\n",
       "      <th id=\"T_4262d_level0_row9\" class=\"row_heading level0 row9\" >9</th>\n",
       "      <td id=\"T_4262d_row9_col0\" class=\"data row9 col0\" >0.7140</td>\n",
       "      <td id=\"T_4262d_row9_col1\" class=\"data row9 col1\" >0.7952</td>\n",
       "      <td id=\"T_4262d_row9_col2\" class=\"data row9 col2\" >0.6789</td>\n",
       "      <td id=\"T_4262d_row9_col3\" class=\"data row9 col3\" >0.7302</td>\n",
       "      <td id=\"T_4262d_row9_col4\" class=\"data row9 col4\" >0.7036</td>\n",
       "      <td id=\"T_4262d_row9_col5\" class=\"data row9 col5\" >0.4280</td>\n",
       "      <td id=\"T_4262d_row9_col6\" class=\"data row9 col6\" >0.4291</td>\n",
       "    </tr>\n",
       "    <tr>\n",
       "      <th id=\"T_4262d_level0_row10\" class=\"row_heading level0 row10\" >Mean</th>\n",
       "      <td id=\"T_4262d_row10_col0\" class=\"data row10 col0\" >0.7190</td>\n",
       "      <td id=\"T_4262d_row10_col1\" class=\"data row10 col1\" >0.7976</td>\n",
       "      <td id=\"T_4262d_row10_col2\" class=\"data row10 col2\" >0.6830</td>\n",
       "      <td id=\"T_4262d_row10_col3\" class=\"data row10 col3\" >0.7359</td>\n",
       "      <td id=\"T_4262d_row10_col4\" class=\"data row10 col4\" >0.7085</td>\n",
       "      <td id=\"T_4262d_row10_col5\" class=\"data row10 col5\" >0.4379</td>\n",
       "      <td id=\"T_4262d_row10_col6\" class=\"data row10 col6\" >0.4391</td>\n",
       "    </tr>\n",
       "    <tr>\n",
       "      <th id=\"T_4262d_level0_row11\" class=\"row_heading level0 row11\" >Std</th>\n",
       "      <td id=\"T_4262d_row11_col0\" class=\"data row11 col0\" >0.0030</td>\n",
       "      <td id=\"T_4262d_row11_col1\" class=\"data row11 col1\" >0.0030</td>\n",
       "      <td id=\"T_4262d_row11_col2\" class=\"data row11 col2\" >0.0066</td>\n",
       "      <td id=\"T_4262d_row11_col3\" class=\"data row11 col3\" >0.0032</td>\n",
       "      <td id=\"T_4262d_row11_col4\" class=\"data row11 col4\" >0.0039</td>\n",
       "      <td id=\"T_4262d_row11_col5\" class=\"data row11 col5\" >0.0059</td>\n",
       "      <td id=\"T_4262d_row11_col6\" class=\"data row11 col6\" >0.0058</td>\n",
       "    </tr>\n",
       "  </tbody>\n",
       "</table>\n"
      ],
      "text/plain": [
       "<pandas.io.formats.style.Styler at 0x7de91082ed70>"
      ]
     },
     "metadata": {},
     "output_type": "display_data"
    },
    {
     "data": {
      "application/vnd.jupyter.widget-view+json": {
       "model_id": "adce2fb3be4b460fa9bfadf89d1ee0f3",
       "version_major": 2,
       "version_minor": 0
      },
      "text/plain": [
       "Processing:   0%|          | 0/4 [00:00<?, ?it/s]"
      ]
     },
     "metadata": {
      "application/vnd.jupyter.widget-view+json": {
       "colab": {
        "custom_widget_manager": {
         "url": "https://ssl.gstatic.com/colaboratory-static/widgets/colab-cdn-widget-manager/b3e629b1971e1542/manager.min.js"
        }
       }
      }
     },
     "output_type": "display_data"
    },
    {
     "data": {
      "text/html": [],
      "text/plain": [
       "<IPython.core.display.HTML object>"
      ]
     },
     "metadata": {},
     "output_type": "display_data"
    }
   ],
   "source": [
    "rf = create_model('rf')"
   ]
  },
  {
   "cell_type": "markdown",
   "id": "04772316",
   "metadata": {},
   "source": [
    "## Save the models"
   ]
  },
  {
   "cell_type": "code",
   "execution_count": 1,
   "id": "mZQ2FDwh_6L_",
   "metadata": {
    "colab": {
     "base_uri": "https://localhost:8080/",
     "height": 211
    },
    "executionInfo": {
     "elapsed": 5,
     "status": "error",
     "timestamp": 1699386405900,
     "user": {
      "displayName": "Badreddine Ben Nouma",
      "userId": "17693698400336640468"
     },
     "user_tz": 300
    },
    "id": "mZQ2FDwh_6L_",
    "outputId": "c3b4c632-d955-474b-a3a6-36a1db6ba3ee"
   },
   "outputs": [],
   "source": [
    "save_model(lightgbm, model_name='drive/MyDrive/Colab Notebooks/newforma/lightgbm')\n",
    "save_model(rf, model_name='drive/MyDrive/Colab Notebooks/newforma/rf')\n",
    "save_model(xgboost, model_name='drive/MyDrive/Colab Notebooks/newforma/xgboost')"
   ]
  },
  {
   "cell_type": "markdown",
   "id": "b1c76726",
   "metadata": {
    "id": "b1c76726"
   },
   "source": [
    "# Merging the top 3 models"
   ]
  },
  {
   "cell_type": "code",
   "execution_count": 11,
   "id": "696adb8e",
   "metadata": {
    "colab": {
     "base_uri": "https://localhost:8080/",
     "height": 457,
     "referenced_widgets": [
      "42e3760205384de8a34a8e1acb8ceafc",
      "ec811eef1d9b48a59c5efce9df32e57e",
      "fdce28ac7d90461e96bdeb6e4663fd01",
      "357abce4a03e4b24b8df6b2d5d581214",
      "a3885b65b7a34f13b4ca340741e3f634",
      "675153fbd0164ea88f979f7cdabb7237",
      "787f81cb79f44fd88d05fd6445067491",
      "1a884d76ceef4ae5b969a9841e1dbf70",
      "78c4daa7b41a44bfa9553fecf871677e",
      "ce606ebb57e44d1c8dcf85778ea1fc20",
      "824137155b464f4585edb0a55690d5e5"
     ]
    },
    "executionInfo": {
     "elapsed": 532527,
     "status": "ok",
     "timestamp": 1699380299470,
     "user": {
      "displayName": "Badreddine Ben Nouma",
      "userId": "17693698400336640468"
     },
     "user_tz": 300
    },
    "id": "696adb8e",
    "outputId": "bef256af-4b43-493b-8222-b888fe1cd82a"
   },
   "outputs": [
    {
     "data": {
      "text/html": [],
      "text/plain": [
       "<IPython.core.display.HTML object>"
      ]
     },
     "metadata": {},
     "output_type": "display_data"
    },
    {
     "data": {
      "text/html": [
       "<style type=\"text/css\">\n",
       "#T_42d7d_row10_col0, #T_42d7d_row10_col1, #T_42d7d_row10_col2, #T_42d7d_row10_col3, #T_42d7d_row10_col4, #T_42d7d_row10_col5, #T_42d7d_row10_col6 {\n",
       "  background: yellow;\n",
       "}\n",
       "</style>\n",
       "<table id=\"T_42d7d\" class=\"dataframe\">\n",
       "  <thead>\n",
       "    <tr>\n",
       "      <th class=\"blank level0\" >&nbsp;</th>\n",
       "      <th id=\"T_42d7d_level0_col0\" class=\"col_heading level0 col0\" >Accuracy</th>\n",
       "      <th id=\"T_42d7d_level0_col1\" class=\"col_heading level0 col1\" >AUC</th>\n",
       "      <th id=\"T_42d7d_level0_col2\" class=\"col_heading level0 col2\" >Recall</th>\n",
       "      <th id=\"T_42d7d_level0_col3\" class=\"col_heading level0 col3\" >Prec.</th>\n",
       "      <th id=\"T_42d7d_level0_col4\" class=\"col_heading level0 col4\" >F1</th>\n",
       "      <th id=\"T_42d7d_level0_col5\" class=\"col_heading level0 col5\" >Kappa</th>\n",
       "      <th id=\"T_42d7d_level0_col6\" class=\"col_heading level0 col6\" >MCC</th>\n",
       "    </tr>\n",
       "    <tr>\n",
       "      <th class=\"index_name level0\" >Fold</th>\n",
       "      <th class=\"blank col0\" >&nbsp;</th>\n",
       "      <th class=\"blank col1\" >&nbsp;</th>\n",
       "      <th class=\"blank col2\" >&nbsp;</th>\n",
       "      <th class=\"blank col3\" >&nbsp;</th>\n",
       "      <th class=\"blank col4\" >&nbsp;</th>\n",
       "      <th class=\"blank col5\" >&nbsp;</th>\n",
       "      <th class=\"blank col6\" >&nbsp;</th>\n",
       "    </tr>\n",
       "  </thead>\n",
       "  <tbody>\n",
       "    <tr>\n",
       "      <th id=\"T_42d7d_level0_row0\" class=\"row_heading level0 row0\" >0</th>\n",
       "      <td id=\"T_42d7d_row0_col0\" class=\"data row0 col0\" >0.7345</td>\n",
       "      <td id=\"T_42d7d_row0_col1\" class=\"data row0 col1\" >0.8203</td>\n",
       "      <td id=\"T_42d7d_row0_col2\" class=\"data row0 col2\" >0.6992</td>\n",
       "      <td id=\"T_42d7d_row0_col3\" class=\"data row0 col3\" >0.7524</td>\n",
       "      <td id=\"T_42d7d_row0_col4\" class=\"data row0 col4\" >0.7248</td>\n",
       "      <td id=\"T_42d7d_row0_col5\" class=\"data row0 col5\" >0.4690</td>\n",
       "      <td id=\"T_42d7d_row0_col6\" class=\"data row0 col6\" >0.4702</td>\n",
       "    </tr>\n",
       "    <tr>\n",
       "      <th id=\"T_42d7d_level0_row1\" class=\"row_heading level0 row1\" >1</th>\n",
       "      <td id=\"T_42d7d_row1_col0\" class=\"data row1 col0\" >0.7320</td>\n",
       "      <td id=\"T_42d7d_row1_col1\" class=\"data row1 col1\" >0.8157</td>\n",
       "      <td id=\"T_42d7d_row1_col2\" class=\"data row1 col2\" >0.6915</td>\n",
       "      <td id=\"T_42d7d_row1_col3\" class=\"data row1 col3\" >0.7524</td>\n",
       "      <td id=\"T_42d7d_row1_col4\" class=\"data row1 col4\" >0.7207</td>\n",
       "      <td id=\"T_42d7d_row1_col5\" class=\"data row1 col5\" >0.4639</td>\n",
       "      <td id=\"T_42d7d_row1_col6\" class=\"data row1 col6\" >0.4655</td>\n",
       "    </tr>\n",
       "    <tr>\n",
       "      <th id=\"T_42d7d_level0_row2\" class=\"row_heading level0 row2\" >2</th>\n",
       "      <td id=\"T_42d7d_row2_col0\" class=\"data row2 col0\" >0.7313</td>\n",
       "      <td id=\"T_42d7d_row2_col1\" class=\"data row2 col1\" >0.8186</td>\n",
       "      <td id=\"T_42d7d_row2_col2\" class=\"data row2 col2\" >0.6858</td>\n",
       "      <td id=\"T_42d7d_row2_col3\" class=\"data row2 col3\" >0.7545</td>\n",
       "      <td id=\"T_42d7d_row2_col4\" class=\"data row2 col4\" >0.7185</td>\n",
       "      <td id=\"T_42d7d_row2_col5\" class=\"data row2 col5\" >0.4627</td>\n",
       "      <td id=\"T_42d7d_row2_col6\" class=\"data row2 col6\" >0.4646</td>\n",
       "    </tr>\n",
       "    <tr>\n",
       "      <th id=\"T_42d7d_level0_row3\" class=\"row_heading level0 row3\" >3</th>\n",
       "      <td id=\"T_42d7d_row3_col0\" class=\"data row3 col0\" >0.7342</td>\n",
       "      <td id=\"T_42d7d_row3_col1\" class=\"data row3 col1\" >0.8190</td>\n",
       "      <td id=\"T_42d7d_row3_col2\" class=\"data row3 col2\" >0.6952</td>\n",
       "      <td id=\"T_42d7d_row3_col3\" class=\"data row3 col3\" >0.7540</td>\n",
       "      <td id=\"T_42d7d_row3_col4\" class=\"data row3 col4\" >0.7234</td>\n",
       "      <td id=\"T_42d7d_row3_col5\" class=\"data row3 col5\" >0.4684</td>\n",
       "      <td id=\"T_42d7d_row3_col6\" class=\"data row3 col6\" >0.4698</td>\n",
       "    </tr>\n",
       "    <tr>\n",
       "      <th id=\"T_42d7d_level0_row4\" class=\"row_heading level0 row4\" >4</th>\n",
       "      <td id=\"T_42d7d_row4_col0\" class=\"data row4 col0\" >0.7327</td>\n",
       "      <td id=\"T_42d7d_row4_col1\" class=\"data row4 col1\" >0.8130</td>\n",
       "      <td id=\"T_42d7d_row4_col2\" class=\"data row4 col2\" >0.6947</td>\n",
       "      <td id=\"T_42d7d_row4_col3\" class=\"data row4 col3\" >0.7518</td>\n",
       "      <td id=\"T_42d7d_row4_col4\" class=\"data row4 col4\" >0.7221</td>\n",
       "      <td id=\"T_42d7d_row4_col5\" class=\"data row4 col5\" >0.4654</td>\n",
       "      <td id=\"T_42d7d_row4_col6\" class=\"data row4 col6\" >0.4668</td>\n",
       "    </tr>\n",
       "    <tr>\n",
       "      <th id=\"T_42d7d_level0_row5\" class=\"row_heading level0 row5\" >5</th>\n",
       "      <td id=\"T_42d7d_row5_col0\" class=\"data row5 col0\" >0.7332</td>\n",
       "      <td id=\"T_42d7d_row5_col1\" class=\"data row5 col1\" >0.8196</td>\n",
       "      <td id=\"T_42d7d_row5_col2\" class=\"data row5 col2\" >0.6982</td>\n",
       "      <td id=\"T_42d7d_row5_col3\" class=\"data row5 col3\" >0.7507</td>\n",
       "      <td id=\"T_42d7d_row5_col4\" class=\"data row5 col4\" >0.7235</td>\n",
       "      <td id=\"T_42d7d_row5_col5\" class=\"data row5 col5\" >0.4664</td>\n",
       "      <td id=\"T_42d7d_row5_col6\" class=\"data row5 col6\" >0.4675</td>\n",
       "    </tr>\n",
       "    <tr>\n",
       "      <th id=\"T_42d7d_level0_row6\" class=\"row_heading level0 row6\" >6</th>\n",
       "      <td id=\"T_42d7d_row6_col0\" class=\"data row6 col0\" >0.7365</td>\n",
       "      <td id=\"T_42d7d_row6_col1\" class=\"data row6 col1\" >0.8222</td>\n",
       "      <td id=\"T_42d7d_row6_col2\" class=\"data row6 col2\" >0.7005</td>\n",
       "      <td id=\"T_42d7d_row6_col3\" class=\"data row6 col3\" >0.7548</td>\n",
       "      <td id=\"T_42d7d_row6_col4\" class=\"data row6 col4\" >0.7266</td>\n",
       "      <td id=\"T_42d7d_row6_col5\" class=\"data row6 col5\" >0.4729</td>\n",
       "      <td id=\"T_42d7d_row6_col6\" class=\"data row6 col6\" >0.4742</td>\n",
       "    </tr>\n",
       "    <tr>\n",
       "      <th id=\"T_42d7d_level0_row7\" class=\"row_heading level0 row7\" >7</th>\n",
       "      <td id=\"T_42d7d_row7_col0\" class=\"data row7 col0\" >0.7374</td>\n",
       "      <td id=\"T_42d7d_row7_col1\" class=\"data row7 col1\" >0.8236</td>\n",
       "      <td id=\"T_42d7d_row7_col2\" class=\"data row7 col2\" >0.6997</td>\n",
       "      <td id=\"T_42d7d_row7_col3\" class=\"data row7 col3\" >0.7568</td>\n",
       "      <td id=\"T_42d7d_row7_col4\" class=\"data row7 col4\" >0.7271</td>\n",
       "      <td id=\"T_42d7d_row7_col5\" class=\"data row7 col5\" >0.4748</td>\n",
       "      <td id=\"T_42d7d_row7_col6\" class=\"data row7 col6\" >0.4762</td>\n",
       "    </tr>\n",
       "    <tr>\n",
       "      <th id=\"T_42d7d_level0_row8\" class=\"row_heading level0 row8\" >8</th>\n",
       "      <td id=\"T_42d7d_row8_col0\" class=\"data row8 col0\" >0.7365</td>\n",
       "      <td id=\"T_42d7d_row8_col1\" class=\"data row8 col1\" >0.8232</td>\n",
       "      <td id=\"T_42d7d_row8_col2\" class=\"data row8 col2\" >0.7047</td>\n",
       "      <td id=\"T_42d7d_row8_col3\" class=\"data row8 col3\" >0.7525</td>\n",
       "      <td id=\"T_42d7d_row8_col4\" class=\"data row8 col4\" >0.7278</td>\n",
       "      <td id=\"T_42d7d_row8_col5\" class=\"data row8 col5\" >0.4729</td>\n",
       "      <td id=\"T_42d7d_row8_col6\" class=\"data row8 col6\" >0.4739</td>\n",
       "    </tr>\n",
       "    <tr>\n",
       "      <th id=\"T_42d7d_level0_row9\" class=\"row_heading level0 row9\" >9</th>\n",
       "      <td id=\"T_42d7d_row9_col0\" class=\"data row9 col0\" >0.7401</td>\n",
       "      <td id=\"T_42d7d_row9_col1\" class=\"data row9 col1\" >0.8219</td>\n",
       "      <td id=\"T_42d7d_row9_col2\" class=\"data row9 col2\" >0.7028</td>\n",
       "      <td id=\"T_42d7d_row9_col3\" class=\"data row9 col3\" >0.7594</td>\n",
       "      <td id=\"T_42d7d_row9_col4\" class=\"data row9 col4\" >0.7300</td>\n",
       "      <td id=\"T_42d7d_row9_col5\" class=\"data row9 col5\" >0.4801</td>\n",
       "      <td id=\"T_42d7d_row9_col6\" class=\"data row9 col6\" >0.4815</td>\n",
       "    </tr>\n",
       "    <tr>\n",
       "      <th id=\"T_42d7d_level0_row10\" class=\"row_heading level0 row10\" >Mean</th>\n",
       "      <td id=\"T_42d7d_row10_col0\" class=\"data row10 col0\" >0.7348</td>\n",
       "      <td id=\"T_42d7d_row10_col1\" class=\"data row10 col1\" >0.8197</td>\n",
       "      <td id=\"T_42d7d_row10_col2\" class=\"data row10 col2\" >0.6972</td>\n",
       "      <td id=\"T_42d7d_row10_col3\" class=\"data row10 col3\" >0.7539</td>\n",
       "      <td id=\"T_42d7d_row10_col4\" class=\"data row10 col4\" >0.7245</td>\n",
       "      <td id=\"T_42d7d_row10_col5\" class=\"data row10 col5\" >0.4697</td>\n",
       "      <td id=\"T_42d7d_row10_col6\" class=\"data row10 col6\" >0.4710</td>\n",
       "    </tr>\n",
       "    <tr>\n",
       "      <th id=\"T_42d7d_level0_row11\" class=\"row_heading level0 row11\" >Std</th>\n",
       "      <td id=\"T_42d7d_row11_col0\" class=\"data row11 col0\" >0.0026</td>\n",
       "      <td id=\"T_42d7d_row11_col1\" class=\"data row11 col1\" >0.0032</td>\n",
       "      <td id=\"T_42d7d_row11_col2\" class=\"data row11 col2\" >0.0053</td>\n",
       "      <td id=\"T_42d7d_row11_col3\" class=\"data row11 col3\" >0.0025</td>\n",
       "      <td id=\"T_42d7d_row11_col4\" class=\"data row11 col4\" >0.0033</td>\n",
       "      <td id=\"T_42d7d_row11_col5\" class=\"data row11 col5\" >0.0052</td>\n",
       "      <td id=\"T_42d7d_row11_col6\" class=\"data row11 col6\" >0.0051</td>\n",
       "    </tr>\n",
       "  </tbody>\n",
       "</table>\n"
      ],
      "text/plain": [
       "<pandas.io.formats.style.Styler at 0x7ca69960a2f0>"
      ]
     },
     "metadata": {},
     "output_type": "display_data"
    },
    {
     "data": {
      "application/vnd.jupyter.widget-view+json": {
       "model_id": "42e3760205384de8a34a8e1acb8ceafc",
       "version_major": 2,
       "version_minor": 0
      },
      "text/plain": [
       "Processing:   0%|          | 0/6 [00:00<?, ?it/s]"
      ]
     },
     "metadata": {
      "application/vnd.jupyter.widget-view+json": {
       "colab": {
        "custom_widget_manager": {
         "url": "https://ssl.gstatic.com/colaboratory-static/widgets/colab-cdn-widget-manager/b3e629b1971e1542/manager.min.js"
        }
       }
      }
     },
     "output_type": "display_data"
    },
    {
     "data": {
      "text/html": [],
      "text/plain": [
       "<IPython.core.display.HTML object>"
      ]
     },
     "metadata": {},
     "output_type": "display_data"
    }
   ],
   "source": [
    "blended_model = blend_models(estimator_list=[xgboost,lightgbm, rf])"
   ]
  },
  {
   "cell_type": "markdown",
   "id": "7546cca1",
   "metadata": {
    "id": "7546cca1"
   },
   "source": [
    "# Confusion Matrix"
   ]
  },
  {
   "cell_type": "code",
   "execution_count": null,
   "id": "57dbdcbb",
   "metadata": {
    "colab": {
     "base_uri": "https://localhost:8080/",
     "height": 551
    },
    "executionInfo": {
     "elapsed": 7858,
     "status": "ok",
     "timestamp": 1699288052242,
     "user": {
      "displayName": "Badreddine Ben Nouma",
      "userId": "17693698400336640468"
     },
     "user_tz": 300
    },
    "id": "57dbdcbb",
    "outputId": "104845fd-d90d-4628-ac41-d434c31511bf"
   },
   "outputs": [
    {
     "data": {
      "text/html": [],
      "text/plain": [
       "<IPython.core.display.HTML object>"
      ]
     },
     "metadata": {},
     "output_type": "display_data"
    },
    {
     "data": {
      "image/png": "[encoded data removed]",
      "text/plain": [
       "<Figure size 800x550 with 1 Axes>"
      ]
     },
     "metadata": {},
     "output_type": "display_data"
    }
   ],
   "source": [
    "plot_model(estimator = blended_model, plot = 'confusion_matrix')"
   ]
  },
  {
   "cell_type": "markdown",
   "id": "f96f0464",
   "metadata": {
    "id": "f96f0464"
   },
   "source": [
    "# ROC curve"
   ]
  },
  {
   "cell_type": "code",
   "execution_count": null,
   "id": "149ab1d5",
   "metadata": {
    "colab": {
     "base_uri": "https://localhost:8080/",
     "height": 524
    },
    "executionInfo": {
     "elapsed": 5409,
     "status": "ok",
     "timestamp": 1699288072706,
     "user": {
      "displayName": "Badreddine Ben Nouma",
      "userId": "17693698400336640468"
     },
     "user_tz": 300
    },
    "id": "149ab1d5",
    "outputId": "c4f8d033-8dd9-4858-a7ca-ac338b816f9e"
   },
   "outputs": [
    {
     "data": {
      "text/html": [],
      "text/plain": [
       "<IPython.core.display.HTML object>"
      ]
     },
     "metadata": {},
     "output_type": "display_data"
    },
    {
     "data": {
      "image/png": "[encoded data removed]",
      "text/plain": [
       "<Figure size 800x550 with 1 Axes>"
      ]
     },
     "metadata": {},
     "output_type": "display_data"
    }
   ],
   "source": [
    "plot_model(estimator = blended_model, plot = 'auc')"
   ]
  },
  {
   "cell_type": "markdown",
   "id": "71d714fe",
   "metadata": {
    "id": "71d714fe"
   },
   "source": [
    "# Features importance"
   ]
  },
  {
   "cell_type": "code",
   "execution_count": null,
   "id": "4fd6180c",
   "metadata": {
    "id": "4fd6180c"
   },
   "outputs": [],
   "source": [
    "# Feature Importance is not supported for this specific blended model. I assume that it is because of the exstence of xgboost model\n",
    "# plot_model(estimator = blended_model, plot = 'feature')"
   ]
  },
  {
   "cell_type": "markdown",
   "id": "be5f87e4",
   "metadata": {
    "id": "be5f87e4"
   },
   "source": [
    "# Evaluate the blended model"
   ]
  },
  {
   "cell_type": "code",
   "execution_count": null,
   "id": "2bd5dc40",
   "metadata": {
    "colab": {
     "base_uri": "https://localhost:8080/",
     "height": 209,
     "referenced_widgets": [
      "6053fc98760b443e92648b50df92d917",
      "671b0bad1c654f898bb1c150a53ad115",
      "94d1d1142603464ebfdc1aedcddfb05b",
      "4e9b506822ad4489b99c57276163b03b",
      "119288e01d034d31a9dcfabbb07f922a",
      "fe9bbcd5b1f1427ea6125718f1d27228",
      "7e145158cb5242048ae36c2320558f70"
     ]
    },
    "executionInfo": {
     "elapsed": 1802,
     "status": "ok",
     "timestamp": 1699288147085,
     "user": {
      "displayName": "Badreddine Ben Nouma",
      "userId": "17693698400336640468"
     },
     "user_tz": 300
    },
    "id": "2bd5dc40",
    "outputId": "2efb3c7f-2c3e-4708-c124-db035b43ec55"
   },
   "outputs": [
    {
     "data": {
      "text/plain": [
       "<Figure size 800x550 with 0 Axes>"
      ]
     },
     "metadata": {},
     "output_type": "display_data"
    },
    {
     "data": {
      "application/vnd.jupyter.widget-view+json": {
       "model_id": "6053fc98760b443e92648b50df92d917",
       "version_major": 2,
       "version_minor": 0
      },
      "text/plain": [
       "interactive(children=(ToggleButtons(description='Plot Type:', icons=('',), options=(('Pipeline Plot', 'pipelin…"
      ]
     },
     "metadata": {
      "application/vnd.jupyter.widget-view+json": {
       "colab": {
        "custom_widget_manager": {
         "url": "https://ssl.gstatic.com/colaboratory-static/widgets/colab-cdn-widget-manager/b3e629b1971e1542/manager.min.js"
        }
       }
      }
     },
     "output_type": "display_data"
    }
   ],
   "source": [
    "evaluate_model(blended_model)"
   ]
  },
  {
   "cell_type": "markdown",
   "id": "e749ddbc",
   "metadata": {
    "id": "e749ddbc"
   },
   "source": [
    "# Make Prediction"
   ]
  },
  {
   "cell_type": "code",
   "execution_count": null,
   "id": "85450ddb",
   "metadata": {
    "colab": {
     "base_uri": "https://localhost:8080/",
     "height": 81
    },
    "executionInfo": {
     "elapsed": 15802,
     "status": "ok",
     "timestamp": 1699288173472,
     "user": {
      "displayName": "Badreddine Ben Nouma",
      "userId": "17693698400336640468"
     },
     "user_tz": 300
    },
    "id": "85450ddb",
    "outputId": "fb3e8160-5256-4e64-db56-95ba6fc071e0"
   },
   "outputs": [
    {
     "data": {
      "text/html": [
       "<style type=\"text/css\">\n",
       "</style>\n",
       "<table id=\"T_1cf2a\" class=\"dataframe\">\n",
       "  <thead>\n",
       "    <tr>\n",
       "      <th class=\"blank level0\" >&nbsp;</th>\n",
       "      <th id=\"T_1cf2a_level0_col0\" class=\"col_heading level0 col0\" >Model</th>\n",
       "      <th id=\"T_1cf2a_level0_col1\" class=\"col_heading level0 col1\" >Accuracy</th>\n",
       "      <th id=\"T_1cf2a_level0_col2\" class=\"col_heading level0 col2\" >AUC</th>\n",
       "      <th id=\"T_1cf2a_level0_col3\" class=\"col_heading level0 col3\" >Recall</th>\n",
       "      <th id=\"T_1cf2a_level0_col4\" class=\"col_heading level0 col4\" >Prec.</th>\n",
       "      <th id=\"T_1cf2a_level0_col5\" class=\"col_heading level0 col5\" >F1</th>\n",
       "      <th id=\"T_1cf2a_level0_col6\" class=\"col_heading level0 col6\" >Kappa</th>\n",
       "      <th id=\"T_1cf2a_level0_col7\" class=\"col_heading level0 col7\" >MCC</th>\n",
       "    </tr>\n",
       "  </thead>\n",
       "  <tbody>\n",
       "    <tr>\n",
       "      <th id=\"T_1cf2a_level0_row0\" class=\"row_heading level0 row0\" >0</th>\n",
       "      <td id=\"T_1cf2a_row0_col0\" class=\"data row0 col0\" >Voting Classifier</td>\n",
       "      <td id=\"T_1cf2a_row0_col1\" class=\"data row0 col1\" >0.8382</td>\n",
       "      <td id=\"T_1cf2a_row0_col2\" class=\"data row0 col2\" >0.9221</td>\n",
       "      <td id=\"T_1cf2a_row0_col3\" class=\"data row0 col3\" >0.8065</td>\n",
       "      <td id=\"T_1cf2a_row0_col4\" class=\"data row0 col4\" >0.8611</td>\n",
       "      <td id=\"T_1cf2a_row0_col5\" class=\"data row0 col5\" >0.8329</td>\n",
       "      <td id=\"T_1cf2a_row0_col6\" class=\"data row0 col6\" >0.6764</td>\n",
       "      <td id=\"T_1cf2a_row0_col7\" class=\"data row0 col7\" >0.6777</td>\n",
       "    </tr>\n",
       "  </tbody>\n",
       "</table>\n"
      ],
      "text/plain": [
       "<pandas.io.formats.style.Styler at 0x7d09f865ba90>"
      ]
     },
     "metadata": {},
     "output_type": "display_data"
    }
   ],
   "source": [
    "training_prediction = predict_model(blended_model, data = train_df)\n"
   ]
  },
  {
   "cell_type": "code",
   "execution_count": null,
   "id": "aff6355d",
   "metadata": {
    "colab": {
     "base_uri": "https://localhost:8080/",
     "height": 81
    },
    "executionInfo": {
     "elapsed": 3795,
     "status": "ok",
     "timestamp": 1699288183351,
     "user": {
      "displayName": "Badreddine Ben Nouma",
      "userId": "17693698400336640468"
     },
     "user_tz": 300
    },
    "id": "aff6355d",
    "outputId": "feb0b622-aa89-4f61-83fb-05012ff593df"
   },
   "outputs": [
    {
     "data": {
      "text/html": [
       "<style type=\"text/css\">\n",
       "</style>\n",
       "<table id=\"T_dd6e1\" class=\"dataframe\">\n",
       "  <thead>\n",
       "    <tr>\n",
       "      <th class=\"blank level0\" >&nbsp;</th>\n",
       "      <th id=\"T_dd6e1_level0_col0\" class=\"col_heading level0 col0\" >Model</th>\n",
       "      <th id=\"T_dd6e1_level0_col1\" class=\"col_heading level0 col1\" >Accuracy</th>\n",
       "      <th id=\"T_dd6e1_level0_col2\" class=\"col_heading level0 col2\" >AUC</th>\n",
       "      <th id=\"T_dd6e1_level0_col3\" class=\"col_heading level0 col3\" >Recall</th>\n",
       "      <th id=\"T_dd6e1_level0_col4\" class=\"col_heading level0 col4\" >Prec.</th>\n",
       "      <th id=\"T_dd6e1_level0_col5\" class=\"col_heading level0 col5\" >F1</th>\n",
       "      <th id=\"T_dd6e1_level0_col6\" class=\"col_heading level0 col6\" >Kappa</th>\n",
       "      <th id=\"T_dd6e1_level0_col7\" class=\"col_heading level0 col7\" >MCC</th>\n",
       "    </tr>\n",
       "  </thead>\n",
       "  <tbody>\n",
       "    <tr>\n",
       "      <th id=\"T_dd6e1_level0_row0\" class=\"row_heading level0 row0\" >0</th>\n",
       "      <td id=\"T_dd6e1_row0_col0\" class=\"data row0 col0\" >Voting Classifier</td>\n",
       "      <td id=\"T_dd6e1_row0_col1\" class=\"data row0 col1\" >0.7362</td>\n",
       "      <td id=\"T_dd6e1_row0_col2\" class=\"data row0 col2\" >0.8198</td>\n",
       "      <td id=\"T_dd6e1_row0_col3\" class=\"data row0 col3\" >0.6992</td>\n",
       "      <td id=\"T_dd6e1_row0_col4\" class=\"data row0 col4\" >0.7551</td>\n",
       "      <td id=\"T_dd6e1_row0_col5\" class=\"data row0 col5\" >0.7261</td>\n",
       "      <td id=\"T_dd6e1_row0_col6\" class=\"data row0 col6\" >0.4725</td>\n",
       "      <td id=\"T_dd6e1_row0_col7\" class=\"data row0 col7\" >0.4738</td>\n",
       "    </tr>\n",
       "  </tbody>\n",
       "</table>\n"
      ],
      "text/plain": [
       "<pandas.io.formats.style.Styler at 0x7d09f2b31b10>"
      ]
     },
     "metadata": {},
     "output_type": "display_data"
    }
   ],
   "source": [
    "testing_prediction = predict_model(blended_model, data = test_df)"
   ]
  },
  {
   "cell_type": "code",
   "execution_count": null,
   "id": "9acdcbe2",
   "metadata": {
    "colab": {
     "base_uri": "https://localhost:8080/"
    },
    "executionInfo": {
     "elapsed": 163,
     "status": "ok",
     "timestamp": 1699288383443,
     "user": {
      "displayName": "Badreddine Ben Nouma",
      "userId": "17693698400336640468"
     },
     "user_tz": 300
    },
    "id": "9acdcbe2",
    "outputId": "3d327ce9-1b64-452e-bdde-029bdaee5a98"
   },
   "outputs": [
    {
     "name": "stdout",
     "output_type": "stream",
     "text": [
      "The accuracy of the blended model using the testing data: 73.62%\n"
     ]
    }
   ],
   "source": [
    "accuracy_blended_model = ((testing_prediction['prediction_label'] == testing_prediction['state']).sum()/testing_prediction.shape[0])*100\n",
    "\n",
    "print(f\"The accuracy of the blended model using the testing data: {accuracy_blended_model:.2f}%\")"
   ]
  },
  {
   "cell_type": "markdown",
   "id": "f4768f5f",
   "metadata": {},
   "source": [
    "## Conclusion"
   ]
  },
  {
   "cell_type": "raw",
   "id": "ddadeaa2",
   "metadata": {
    "id": "eff6aefa"
   },
   "source": [
    "**Two columns are added at the end of the dataframe:**\n",
    "\n",
    "-prediction_label: the predicted label of the current observation\n",
    "\n",
    "-prediction_score: probability of the predicted class\n"
   ]
  },
  {
   "cell_type": "markdown",
   "id": "88eb7e94",
   "metadata": {},
   "source": [
    "## Save the blended model"
   ]
  },
  {
   "cell_type": "code",
   "execution_count": 13,
   "id": "1s-DVpv_uOgw",
   "metadata": {
    "colab": {
     "base_uri": "https://localhost:8080/"
    },
    "executionInfo": {
     "elapsed": 6276,
     "status": "ok",
     "timestamp": 1699380851570,
     "user": {
      "displayName": "Badreddine Ben Nouma",
      "userId": "17693698400336640468"
     },
     "user_tz": 300
    },
    "id": "1s-DVpv_uOgw",
    "outputId": "af13a8fe-b4f2-4a21-d0c4-88cb55d2b215"
   },
   "outputs": [
    {
     "name": "stdout",
     "output_type": "stream",
     "text": [
      "Transformation Pipeline and Model Successfully Saved\n"
     ]
    },
    {
     "data": {
      "text/plain": [
       "(Pipeline(memory=Memory(location=None),\n",
       "          steps=[('numerical_imputer',\n",
       "                  TransformerWrapper(exclude=None,\n",
       "                                     include=['goal_usd', 'campaigns_duration',\n",
       "                                              'day_launched', 'month_launched',\n",
       "                                              'year_launched', 'week_day',\n",
       "                                              'season', 'category_0',\n",
       "                                              'category_1', 'category_2',\n",
       "                                              'category_3', 'category_4',\n",
       "                                              'category_5', 'category_6',\n",
       "                                              'category_7', 'main_category_0',\n",
       "                                              'main_category_1',\n",
       "                                              'ma...\n",
       "                                                                       criterion='gini',\n",
       "                                                                       max_depth=None,\n",
       "                                                                       max_features='sqrt',\n",
       "                                                                       max_leaf_nodes=None,\n",
       "                                                                       max_samples=None,\n",
       "                                                                       min_impurity_decrease=0.0,\n",
       "                                                                       min_samples_leaf=1,\n",
       "                                                                       min_samples_split=2,\n",
       "                                                                       min_weight_fraction_leaf=0.0,\n",
       "                                                                       n_estimators=100,\n",
       "                                                                       n_jobs=-1,\n",
       "                                                                       oob_score=False,\n",
       "                                                                       random_state=4891,\n",
       "                                                                       verbose=0,\n",
       "                                                                       warm_start=False))],\n",
       "                                   flatten_transform=True, n_jobs=-1,\n",
       "                                   verbose=False, voting='soft',\n",
       "                                   weights=None))],\n",
       "          verbose=False),\n",
       " 'drive/MyDrive/Colab Notebooks/newforma/blended_model.pkl')"
      ]
     },
     "execution_count": 13,
     "metadata": {},
     "output_type": "execute_result"
    }
   ],
   "source": [
    "save_model(blended_model, model_name='drive/MyDrive/Colab Notebooks/newforma/blended_model')"
   ]
  },
  {
   "cell_type": "markdown",
   "id": "9b1d1d8c",
   "metadata": {
    "id": "9b1d1d8c"
   },
   "source": [
    "# Tune my blended model"
   ]
  },
  {
   "cell_type": "code",
   "execution_count": 15,
   "id": "6ea418d0",
   "metadata": {
    "colab": {
     "base_uri": "https://localhost:8080/",
     "height": 492,
     "referenced_widgets": [
      "61c35adf888e4c77bba86e79262af583",
      "ebe89a89d2fd4293842418bea4d4240b",
      "41f3dc8859b548d79f486ce98563b0ed",
      "70e80cdb6713446dbfde1c952feaa06e",
      "757f879eb7f242388de26e58be95e2b7",
      "7d239bf7dc2e4215982ca3b0e208a255",
      "cae04cd41b3a48a8bb46f2097e19dadb",
      "4539e167a071464990761cbcb7f891d2",
      "7e4d3b9cba6a4726a9473432fd266719",
      "4134ba8100d44846b05b44ab0ad09c5d",
      "b20b1b2e8f5043efa8f1c1296fd41276"
     ]
    },
    "executionInfo": {
     "elapsed": 5480006,
     "status": "ok",
     "timestamp": 1699386404191,
     "user": {
      "displayName": "Badreddine Ben Nouma",
      "userId": "17693698400336640468"
     },
     "user_tz": 300
    },
    "id": "6ea418d0",
    "outputId": "305ce748-774e-4743-edd3-2ee8f11cd8c1"
   },
   "outputs": [
    {
     "data": {
      "text/html": [],
      "text/plain": [
       "<IPython.core.display.HTML object>"
      ]
     },
     "metadata": {},
     "output_type": "display_data"
    },
    {
     "data": {
      "text/html": [
       "<style type=\"text/css\">\n",
       "#T_afec8_row10_col0, #T_afec8_row10_col1, #T_afec8_row10_col2, #T_afec8_row10_col3, #T_afec8_row10_col4, #T_afec8_row10_col5, #T_afec8_row10_col6 {\n",
       "  background: yellow;\n",
       "}\n",
       "</style>\n",
       "<table id=\"T_afec8\" class=\"dataframe\">\n",
       "  <thead>\n",
       "    <tr>\n",
       "      <th class=\"blank level0\" >&nbsp;</th>\n",
       "      <th id=\"T_afec8_level0_col0\" class=\"col_heading level0 col0\" >Accuracy</th>\n",
       "      <th id=\"T_afec8_level0_col1\" class=\"col_heading level0 col1\" >AUC</th>\n",
       "      <th id=\"T_afec8_level0_col2\" class=\"col_heading level0 col2\" >Recall</th>\n",
       "      <th id=\"T_afec8_level0_col3\" class=\"col_heading level0 col3\" >Prec.</th>\n",
       "      <th id=\"T_afec8_level0_col4\" class=\"col_heading level0 col4\" >F1</th>\n",
       "      <th id=\"T_afec8_level0_col5\" class=\"col_heading level0 col5\" >Kappa</th>\n",
       "      <th id=\"T_afec8_level0_col6\" class=\"col_heading level0 col6\" >MCC</th>\n",
       "    </tr>\n",
       "    <tr>\n",
       "      <th class=\"index_name level0\" >Fold</th>\n",
       "      <th class=\"blank col0\" >&nbsp;</th>\n",
       "      <th class=\"blank col1\" >&nbsp;</th>\n",
       "      <th class=\"blank col2\" >&nbsp;</th>\n",
       "      <th class=\"blank col3\" >&nbsp;</th>\n",
       "      <th class=\"blank col4\" >&nbsp;</th>\n",
       "      <th class=\"blank col5\" >&nbsp;</th>\n",
       "      <th class=\"blank col6\" >&nbsp;</th>\n",
       "    </tr>\n",
       "  </thead>\n",
       "  <tbody>\n",
       "    <tr>\n",
       "      <th id=\"T_afec8_level0_row0\" class=\"row_heading level0 row0\" >0</th>\n",
       "      <td id=\"T_afec8_row0_col0\" class=\"data row0 col0\" >0.7347</td>\n",
       "      <td id=\"T_afec8_row0_col1\" class=\"data row0 col1\" >0.8209</td>\n",
       "      <td id=\"T_afec8_row0_col2\" class=\"data row0 col2\" >0.7005</td>\n",
       "      <td id=\"T_afec8_row0_col3\" class=\"data row0 col3\" >0.7519</td>\n",
       "      <td id=\"T_afec8_row0_col4\" class=\"data row0 col4\" >0.7253</td>\n",
       "      <td id=\"T_afec8_row0_col5\" class=\"data row0 col5\" >0.4694</td>\n",
       "      <td id=\"T_afec8_row0_col6\" class=\"data row0 col6\" >0.4705</td>\n",
       "    </tr>\n",
       "    <tr>\n",
       "      <th id=\"T_afec8_level0_row1\" class=\"row_heading level0 row1\" >1</th>\n",
       "      <td id=\"T_afec8_row1_col0\" class=\"data row1 col0\" >0.7323</td>\n",
       "      <td id=\"T_afec8_row1_col1\" class=\"data row1 col1\" >0.8161</td>\n",
       "      <td id=\"T_afec8_row1_col2\" class=\"data row1 col2\" >0.6933</td>\n",
       "      <td id=\"T_afec8_row1_col3\" class=\"data row1 col3\" >0.7519</td>\n",
       "      <td id=\"T_afec8_row1_col4\" class=\"data row1 col4\" >0.7214</td>\n",
       "      <td id=\"T_afec8_row1_col5\" class=\"data row1 col5\" >0.4646</td>\n",
       "      <td id=\"T_afec8_row1_col6\" class=\"data row1 col6\" >0.4660</td>\n",
       "    </tr>\n",
       "    <tr>\n",
       "      <th id=\"T_afec8_level0_row2\" class=\"row_heading level0 row2\" >2</th>\n",
       "      <td id=\"T_afec8_row2_col0\" class=\"data row2 col0\" >0.7311</td>\n",
       "      <td id=\"T_afec8_row2_col1\" class=\"data row2 col1\" >0.8188</td>\n",
       "      <td id=\"T_afec8_row2_col2\" class=\"data row2 col2\" >0.6859</td>\n",
       "      <td id=\"T_afec8_row2_col3\" class=\"data row2 col3\" >0.7540</td>\n",
       "      <td id=\"T_afec8_row2_col4\" class=\"data row2 col4\" >0.7184</td>\n",
       "      <td id=\"T_afec8_row2_col5\" class=\"data row2 col5\" >0.4621</td>\n",
       "      <td id=\"T_afec8_row2_col6\" class=\"data row2 col6\" >0.4640</td>\n",
       "    </tr>\n",
       "    <tr>\n",
       "      <th id=\"T_afec8_level0_row3\" class=\"row_heading level0 row3\" >3</th>\n",
       "      <td id=\"T_afec8_row3_col0\" class=\"data row3 col0\" >0.7343</td>\n",
       "      <td id=\"T_afec8_row3_col1\" class=\"data row3 col1\" >0.8191</td>\n",
       "      <td id=\"T_afec8_row3_col2\" class=\"data row3 col2\" >0.6978</td>\n",
       "      <td id=\"T_afec8_row3_col3\" class=\"data row3 col3\" >0.7527</td>\n",
       "      <td id=\"T_afec8_row3_col4\" class=\"data row3 col4\" >0.7242</td>\n",
       "      <td id=\"T_afec8_row3_col5\" class=\"data row3 col5\" >0.4686</td>\n",
       "      <td id=\"T_afec8_row3_col6\" class=\"data row3 col6\" >0.4699</td>\n",
       "    </tr>\n",
       "    <tr>\n",
       "      <th id=\"T_afec8_level0_row4\" class=\"row_heading level0 row4\" >4</th>\n",
       "      <td id=\"T_afec8_row4_col0\" class=\"data row4 col0\" >0.7319</td>\n",
       "      <td id=\"T_afec8_row4_col1\" class=\"data row4 col1\" >0.8131</td>\n",
       "      <td id=\"T_afec8_row4_col2\" class=\"data row4 col2\" >0.6948</td>\n",
       "      <td id=\"T_afec8_row4_col3\" class=\"data row4 col3\" >0.7505</td>\n",
       "      <td id=\"T_afec8_row4_col4\" class=\"data row4 col4\" >0.7216</td>\n",
       "      <td id=\"T_afec8_row4_col5\" class=\"data row4 col5\" >0.4638</td>\n",
       "      <td id=\"T_afec8_row4_col6\" class=\"data row4 col6\" >0.4651</td>\n",
       "    </tr>\n",
       "    <tr>\n",
       "      <th id=\"T_afec8_level0_row5\" class=\"row_heading level0 row5\" >5</th>\n",
       "      <td id=\"T_afec8_row5_col0\" class=\"data row5 col0\" >0.7340</td>\n",
       "      <td id=\"T_afec8_row5_col1\" class=\"data row5 col1\" >0.8199</td>\n",
       "      <td id=\"T_afec8_row5_col2\" class=\"data row5 col2\" >0.6994</td>\n",
       "      <td id=\"T_afec8_row5_col3\" class=\"data row5 col3\" >0.7514</td>\n",
       "      <td id=\"T_afec8_row5_col4\" class=\"data row5 col4\" >0.7244</td>\n",
       "      <td id=\"T_afec8_row5_col5\" class=\"data row5 col5\" >0.4680</td>\n",
       "      <td id=\"T_afec8_row5_col6\" class=\"data row5 col6\" >0.4691</td>\n",
       "    </tr>\n",
       "    <tr>\n",
       "      <th id=\"T_afec8_level0_row6\" class=\"row_heading level0 row6\" >6</th>\n",
       "      <td id=\"T_afec8_row6_col0\" class=\"data row6 col0\" >0.7344</td>\n",
       "      <td id=\"T_afec8_row6_col1\" class=\"data row6 col1\" >0.8221</td>\n",
       "      <td id=\"T_afec8_row6_col2\" class=\"data row6 col2\" >0.6988</td>\n",
       "      <td id=\"T_afec8_row6_col3\" class=\"data row6 col3\" >0.7524</td>\n",
       "      <td id=\"T_afec8_row6_col4\" class=\"data row6 col4\" >0.7246</td>\n",
       "      <td id=\"T_afec8_row6_col5\" class=\"data row6 col5\" >0.4689</td>\n",
       "      <td id=\"T_afec8_row6_col6\" class=\"data row6 col6\" >0.4701</td>\n",
       "    </tr>\n",
       "    <tr>\n",
       "      <th id=\"T_afec8_level0_row7\" class=\"row_heading level0 row7\" >7</th>\n",
       "      <td id=\"T_afec8_row7_col0\" class=\"data row7 col0\" >0.7376</td>\n",
       "      <td id=\"T_afec8_row7_col1\" class=\"data row7 col1\" >0.8240</td>\n",
       "      <td id=\"T_afec8_row7_col2\" class=\"data row7 col2\" >0.7005</td>\n",
       "      <td id=\"T_afec8_row7_col3\" class=\"data row7 col3\" >0.7567</td>\n",
       "      <td id=\"T_afec8_row7_col4\" class=\"data row7 col4\" >0.7275</td>\n",
       "      <td id=\"T_afec8_row7_col5\" class=\"data row7 col5\" >0.4753</td>\n",
       "      <td id=\"T_afec8_row7_col6\" class=\"data row7 col6\" >0.4766</td>\n",
       "    </tr>\n",
       "    <tr>\n",
       "      <th id=\"T_afec8_level0_row8\" class=\"row_heading level0 row8\" >8</th>\n",
       "      <td id=\"T_afec8_row8_col0\" class=\"data row8 col0\" >0.7368</td>\n",
       "      <td id=\"T_afec8_row8_col1\" class=\"data row8 col1\" >0.8233</td>\n",
       "      <td id=\"T_afec8_row8_col2\" class=\"data row8 col2\" >0.7051</td>\n",
       "      <td id=\"T_afec8_row8_col3\" class=\"data row8 col3\" >0.7529</td>\n",
       "      <td id=\"T_afec8_row8_col4\" class=\"data row8 col4\" >0.7282</td>\n",
       "      <td id=\"T_afec8_row8_col5\" class=\"data row8 col5\" >0.4737</td>\n",
       "      <td id=\"T_afec8_row8_col6\" class=\"data row8 col6\" >0.4746</td>\n",
       "    </tr>\n",
       "    <tr>\n",
       "      <th id=\"T_afec8_level0_row9\" class=\"row_heading level0 row9\" >9</th>\n",
       "      <td id=\"T_afec8_row9_col0\" class=\"data row9 col0\" >0.7406</td>\n",
       "      <td id=\"T_afec8_row9_col1\" class=\"data row9 col1\" >0.8221</td>\n",
       "      <td id=\"T_afec8_row9_col2\" class=\"data row9 col2\" >0.7053</td>\n",
       "      <td id=\"T_afec8_row9_col3\" class=\"data row9 col3\" >0.7589</td>\n",
       "      <td id=\"T_afec8_row9_col4\" class=\"data row9 col4\" >0.7311</td>\n",
       "      <td id=\"T_afec8_row9_col5\" class=\"data row9 col5\" >0.4812</td>\n",
       "      <td id=\"T_afec8_row9_col6\" class=\"data row9 col6\" >0.4824</td>\n",
       "    </tr>\n",
       "    <tr>\n",
       "      <th id=\"T_afec8_level0_row10\" class=\"row_heading level0 row10\" >Mean</th>\n",
       "      <td id=\"T_afec8_row10_col0\" class=\"data row10 col0\" >0.7348</td>\n",
       "      <td id=\"T_afec8_row10_col1\" class=\"data row10 col1\" >0.8199</td>\n",
       "      <td id=\"T_afec8_row10_col2\" class=\"data row10 col2\" >0.6981</td>\n",
       "      <td id=\"T_afec8_row10_col3\" class=\"data row10 col3\" >0.7533</td>\n",
       "      <td id=\"T_afec8_row10_col4\" class=\"data row10 col4\" >0.7247</td>\n",
       "      <td id=\"T_afec8_row10_col5\" class=\"data row10 col5\" >0.4695</td>\n",
       "      <td id=\"T_afec8_row10_col6\" class=\"data row10 col6\" >0.4708</td>\n",
       "    </tr>\n",
       "    <tr>\n",
       "      <th id=\"T_afec8_level0_row11\" class=\"row_heading level0 row11\" >Std</th>\n",
       "      <td id=\"T_afec8_row11_col0\" class=\"data row11 col0\" >0.0027</td>\n",
       "      <td id=\"T_afec8_row11_col1\" class=\"data row11 col1\" >0.0032</td>\n",
       "      <td id=\"T_afec8_row11_col2\" class=\"data row11 col2\" >0.0054</td>\n",
       "      <td id=\"T_afec8_row11_col3\" class=\"data row11 col3\" >0.0024</td>\n",
       "      <td id=\"T_afec8_row11_col4\" class=\"data row11 col4\" >0.0035</td>\n",
       "      <td id=\"T_afec8_row11_col5\" class=\"data row11 col5\" >0.0055</td>\n",
       "      <td id=\"T_afec8_row11_col6\" class=\"data row11 col6\" >0.0054</td>\n",
       "    </tr>\n",
       "  </tbody>\n",
       "</table>\n"
      ],
      "text/plain": [
       "<pandas.io.formats.style.Styler at 0x7ca698464ac0>"
      ]
     },
     "metadata": {},
     "output_type": "display_data"
    },
    {
     "data": {
      "application/vnd.jupyter.widget-view+json": {
       "model_id": "61c35adf888e4c77bba86e79262af583",
       "version_major": 2,
       "version_minor": 0
      },
      "text/plain": [
       "Processing:   0%|          | 0/7 [00:00<?, ?it/s]"
      ]
     },
     "metadata": {
      "application/vnd.jupyter.widget-view+json": {
       "colab": {
        "custom_widget_manager": {
         "url": "https://ssl.gstatic.com/colaboratory-static/widgets/colab-cdn-widget-manager/b3e629b1971e1542/manager.min.js"
        }
       }
      }
     },
     "output_type": "display_data"
    },
    {
     "name": "stdout",
     "output_type": "stream",
     "text": [
      "Fitting 10 folds for each of 10 candidates, totalling 100 fits\n"
     ]
    },
    {
     "data": {
      "text/html": [],
      "text/plain": [
       "<IPython.core.display.HTML object>"
      ]
     },
     "metadata": {},
     "output_type": "display_data"
    },
    {
     "name": "stdout",
     "output_type": "stream",
     "text": [
      "Original model was better than the tuned model, hence it will be returned. NOTE: The display metrics are for the tuned model (not the original one).\n"
     ]
    }
   ],
   "source": [
    "tuned_blended_model = tune_model(blended_model)"
   ]
  },
  {
   "cell_type": "markdown",
   "id": "390c3bf8",
   "metadata": {},
   "source": [
    "## Save the tuned blended model"
   ]
  },
  {
   "cell_type": "code",
   "execution_count": 17,
   "id": "xIhu-gRkAOPU",
   "metadata": {
    "colab": {
     "base_uri": "https://localhost:8080/"
    },
    "executionInfo": {
     "elapsed": 10789,
     "status": "ok",
     "timestamp": 1699386442015,
     "user": {
      "displayName": "Badreddine Ben Nouma",
      "userId": "17693698400336640468"
     },
     "user_tz": 300
    },
    "id": "xIhu-gRkAOPU",
    "outputId": "93938890-fc8f-4428-c9ca-2ff386a2ab25"
   },
   "outputs": [
    {
     "name": "stdout",
     "output_type": "stream",
     "text": [
      "Transformation Pipeline and Model Successfully Saved\n"
     ]
    },
    {
     "data": {
      "text/plain": [
       "(Pipeline(memory=Memory(location=None),\n",
       "          steps=[('numerical_imputer',\n",
       "                  TransformerWrapper(exclude=None,\n",
       "                                     include=['goal_usd', 'campaigns_duration',\n",
       "                                              'day_launched', 'month_launched',\n",
       "                                              'year_launched', 'week_day',\n",
       "                                              'season', 'category_0',\n",
       "                                              'category_1', 'category_2',\n",
       "                                              'category_3', 'category_4',\n",
       "                                              'category_5', 'category_6',\n",
       "                                              'category_7', 'main_category_0',\n",
       "                                              'main_category_1',\n",
       "                                              'ma...\n",
       "                                                                       criterion='gini',\n",
       "                                                                       max_depth=None,\n",
       "                                                                       max_features='sqrt',\n",
       "                                                                       max_leaf_nodes=None,\n",
       "                                                                       max_samples=None,\n",
       "                                                                       min_impurity_decrease=0.0,\n",
       "                                                                       min_samples_leaf=1,\n",
       "                                                                       min_samples_split=2,\n",
       "                                                                       min_weight_fraction_leaf=0.0,\n",
       "                                                                       n_estimators=100,\n",
       "                                                                       n_jobs=-1,\n",
       "                                                                       oob_score=False,\n",
       "                                                                       random_state=4891,\n",
       "                                                                       verbose=0,\n",
       "                                                                       warm_start=False))],\n",
       "                                   flatten_transform=True, n_jobs=-1,\n",
       "                                   verbose=False, voting='soft',\n",
       "                                   weights=None))],\n",
       "          verbose=False),\n",
       " 'drive/MyDrive/Colab Notebooks/newforma/tuned_blended_model.pkl')"
      ]
     },
     "execution_count": 17,
     "metadata": {},
     "output_type": "execute_result"
    }
   ],
   "source": [
    "save_model(tuned_blended_model, model_name='drive/MyDrive/Colab Notebooks/newforma/tuned_blended_model')"
   ]
  },
  {
   "cell_type": "markdown",
   "id": "f21c11aa",
   "metadata": {
    "id": "f21c11aa"
   },
   "source": [
    "# Confusion matrix of the tuned blended model"
   ]
  },
  {
   "cell_type": "code",
   "execution_count": null,
   "id": "885d52c4",
   "metadata": {
    "colab": {
     "base_uri": "https://localhost:8080/",
     "height": 551
    },
    "executionInfo": {
     "elapsed": 6748,
     "status": "ok",
     "timestamp": 1699298925117,
     "user": {
      "displayName": "Badreddine Ben Nouma",
      "userId": "17693698400336640468"
     },
     "user_tz": 300
    },
    "id": "885d52c4",
    "outputId": "f6a85fda-1008-426e-dbcc-587fa418c246"
   },
   "outputs": [
    {
     "data": {
      "text/html": [],
      "text/plain": [
       "<IPython.core.display.HTML object>"
      ]
     },
     "metadata": {},
     "output_type": "display_data"
    },
    {
     "data": {
      "image/png": "[encoded data removed]",
      "text/plain": [
       "<Figure size 800x550 with 1 Axes>"
      ]
     },
     "metadata": {},
     "output_type": "display_data"
    }
   ],
   "source": [
    "plot_model(estimator = tuned_blended_model, plot = 'confusion_matrix')"
   ]
  },
  {
   "cell_type": "markdown",
   "id": "a04f4f51",
   "metadata": {
    "id": "a04f4f51"
   },
   "source": [
    "# ROC curve of the tuned blended model"
   ]
  },
  {
   "cell_type": "code",
   "execution_count": null,
   "id": "a271df0e",
   "metadata": {
    "colab": {
     "base_uri": "https://localhost:8080/",
     "height": 524
    },
    "executionInfo": {
     "elapsed": 6018,
     "status": "ok",
     "timestamp": 1699298938752,
     "user": {
      "displayName": "Badreddine Ben Nouma",
      "userId": "17693698400336640468"
     },
     "user_tz": 300
    },
    "id": "a271df0e",
    "outputId": "c3cc9148-f22f-4a97-b17d-6f169725e13a"
   },
   "outputs": [
    {
     "data": {
      "text/html": [],
      "text/plain": [
       "<IPython.core.display.HTML object>"
      ]
     },
     "metadata": {},
     "output_type": "display_data"
    },
    {
     "data": {
      "image/png": "[encoded data removed]",
      "text/plain": [
       "<Figure size 800x550 with 1 Axes>"
      ]
     },
     "metadata": {},
     "output_type": "display_data"
    }
   ],
   "source": [
    "plot_model(estimator = tuned_blended_model, plot = 'auc')"
   ]
  },
  {
   "cell_type": "markdown",
   "id": "2a6f990c",
   "metadata": {
    "id": "2a6f990c"
   },
   "source": [
    "# Evaluate Tuned Model And Make Prediction\n"
   ]
  },
  {
   "cell_type": "code",
   "execution_count": null,
   "id": "92e3f604",
   "metadata": {
    "colab": {
     "base_uri": "https://localhost:8080/",
     "height": 192,
     "referenced_widgets": [
      "455e905e1429481fb706b5ac21625ca2",
      "6132ce38b97c48848f5ad683e546b868",
      "53bce5b535384a97a270d8baaafd15d2",
      "c7323a3284fe45138f5a757979d6a6eb",
      "85db26cb46774330afeff6809dbc45d6",
      "90179307290646dc9f5cb2af1afc24cd",
      "7038b44caea2498f851c6644ba8d77fd"
     ]
    },
    "executionInfo": {
     "elapsed": 1111,
     "status": "ok",
     "timestamp": 1699298949227,
     "user": {
      "displayName": "Badreddine Ben Nouma",
      "userId": "17693698400336640468"
     },
     "user_tz": 300
    },
    "id": "92e3f604",
    "outputId": "413de103-9f83-496b-b97d-f081682e40f0"
   },
   "outputs": [
    {
     "data": {
      "application/vnd.jupyter.widget-view+json": {
       "model_id": "455e905e1429481fb706b5ac21625ca2",
       "version_major": 2,
       "version_minor": 0
      },
      "text/plain": [
       "interactive(children=(ToggleButtons(description='Plot Type:', icons=('',), options=(('Pipeline Plot', 'pipelin…"
      ]
     },
     "metadata": {
      "application/vnd.jupyter.widget-view+json": {
       "colab": {
        "custom_widget_manager": {
         "url": "https://ssl.gstatic.com/colaboratory-static/widgets/colab-cdn-widget-manager/b3e629b1971e1542/manager.min.js"
        }
       }
      }
     },
     "output_type": "display_data"
    }
   ],
   "source": [
    "evaluate_model(tuned_blended_model)"
   ]
  },
  {
   "cell_type": "code",
   "execution_count": null,
   "id": "12c705c3",
   "metadata": {
    "colab": {
     "base_uri": "https://localhost:8080/",
     "height": 144
    },
    "executionInfo": {
     "elapsed": 21825,
     "status": "ok",
     "timestamp": 1699298977560,
     "user": {
      "displayName": "Badreddine Ben Nouma",
      "userId": "17693698400336640468"
     },
     "user_tz": 300
    },
    "id": "12c705c3",
    "outputId": "56d789bc-1a82-4231-98c8-7bee876d34e8"
   },
   "outputs": [
    {
     "data": {
      "text/html": [
       "<style type=\"text/css\">\n",
       "</style>\n",
       "<table id=\"T_64792\" class=\"dataframe\">\n",
       "  <thead>\n",
       "    <tr>\n",
       "      <th class=\"blank level0\" >&nbsp;</th>\n",
       "      <th id=\"T_64792_level0_col0\" class=\"col_heading level0 col0\" >Model</th>\n",
       "      <th id=\"T_64792_level0_col1\" class=\"col_heading level0 col1\" >Accuracy</th>\n",
       "      <th id=\"T_64792_level0_col2\" class=\"col_heading level0 col2\" >AUC</th>\n",
       "      <th id=\"T_64792_level0_col3\" class=\"col_heading level0 col3\" >Recall</th>\n",
       "      <th id=\"T_64792_level0_col4\" class=\"col_heading level0 col4\" >Prec.</th>\n",
       "      <th id=\"T_64792_level0_col5\" class=\"col_heading level0 col5\" >F1</th>\n",
       "      <th id=\"T_64792_level0_col6\" class=\"col_heading level0 col6\" >Kappa</th>\n",
       "      <th id=\"T_64792_level0_col7\" class=\"col_heading level0 col7\" >MCC</th>\n",
       "    </tr>\n",
       "  </thead>\n",
       "  <tbody>\n",
       "    <tr>\n",
       "      <th id=\"T_64792_level0_row0\" class=\"row_heading level0 row0\" >0</th>\n",
       "      <td id=\"T_64792_row0_col0\" class=\"data row0 col0\" >Voting Classifier</td>\n",
       "      <td id=\"T_64792_row0_col1\" class=\"data row0 col1\" >0.8386</td>\n",
       "      <td id=\"T_64792_row0_col2\" class=\"data row0 col2\" >0.9222</td>\n",
       "      <td id=\"T_64792_row0_col3\" class=\"data row0 col3\" >0.8082</td>\n",
       "      <td id=\"T_64792_row0_col4\" class=\"data row0 col4\" >0.8604</td>\n",
       "      <td id=\"T_64792_row0_col5\" class=\"data row0 col5\" >0.8335</td>\n",
       "      <td id=\"T_64792_row0_col6\" class=\"data row0 col6\" >0.6771</td>\n",
       "      <td id=\"T_64792_row0_col7\" class=\"data row0 col7\" >0.6784</td>\n",
       "    </tr>\n",
       "  </tbody>\n",
       "</table>\n"
      ],
      "text/plain": [
       "<pandas.io.formats.style.Styler at 0x7d5fe510f0d0>"
      ]
     },
     "metadata": {},
     "output_type": "display_data"
    },
    {
     "data": {
      "text/html": [
       "<style type=\"text/css\">\n",
       "</style>\n",
       "<table id=\"T_b0aa3\" class=\"dataframe\">\n",
       "  <thead>\n",
       "    <tr>\n",
       "      <th class=\"blank level0\" >&nbsp;</th>\n",
       "      <th id=\"T_b0aa3_level0_col0\" class=\"col_heading level0 col0\" >Model</th>\n",
       "      <th id=\"T_b0aa3_level0_col1\" class=\"col_heading level0 col1\" >Accuracy</th>\n",
       "      <th id=\"T_b0aa3_level0_col2\" class=\"col_heading level0 col2\" >AUC</th>\n",
       "      <th id=\"T_b0aa3_level0_col3\" class=\"col_heading level0 col3\" >Recall</th>\n",
       "      <th id=\"T_b0aa3_level0_col4\" class=\"col_heading level0 col4\" >Prec.</th>\n",
       "      <th id=\"T_b0aa3_level0_col5\" class=\"col_heading level0 col5\" >F1</th>\n",
       "      <th id=\"T_b0aa3_level0_col6\" class=\"col_heading level0 col6\" >Kappa</th>\n",
       "      <th id=\"T_b0aa3_level0_col7\" class=\"col_heading level0 col7\" >MCC</th>\n",
       "    </tr>\n",
       "  </thead>\n",
       "  <tbody>\n",
       "    <tr>\n",
       "      <th id=\"T_b0aa3_level0_row0\" class=\"row_heading level0 row0\" >0</th>\n",
       "      <td id=\"T_b0aa3_row0_col0\" class=\"data row0 col0\" >Voting Classifier</td>\n",
       "      <td id=\"T_b0aa3_row0_col1\" class=\"data row0 col1\" >0.7345</td>\n",
       "      <td id=\"T_b0aa3_row0_col2\" class=\"data row0 col2\" >0.8193</td>\n",
       "      <td id=\"T_b0aa3_row0_col3\" class=\"data row0 col3\" >0.6968</td>\n",
       "      <td id=\"T_b0aa3_row0_col4\" class=\"data row0 col4\" >0.7535</td>\n",
       "      <td id=\"T_b0aa3_row0_col5\" class=\"data row0 col5\" >0.7241</td>\n",
       "      <td id=\"T_b0aa3_row0_col6\" class=\"data row0 col6\" >0.4689</td>\n",
       "      <td id=\"T_b0aa3_row0_col7\" class=\"data row0 col7\" >0.4703</td>\n",
       "    </tr>\n",
       "  </tbody>\n",
       "</table>\n"
      ],
      "text/plain": [
       "<pandas.io.formats.style.Styler at 0x7d5fdf14da50>"
      ]
     },
     "metadata": {},
     "output_type": "display_data"
    }
   ],
   "source": [
    "training_prediction_tuned_blended_model = predict_model(tuned_blended_model, data = train_df)\n",
    "testing_prediction_tuned_blended_model = predict_model(tuned_blended_model, data = test_df)"
   ]
  },
  {
   "cell_type": "code",
   "execution_count": null,
   "id": "2667f6ec",
   "metadata": {
    "colab": {
     "base_uri": "https://localhost:8080/"
    },
    "executionInfo": {
     "elapsed": 145,
     "status": "ok",
     "timestamp": 1699298983240,
     "user": {
      "displayName": "Badreddine Ben Nouma",
      "userId": "17693698400336640468"
     },
     "user_tz": 300
    },
    "id": "2667f6ec",
    "outputId": "1ba3fceb-b592-4ca9-8d47-34ae5804bafa"
   },
   "outputs": [
    {
     "name": "stdout",
     "output_type": "stream",
     "text": [
      "The accuracy of the tuned blended model using the testing data: 73.45%\n"
     ]
    }
   ],
   "source": [
    "accuracy_tuned_blended_model = ((testing_prediction_tuned_blended_model['prediction_label'] == testing_prediction_tuned_blended_model['state']).sum()/testing_prediction_tuned_blended_model.shape[0])*100\n",
    "\n",
    "\n",
    "print(f\"The accuracy of the tuned blended model using the testing data: {accuracy_tuned_blended_model:.2f}%\")\n"
   ]
  },
  {
   "cell_type": "markdown",
   "id": "8e282b67",
   "metadata": {
    "id": "8e282b67"
   },
   "source": [
    "# Save the best model"
   ]
  },
  {
   "cell_type": "code",
   "execution_count": null,
   "id": "6ac2b454",
   "metadata": {
    "colab": {
     "base_uri": "https://localhost:8080/"
    },
    "executionInfo": {
     "elapsed": 2680,
     "status": "ok",
     "timestamp": 1699299064637,
     "user": {
      "displayName": "Badreddine Ben Nouma",
      "userId": "17693698400336640468"
     },
     "user_tz": 300
    },
    "id": "6ac2b454",
    "outputId": "62238b72-3518-4caa-a5b3-15290b88c2ae"
   },
   "outputs": [
    {
     "name": "stdout",
     "output_type": "stream",
     "text": [
      "Transformation Pipeline and Model Successfully Saved\n"
     ]
    },
    {
     "data": {
      "text/plain": [
       "(Pipeline(memory=Memory(location=None),\n",
       "          steps=[('numerical_imputer',\n",
       "                  TransformerWrapper(exclude=None,\n",
       "                                     include=['goal_usd', 'campaigns_duration',\n",
       "                                              'day_launched', 'month_launched',\n",
       "                                              'year_launched', 'week_day',\n",
       "                                              'season', 'category_0',\n",
       "                                              'category_1', 'category_2',\n",
       "                                              'category_3', 'category_4',\n",
       "                                              'category_5', 'category_6',\n",
       "                                              'category_7', 'main_category_0',\n",
       "                                              'main_category_1',\n",
       "                                              'ma...\n",
       "                                                                       criterion='gini',\n",
       "                                                                       max_depth=None,\n",
       "                                                                       max_features='sqrt',\n",
       "                                                                       max_leaf_nodes=None,\n",
       "                                                                       max_samples=None,\n",
       "                                                                       min_impurity_decrease=0.0,\n",
       "                                                                       min_samples_leaf=1,\n",
       "                                                                       min_samples_split=2,\n",
       "                                                                       min_weight_fraction_leaf=0.0,\n",
       "                                                                       n_estimators=100,\n",
       "                                                                       n_jobs=-1,\n",
       "                                                                       oob_score=False,\n",
       "                                                                       random_state=778,\n",
       "                                                                       verbose=0,\n",
       "                                                                       warm_start=False))],\n",
       "                                   flatten_transform=True, n_jobs=-1,\n",
       "                                   verbose=False, voting='soft',\n",
       "                                   weights=None))],\n",
       "          verbose=False),\n",
       " 'kickstarter_success_prediction.pkl')"
      ]
     },
     "execution_count": 16,
     "metadata": {},
     "output_type": "execute_result"
    }
   ],
   "source": [
    "save_model(tuned_blended_model, model_name='kickstarter_success_prediction')"
   ]
  },
  {
   "cell_type": "markdown",
   "id": "26638e94",
   "metadata": {
    "id": "26638e94"
   },
   "source": [
    "# Load the model"
   ]
  },
  {
   "cell_type": "code",
   "execution_count": null,
   "id": "684957b8",
   "metadata": {
    "id": "684957b8",
    "outputId": "0c368dc3-656e-484e-f0f3-1aa72956c218"
   },
   "outputs": [
    {
     "name": "stdout",
     "output_type": "stream",
     "text": [
      "Transformation Pipeline and Model Successfully Loaded\n"
     ]
    }
   ],
   "source": [
    "kickstarter_success_prediction = load_model('../models/kickstarter_success_prediction')"
   ]
  },
  {
   "cell_type": "code",
   "execution_count": null,
   "id": "bcf617c6",
   "metadata": {},
   "outputs": [],
   "source": []
  },
  {
   "cell_type": "code",
   "execution_count": null,
   "id": "5db144b1",
   "metadata": {},
   "outputs": [],
   "source": []
  }
 ],
 "metadata": {
  "colab": {
   "provenance": []
  },
  "kernelspec": {
   "display_name": "Python 3 (ipykernel)",
   "language": "python",
   "name": "python3"
  },
  "language_info": {
   "codemirror_mode": {
    "name": "ipython",
    "version": 3
   },
   "file_extension": ".py",
   "mimetype": "text/x-python",
   "name": "python",
   "nbconvert_exporter": "python",
   "pygments_lexer": "ipython3",
   "version": "3.9.13"
  },
  "widgets": {
   "application/vnd.jupyter.widget-state+json": {
    "05f4023bfc5e459ca0367c1113ce8a78": {
     "model_module": "@jupyter-widgets/base",
     "model_module_version": "1.2.0",
     "model_name": "LayoutModel",
     "state": {
      "_model_module": "@jupyter-widgets/base",
      "_model_module_version": "1.2.0",
      "_model_name": "LayoutModel",
      "_view_count": null,
      "_view_module": "@jupyter-widgets/base",
      "_view_module_version": "1.2.0",
      "_view_name": "LayoutView",
      "align_content": null,
      "align_items": null,
      "align_self": null,
      "border": null,
      "bottom": null,
      "display": null,
      "flex": null,
      "flex_flow": null,
      "grid_area": null,
      "grid_auto_columns": null,
      "grid_auto_flow": null,
      "grid_auto_rows": null,
      "grid_column": null,
      "grid_gap": null,
      "grid_row": null,
      "grid_template_areas": null,
      "grid_template_columns": null,
      "grid_template_rows": null,
      "height": null,
      "justify_content": null,
      "justify_items": null,
      "left": null,
      "margin": null,
      "max_height": null,
      "max_width": null,
      "min_height": null,
      "min_width": null,
      "object_fit": null,
      "object_position": null,
      "order": null,
      "overflow": null,
      "overflow_x": null,
      "overflow_y": null,
      "padding": null,
      "right": null,
      "top": null,
      "visibility": "hidden",
      "width": null
     }
    },
    "06b34096c60141e7bc9c5756c6d2686d": {
     "model_module": "@jupyter-widgets/base",
     "model_module_version": "1.2.0",
     "model_name": "LayoutModel",
     "state": {
      "_model_module": "@jupyter-widgets/base",
      "_model_module_version": "1.2.0",
      "_model_name": "LayoutModel",
      "_view_count": null,
      "_view_module": "@jupyter-widgets/base",
      "_view_module_version": "1.2.0",
      "_view_name": "LayoutView",
      "align_content": null,
      "align_items": null,
      "align_self": null,
      "border": null,
      "bottom": null,
      "display": null,
      "flex": null,
      "flex_flow": null,
      "grid_area": null,
      "grid_auto_columns": null,
      "grid_auto_flow": null,
      "grid_auto_rows": null,
      "grid_column": null,
      "grid_gap": null,
      "grid_row": null,
      "grid_template_areas": null,
      "grid_template_columns": null,
      "grid_template_rows": null,
      "height": null,
      "justify_content": null,
      "justify_items": null,
      "left": null,
      "margin": null,
      "max_height": null,
      "max_width": null,
      "min_height": null,
      "min_width": null,
      "object_fit": null,
      "object_position": null,
      "order": null,
      "overflow": null,
      "overflow_x": null,
      "overflow_y": null,
      "padding": null,
      "right": null,
      "top": null,
      "visibility": null,
      "width": null
     }
    },
    "0a345ddeb243447abc89d4a301f9b7eb": {
     "model_module": "@jupyter-widgets/controls",
     "model_module_version": "1.5.0",
     "model_name": "HTMLModel",
     "state": {
      "_dom_classes": [],
      "_model_module": "@jupyter-widgets/controls",
      "_model_module_version": "1.5.0",
      "_model_name": "HTMLModel",
      "_view_count": null,
      "_view_module": "@jupyter-widgets/controls",
      "_view_module_version": "1.5.0",
      "_view_name": "HTMLView",
      "description": "",
      "description_tooltip": null,
      "layout": "IPY_MODEL_4cd80f0b19d04b0ea93841f3b60e52f9",
      "placeholder": "​",
      "style": "IPY_MODEL_a35cc53ba089449bbdb844cdfc089e92",
      "value": "Processing: 100%"
     }
    },
    "119288e01d034d31a9dcfabbb07f922a": {
     "model_module": "@jupyter-widgets/base",
     "model_module_version": "1.2.0",
     "model_name": "LayoutModel",
     "state": {
      "_model_module": "@jupyter-widgets/base",
      "_model_module_version": "1.2.0",
      "_model_name": "LayoutModel",
      "_view_count": null,
      "_view_module": "@jupyter-widgets/base",
      "_view_module_version": "1.2.0",
      "_view_name": "LayoutView",
      "align_content": null,
      "align_items": null,
      "align_self": null,
      "border": null,
      "bottom": null,
      "display": null,
      "flex": null,
      "flex_flow": null,
      "grid_area": null,
      "grid_auto_columns": null,
      "grid_auto_flow": null,
      "grid_auto_rows": null,
      "grid_column": null,
      "grid_gap": null,
      "grid_row": null,
      "grid_template_areas": null,
      "grid_template_columns": null,
      "grid_template_rows": null,
      "height": null,
      "justify_content": null,
      "justify_items": null,
      "left": null,
      "margin": null,
      "max_height": null,
      "max_width": null,
      "min_height": null,
      "min_width": null,
      "object_fit": null,
      "object_position": null,
      "order": null,
      "overflow": null,
      "overflow_x": null,
      "overflow_y": null,
      "padding": null,
      "right": null,
      "top": null,
      "visibility": null,
      "width": null
     }
    },
    "138223814233493c90bd84d6df1ef498": {
     "model_module": "@jupyter-widgets/controls",
     "model_module_version": "1.5.0",
     "model_name": "HTMLModel",
     "state": {
      "_dom_classes": [],
      "_model_module": "@jupyter-widgets/controls",
      "_model_module_version": "1.5.0",
      "_model_name": "HTMLModel",
      "_view_count": null,
      "_view_module": "@jupyter-widgets/controls",
      "_view_module_version": "1.5.0",
      "_view_name": "HTMLView",
      "description": "",
      "description_tooltip": null,
      "layout": "IPY_MODEL_fa107af6e4564949830bb522486f5123",
      "placeholder": "​",
      "style": "IPY_MODEL_8ac9f686c0c1429097628886b33393bd",
      "value": "Processing: 100%"
     }
    },
    "159e259f235943b8a86f1948aeb21357": {
     "model_module": "@jupyter-widgets/controls",
     "model_module_version": "1.5.0",
     "model_name": "DescriptionStyleModel",
     "state": {
      "_model_module": "@jupyter-widgets/controls",
      "_model_module_version": "1.5.0",
      "_model_name": "DescriptionStyleModel",
      "_view_count": null,
      "_view_module": "@jupyter-widgets/base",
      "_view_module_version": "1.2.0",
      "_view_name": "StyleView",
      "description_width": ""
     }
    },
    "15d2076afff544c687089a9e93a3aaf3": {
     "model_module": "@jupyter-widgets/controls",
     "model_module_version": "1.5.0",
     "model_name": "FloatProgressModel",
     "state": {
      "_dom_classes": [],
      "_model_module": "@jupyter-widgets/controls",
      "_model_module_version": "1.5.0",
      "_model_name": "FloatProgressModel",
      "_view_count": null,
      "_view_module": "@jupyter-widgets/controls",
      "_view_module_version": "1.5.0",
      "_view_name": "ProgressView",
      "bar_style": "",
      "description": "",
      "description_tooltip": null,
      "layout": "IPY_MODEL_bcbd385245fc4f7d80e82680d79a648b",
      "max": 4,
      "min": 0,
      "orientation": "horizontal",
      "style": "IPY_MODEL_c1284445413c479b95c691f4dae10a3f",
      "value": 4
     }
    },
    "1a884d76ceef4ae5b969a9841e1dbf70": {
     "model_module": "@jupyter-widgets/base",
     "model_module_version": "1.2.0",
     "model_name": "LayoutModel",
     "state": {
      "_model_module": "@jupyter-widgets/base",
      "_model_module_version": "1.2.0",
      "_model_name": "LayoutModel",
      "_view_count": null,
      "_view_module": "@jupyter-widgets/base",
      "_view_module_version": "1.2.0",
      "_view_name": "LayoutView",
      "align_content": null,
      "align_items": null,
      "align_self": null,
      "border": null,
      "bottom": null,
      "display": null,
      "flex": null,
      "flex_flow": null,
      "grid_area": null,
      "grid_auto_columns": null,
      "grid_auto_flow": null,
      "grid_auto_rows": null,
      "grid_column": null,
      "grid_gap": null,
      "grid_row": null,
      "grid_template_areas": null,
      "grid_template_columns": null,
      "grid_template_rows": null,
      "height": null,
      "justify_content": null,
      "justify_items": null,
      "left": null,
      "margin": null,
      "max_height": null,
      "max_width": null,
      "min_height": null,
      "min_width": null,
      "object_fit": null,
      "object_position": null,
      "order": null,
      "overflow": null,
      "overflow_x": null,
      "overflow_y": null,
      "padding": null,
      "right": null,
      "top": null,
      "visibility": null,
      "width": null
     }
    },
    "1b6904bb41744cfa92ea0cbff2a518cc": {
     "model_module": "@jupyter-widgets/controls",
     "model_module_version": "1.5.0",
     "model_name": "HTMLModel",
     "state": {
      "_dom_classes": [],
      "_model_module": "@jupyter-widgets/controls",
      "_model_module_version": "1.5.0",
      "_model_name": "HTMLModel",
      "_view_count": null,
      "_view_module": "@jupyter-widgets/controls",
      "_view_module_version": "1.5.0",
      "_view_name": "HTMLView",
      "description": "",
      "description_tooltip": null,
      "layout": "IPY_MODEL_06b34096c60141e7bc9c5756c6d2686d",
      "placeholder": "​",
      "style": "IPY_MODEL_adf1e267b27c45eea04e2cc7eacd9274",
      "value": " 4/4 [04:09&lt;00:00, 58.05s/it]"
     }
    },
    "1d964a11f9db475bbf0dea6fb3bdc760": {
     "model_module": "@jupyter-widgets/base",
     "model_module_version": "1.2.0",
     "model_name": "LayoutModel",
     "state": {
      "_model_module": "@jupyter-widgets/base",
      "_model_module_version": "1.2.0",
      "_model_name": "LayoutModel",
      "_view_count": null,
      "_view_module": "@jupyter-widgets/base",
      "_view_module_version": "1.2.0",
      "_view_name": "LayoutView",
      "align_content": null,
      "align_items": null,
      "align_self": null,
      "border": null,
      "bottom": null,
      "display": null,
      "flex": null,
      "flex_flow": null,
      "grid_area": null,
      "grid_auto_columns": null,
      "grid_auto_flow": null,
      "grid_auto_rows": null,
      "grid_column": null,
      "grid_gap": null,
      "grid_row": null,
      "grid_template_areas": null,
      "grid_template_columns": null,
      "grid_template_rows": null,
      "height": null,
      "justify_content": null,
      "justify_items": null,
      "left": null,
      "margin": null,
      "max_height": null,
      "max_width": null,
      "min_height": null,
      "min_width": null,
      "object_fit": null,
      "object_position": null,
      "order": null,
      "overflow": null,
      "overflow_x": null,
      "overflow_y": null,
      "padding": null,
      "right": null,
      "top": null,
      "visibility": null,
      "width": null
     }
    },
    "1f33c481506a447db9fce2ecdd45e81c": {
     "model_module": "@jupyter-widgets/controls",
     "model_module_version": "1.5.0",
     "model_name": "HTMLModel",
     "state": {
      "_dom_classes": [],
      "_model_module": "@jupyter-widgets/controls",
      "_model_module_version": "1.5.0",
      "_model_name": "HTMLModel",
      "_view_count": null,
      "_view_module": "@jupyter-widgets/controls",
      "_view_module_version": "1.5.0",
      "_view_name": "HTMLView",
      "description": "",
      "description_tooltip": null,
      "layout": "IPY_MODEL_77eaf70c7ab242748d960da6a0c48537",
      "placeholder": "​",
      "style": "IPY_MODEL_ce4154e133b84074b706fd6727ba6bee",
      "value": " 65/65 [29:33&lt;00:00, 14.94s/it]"
     }
    },
    "2cd4916c7731472c9bce8c177a88198f": {
     "model_module": "@jupyter-widgets/base",
     "model_module_version": "1.2.0",
     "model_name": "LayoutModel",
     "state": {
      "_model_module": "@jupyter-widgets/base",
      "_model_module_version": "1.2.0",
      "_model_name": "LayoutModel",
      "_view_count": null,
      "_view_module": "@jupyter-widgets/base",
      "_view_module_version": "1.2.0",
      "_view_name": "LayoutView",
      "align_content": null,
      "align_items": null,
      "align_self": null,
      "border": null,
      "bottom": null,
      "display": null,
      "flex": null,
      "flex_flow": null,
      "grid_area": null,
      "grid_auto_columns": null,
      "grid_auto_flow": null,
      "grid_auto_rows": null,
      "grid_column": null,
      "grid_gap": null,
      "grid_row": null,
      "grid_template_areas": null,
      "grid_template_columns": null,
      "grid_template_rows": null,
      "height": null,
      "justify_content": null,
      "justify_items": null,
      "left": null,
      "margin": null,
      "max_height": null,
      "max_width": null,
      "min_height": null,
      "min_width": null,
      "object_fit": null,
      "object_position": null,
      "order": null,
      "overflow": null,
      "overflow_x": null,
      "overflow_y": null,
      "padding": null,
      "right": null,
      "top": null,
      "visibility": "hidden",
      "width": null
     }
    },
    "34fe69a6fd9c450497c72095478c1ae7": {
     "model_module": "@jupyter-widgets/controls",
     "model_module_version": "1.5.0",
     "model_name": "DescriptionStyleModel",
     "state": {
      "_model_module": "@jupyter-widgets/controls",
      "_model_module_version": "1.5.0",
      "_model_name": "DescriptionStyleModel",
      "_view_count": null,
      "_view_module": "@jupyter-widgets/base",
      "_view_module_version": "1.2.0",
      "_view_name": "StyleView",
      "description_width": ""
     }
    },
    "357abce4a03e4b24b8df6b2d5d581214": {
     "model_module": "@jupyter-widgets/controls",
     "model_module_version": "1.5.0",
     "model_name": "HTMLModel",
     "state": {
      "_dom_classes": [],
      "_model_module": "@jupyter-widgets/controls",
      "_model_module_version": "1.5.0",
      "_model_name": "HTMLModel",
      "_view_count": null,
      "_view_module": "@jupyter-widgets/controls",
      "_view_module_version": "1.5.0",
      "_view_name": "HTMLView",
      "description": "",
      "description_tooltip": null,
      "layout": "IPY_MODEL_ce606ebb57e44d1c8dcf85778ea1fc20",
      "placeholder": "​",
      "style": "IPY_MODEL_824137155b464f4585edb0a55690d5e5",
      "value": " 6/6 [08:51&lt;00:00, 87.31s/it]"
     }
    },
    "3abe7239e8a4417f8e72bbc788f5c076": {
     "model_module": "@jupyter-widgets/controls",
     "model_module_version": "1.5.0",
     "model_name": "ProgressStyleModel",
     "state": {
      "_model_module": "@jupyter-widgets/controls",
      "_model_module_version": "1.5.0",
      "_model_name": "ProgressStyleModel",
      "_view_count": null,
      "_view_module": "@jupyter-widgets/base",
      "_view_module_version": "1.2.0",
      "_view_name": "StyleView",
      "bar_color": null,
      "description_width": ""
     }
    },
    "40a51a71583c4c97aff6f69c0bd12a15": {
     "model_module": "@jupyter-widgets/controls",
     "model_module_version": "1.5.0",
     "model_name": "HBoxModel",
     "state": {
      "_dom_classes": [],
      "_model_module": "@jupyter-widgets/controls",
      "_model_module_version": "1.5.0",
      "_model_name": "HBoxModel",
      "_view_count": null,
      "_view_module": "@jupyter-widgets/controls",
      "_view_module_version": "1.5.0",
      "_view_name": "HBoxView",
      "box_style": "",
      "children": [
       "IPY_MODEL_0a345ddeb243447abc89d4a301f9b7eb",
       "IPY_MODEL_61bb7d642c6642ce9c97d724dd05882e",
       "IPY_MODEL_c2575c0ff54743c0b299766cfe683075"
      ],
      "layout": "IPY_MODEL_db079f408a294a30a8d9340ab56c3293"
     }
    },
    "4134ba8100d44846b05b44ab0ad09c5d": {
     "model_module": "@jupyter-widgets/base",
     "model_module_version": "1.2.0",
     "model_name": "LayoutModel",
     "state": {
      "_model_module": "@jupyter-widgets/base",
      "_model_module_version": "1.2.0",
      "_model_name": "LayoutModel",
      "_view_count": null,
      "_view_module": "@jupyter-widgets/base",
      "_view_module_version": "1.2.0",
      "_view_name": "LayoutView",
      "align_content": null,
      "align_items": null,
      "align_self": null,
      "border": null,
      "bottom": null,
      "display": null,
      "flex": null,
      "flex_flow": null,
      "grid_area": null,
      "grid_auto_columns": null,
      "grid_auto_flow": null,
      "grid_auto_rows": null,
      "grid_column": null,
      "grid_gap": null,
      "grid_row": null,
      "grid_template_areas": null,
      "grid_template_columns": null,
      "grid_template_rows": null,
      "height": null,
      "justify_content": null,
      "justify_items": null,
      "left": null,
      "margin": null,
      "max_height": null,
      "max_width": null,
      "min_height": null,
      "min_width": null,
      "object_fit": null,
      "object_position": null,
      "order": null,
      "overflow": null,
      "overflow_x": null,
      "overflow_y": null,
      "padding": null,
      "right": null,
      "top": null,
      "visibility": null,
      "width": null
     }
    },
    "41f3dc8859b548d79f486ce98563b0ed": {
     "model_module": "@jupyter-widgets/controls",
     "model_module_version": "1.5.0",
     "model_name": "FloatProgressModel",
     "state": {
      "_dom_classes": [],
      "_model_module": "@jupyter-widgets/controls",
      "_model_module_version": "1.5.0",
      "_model_name": "FloatProgressModel",
      "_view_count": null,
      "_view_module": "@jupyter-widgets/controls",
      "_view_module_version": "1.5.0",
      "_view_name": "ProgressView",
      "bar_style": "",
      "description": "",
      "description_tooltip": null,
      "layout": "IPY_MODEL_4539e167a071464990761cbcb7f891d2",
      "max": 7,
      "min": 0,
      "orientation": "horizontal",
      "style": "IPY_MODEL_7e4d3b9cba6a4726a9473432fd266719",
      "value": 7
     }
    },
    "42e3760205384de8a34a8e1acb8ceafc": {
     "model_module": "@jupyter-widgets/controls",
     "model_module_version": "1.5.0",
     "model_name": "HBoxModel",
     "state": {
      "_dom_classes": [],
      "_model_module": "@jupyter-widgets/controls",
      "_model_module_version": "1.5.0",
      "_model_name": "HBoxModel",
      "_view_count": null,
      "_view_module": "@jupyter-widgets/controls",
      "_view_module_version": "1.5.0",
      "_view_name": "HBoxView",
      "box_style": "",
      "children": [
       "IPY_MODEL_ec811eef1d9b48a59c5efce9df32e57e",
       "IPY_MODEL_fdce28ac7d90461e96bdeb6e4663fd01",
       "IPY_MODEL_357abce4a03e4b24b8df6b2d5d581214"
      ],
      "layout": "IPY_MODEL_a3885b65b7a34f13b4ca340741e3f634"
     }
    },
    "4539e167a071464990761cbcb7f891d2": {
     "model_module": "@jupyter-widgets/base",
     "model_module_version": "1.2.0",
     "model_name": "LayoutModel",
     "state": {
      "_model_module": "@jupyter-widgets/base",
      "_model_module_version": "1.2.0",
      "_model_name": "LayoutModel",
      "_view_count": null,
      "_view_module": "@jupyter-widgets/base",
      "_view_module_version": "1.2.0",
      "_view_name": "LayoutView",
      "align_content": null,
      "align_items": null,
      "align_self": null,
      "border": null,
      "bottom": null,
      "display": null,
      "flex": null,
      "flex_flow": null,
      "grid_area": null,
      "grid_auto_columns": null,
      "grid_auto_flow": null,
      "grid_auto_rows": null,
      "grid_column": null,
      "grid_gap": null,
      "grid_row": null,
      "grid_template_areas": null,
      "grid_template_columns": null,
      "grid_template_rows": null,
      "height": null,
      "justify_content": null,
      "justify_items": null,
      "left": null,
      "margin": null,
      "max_height": null,
      "max_width": null,
      "min_height": null,
      "min_width": null,
      "object_fit": null,
      "object_position": null,
      "order": null,
      "overflow": null,
      "overflow_x": null,
      "overflow_y": null,
      "padding": null,
      "right": null,
      "top": null,
      "visibility": null,
      "width": null
     }
    },
    "455e905e1429481fb706b5ac21625ca2": {
     "model_module": "@jupyter-widgets/controls",
     "model_module_version": "1.5.0",
     "model_name": "VBoxModel",
     "state": {
      "_dom_classes": [
       "widget-interact"
      ],
      "_model_module": "@jupyter-widgets/controls",
      "_model_module_version": "1.5.0",
      "_model_name": "VBoxModel",
      "_view_count": null,
      "_view_module": "@jupyter-widgets/controls",
      "_view_module_version": "1.5.0",
      "_view_name": "VBoxView",
      "box_style": "",
      "children": [
       "IPY_MODEL_6132ce38b97c48848f5ad683e546b868",
       "IPY_MODEL_53bce5b535384a97a270d8baaafd15d2"
      ],
      "layout": "IPY_MODEL_c7323a3284fe45138f5a757979d6a6eb"
     }
    },
    "46bfe2fba2f3492783e8d687256100ba": {
     "model_module": "@jupyter-widgets/base",
     "model_module_version": "1.2.0",
     "model_name": "LayoutModel",
     "state": {
      "_model_module": "@jupyter-widgets/base",
      "_model_module_version": "1.2.0",
      "_model_name": "LayoutModel",
      "_view_count": null,
      "_view_module": "@jupyter-widgets/base",
      "_view_module_version": "1.2.0",
      "_view_name": "LayoutView",
      "align_content": null,
      "align_items": null,
      "align_self": null,
      "border": null,
      "bottom": null,
      "display": null,
      "flex": null,
      "flex_flow": null,
      "grid_area": null,
      "grid_auto_columns": null,
      "grid_auto_flow": null,
      "grid_auto_rows": null,
      "grid_column": null,
      "grid_gap": null,
      "grid_row": null,
      "grid_template_areas": null,
      "grid_template_columns": null,
      "grid_template_rows": null,
      "height": null,
      "justify_content": null,
      "justify_items": null,
      "left": null,
      "margin": null,
      "max_height": null,
      "max_width": null,
      "min_height": null,
      "min_width": null,
      "object_fit": null,
      "object_position": null,
      "order": null,
      "overflow": null,
      "overflow_x": null,
      "overflow_y": null,
      "padding": null,
      "right": null,
      "top": null,
      "visibility": "hidden",
      "width": null
     }
    },
    "49ea612293c846b6830761c4faedac4e": {
     "model_module": "@jupyter-widgets/controls",
     "model_module_version": "1.5.0",
     "model_name": "DescriptionStyleModel",
     "state": {
      "_model_module": "@jupyter-widgets/controls",
      "_model_module_version": "1.5.0",
      "_model_name": "DescriptionStyleModel",
      "_view_count": null,
      "_view_module": "@jupyter-widgets/base",
      "_view_module_version": "1.2.0",
      "_view_name": "StyleView",
      "description_width": ""
     }
    },
    "4cd80f0b19d04b0ea93841f3b60e52f9": {
     "model_module": "@jupyter-widgets/base",
     "model_module_version": "1.2.0",
     "model_name": "LayoutModel",
     "state": {
      "_model_module": "@jupyter-widgets/base",
      "_model_module_version": "1.2.0",
      "_model_name": "LayoutModel",
      "_view_count": null,
      "_view_module": "@jupyter-widgets/base",
      "_view_module_version": "1.2.0",
      "_view_name": "LayoutView",
      "align_content": null,
      "align_items": null,
      "align_self": null,
      "border": null,
      "bottom": null,
      "display": null,
      "flex": null,
      "flex_flow": null,
      "grid_area": null,
      "grid_auto_columns": null,
      "grid_auto_flow": null,
      "grid_auto_rows": null,
      "grid_column": null,
      "grid_gap": null,
      "grid_row": null,
      "grid_template_areas": null,
      "grid_template_columns": null,
      "grid_template_rows": null,
      "height": null,
      "justify_content": null,
      "justify_items": null,
      "left": null,
      "margin": null,
      "max_height": null,
      "max_width": null,
      "min_height": null,
      "min_width": null,
      "object_fit": null,
      "object_position": null,
      "order": null,
      "overflow": null,
      "overflow_x": null,
      "overflow_y": null,
      "padding": null,
      "right": null,
      "top": null,
      "visibility": null,
      "width": null
     }
    },
    "4e9b506822ad4489b99c57276163b03b": {
     "model_module": "@jupyter-widgets/base",
     "model_module_version": "1.2.0",
     "model_name": "LayoutModel",
     "state": {
      "_model_module": "@jupyter-widgets/base",
      "_model_module_version": "1.2.0",
      "_model_name": "LayoutModel",
      "_view_count": null,
      "_view_module": "@jupyter-widgets/base",
      "_view_module_version": "1.2.0",
      "_view_name": "LayoutView",
      "align_content": null,
      "align_items": null,
      "align_self": null,
      "border": null,
      "bottom": null,
      "display": null,
      "flex": null,
      "flex_flow": null,
      "grid_area": null,
      "grid_auto_columns": null,
      "grid_auto_flow": null,
      "grid_auto_rows": null,
      "grid_column": null,
      "grid_gap": null,
      "grid_row": null,
      "grid_template_areas": null,
      "grid_template_columns": null,
      "grid_template_rows": null,
      "height": null,
      "justify_content": null,
      "justify_items": null,
      "left": null,
      "margin": null,
      "max_height": null,
      "max_width": null,
      "min_height": null,
      "min_width": null,
      "object_fit": null,
      "object_position": null,
      "order": null,
      "overflow": null,
      "overflow_x": null,
      "overflow_y": null,
      "padding": null,
      "right": null,
      "top": null,
      "visibility": null,
      "width": null
     }
    },
    "52b722520c38418892ceaec24cdd98e2": {
     "model_module": "@jupyter-widgets/controls",
     "model_module_version": "1.5.0",
     "model_name": "FloatProgressModel",
     "state": {
      "_dom_classes": [],
      "_model_module": "@jupyter-widgets/controls",
      "_model_module_version": "1.5.0",
      "_model_name": "FloatProgressModel",
      "_view_count": null,
      "_view_module": "@jupyter-widgets/controls",
      "_view_module_version": "1.5.0",
      "_view_name": "ProgressView",
      "bar_style": "",
      "description": "",
      "description_tooltip": null,
      "layout": "IPY_MODEL_c050b1cd348346efa6daa4584a482546",
      "max": 65,
      "min": 0,
      "orientation": "horizontal",
      "style": "IPY_MODEL_ff29e467f5b44ff08602ed877e3d7849",
      "value": 65
     }
    },
    "53bce5b535384a97a270d8baaafd15d2": {
     "model_module": "@jupyter-widgets/output",
     "model_module_version": "1.0.0",
     "model_name": "OutputModel",
     "state": {
      "_dom_classes": [],
      "_model_module": "@jupyter-widgets/output",
      "_model_module_version": "1.0.0",
      "_model_name": "OutputModel",
      "_view_count": null,
      "_view_module": "@jupyter-widgets/output",
      "_view_module_version": "1.0.0",
      "_view_name": "OutputView",
      "layout": "IPY_MODEL_7038b44caea2498f851c6644ba8d77fd",
      "msg_id": "",
      "outputs": [
       {
        "data": {
         "image/png": "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\n",
         "text/plain": "<Figure size 2700x600 with 1 Axes>"
        },
        "metadata": {},
        "output_type": "display_data"
       }
      ]
     }
    },
    "55de66cb488c4b0e875166047ebc2ff7": {
     "model_module": "@jupyter-widgets/base",
     "model_module_version": "1.2.0",
     "model_name": "LayoutModel",
     "state": {
      "_model_module": "@jupyter-widgets/base",
      "_model_module_version": "1.2.0",
      "_model_name": "LayoutModel",
      "_view_count": null,
      "_view_module": "@jupyter-widgets/base",
      "_view_module_version": "1.2.0",
      "_view_name": "LayoutView",
      "align_content": null,
      "align_items": null,
      "align_self": null,
      "border": null,
      "bottom": null,
      "display": null,
      "flex": null,
      "flex_flow": null,
      "grid_area": null,
      "grid_auto_columns": null,
      "grid_auto_flow": null,
      "grid_auto_rows": null,
      "grid_column": null,
      "grid_gap": null,
      "grid_row": null,
      "grid_template_areas": null,
      "grid_template_columns": null,
      "grid_template_rows": null,
      "height": null,
      "justify_content": null,
      "justify_items": null,
      "left": null,
      "margin": null,
      "max_height": null,
      "max_width": null,
      "min_height": null,
      "min_width": null,
      "object_fit": null,
      "object_position": null,
      "order": null,
      "overflow": null,
      "overflow_x": null,
      "overflow_y": null,
      "padding": null,
      "right": null,
      "top": null,
      "visibility": null,
      "width": null
     }
    },
    "5683c27016f745d78be4d40dde4cc1a2": {
     "model_module": "@jupyter-widgets/controls",
     "model_module_version": "1.5.0",
     "model_name": "DescriptionStyleModel",
     "state": {
      "_model_module": "@jupyter-widgets/controls",
      "_model_module_version": "1.5.0",
      "_model_name": "DescriptionStyleModel",
      "_view_count": null,
      "_view_module": "@jupyter-widgets/base",
      "_view_module_version": "1.2.0",
      "_view_name": "StyleView",
      "description_width": ""
     }
    },
    "5b179a0da6b64627b3f9186b3d9196c9": {
     "model_module": "@jupyter-widgets/controls",
     "model_module_version": "1.5.0",
     "model_name": "ProgressStyleModel",
     "state": {
      "_model_module": "@jupyter-widgets/controls",
      "_model_module_version": "1.5.0",
      "_model_name": "ProgressStyleModel",
      "_view_count": null,
      "_view_module": "@jupyter-widgets/base",
      "_view_module_version": "1.2.0",
      "_view_name": "StyleView",
      "bar_color": null,
      "description_width": ""
     }
    },
    "5c047ec3a79044cda58ec9c4055d5cb7": {
     "model_module": "@jupyter-widgets/controls",
     "model_module_version": "1.5.0",
     "model_name": "HTMLModel",
     "state": {
      "_dom_classes": [],
      "_model_module": "@jupyter-widgets/controls",
      "_model_module_version": "1.5.0",
      "_model_name": "HTMLModel",
      "_view_count": null,
      "_view_module": "@jupyter-widgets/controls",
      "_view_module_version": "1.5.0",
      "_view_name": "HTMLView",
      "description": "",
      "description_tooltip": null,
      "layout": "IPY_MODEL_cf0f1f1f93a145b4ad83dddc2ab69677",
      "placeholder": "​",
      "style": "IPY_MODEL_e8f321e3381b4384888709a9ed87ddbf",
      "value": " 4/4 [04:24&lt;00:00, 61.98s/it]"
     }
    },
    "5dc10e35f1174ceeb3fac60672ee4c50": {
     "model_module": "@jupyter-widgets/base",
     "model_module_version": "1.2.0",
     "model_name": "LayoutModel",
     "state": {
      "_model_module": "@jupyter-widgets/base",
      "_model_module_version": "1.2.0",
      "_model_name": "LayoutModel",
      "_view_count": null,
      "_view_module": "@jupyter-widgets/base",
      "_view_module_version": "1.2.0",
      "_view_name": "LayoutView",
      "align_content": null,
      "align_items": null,
      "align_self": null,
      "border": null,
      "bottom": null,
      "display": null,
      "flex": null,
      "flex_flow": null,
      "grid_area": null,
      "grid_auto_columns": null,
      "grid_auto_flow": null,
      "grid_auto_rows": null,
      "grid_column": null,
      "grid_gap": null,
      "grid_row": null,
      "grid_template_areas": null,
      "grid_template_columns": null,
      "grid_template_rows": null,
      "height": null,
      "justify_content": null,
      "justify_items": null,
      "left": null,
      "margin": null,
      "max_height": null,
      "max_width": null,
      "min_height": null,
      "min_width": null,
      "object_fit": null,
      "object_position": null,
      "order": null,
      "overflow": null,
      "overflow_x": null,
      "overflow_y": null,
      "padding": null,
      "right": null,
      "top": null,
      "visibility": null,
      "width": null
     }
    },
    "6053fc98760b443e92648b50df92d917": {
     "model_module": "@jupyter-widgets/controls",
     "model_module_version": "1.5.0",
     "model_name": "VBoxModel",
     "state": {
      "_dom_classes": [
       "widget-interact"
      ],
      "_model_module": "@jupyter-widgets/controls",
      "_model_module_version": "1.5.0",
      "_model_name": "VBoxModel",
      "_view_count": null,
      "_view_module": "@jupyter-widgets/controls",
      "_view_module_version": "1.5.0",
      "_view_name": "VBoxView",
      "box_style": "",
      "children": [
       "IPY_MODEL_671b0bad1c654f898bb1c150a53ad115",
       "IPY_MODEL_94d1d1142603464ebfdc1aedcddfb05b"
      ],
      "layout": "IPY_MODEL_4e9b506822ad4489b99c57276163b03b"
     }
    },
    "60aa741018924b7d9c7392e409c0e692": {
     "model_module": "@jupyter-widgets/controls",
     "model_module_version": "1.5.0",
     "model_name": "HTMLModel",
     "state": {
      "_dom_classes": [],
      "_model_module": "@jupyter-widgets/controls",
      "_model_module_version": "1.5.0",
      "_model_name": "HTMLModel",
      "_view_count": null,
      "_view_module": "@jupyter-widgets/controls",
      "_view_module_version": "1.5.0",
      "_view_name": "HTMLView",
      "description": "",
      "description_tooltip": null,
      "layout": "IPY_MODEL_1d964a11f9db475bbf0dea6fb3bdc760",
      "placeholder": "​",
      "style": "IPY_MODEL_49ea612293c846b6830761c4faedac4e",
      "value": "Processing: 100%"
     }
    },
    "6132ce38b97c48848f5ad683e546b868": {
     "model_module": "@jupyter-widgets/controls",
     "model_module_version": "1.5.0",
     "model_name": "ToggleButtonsModel",
     "state": {
      "_dom_classes": [],
      "_model_module": "@jupyter-widgets/controls",
      "_model_module_version": "1.5.0",
      "_model_name": "ToggleButtonsModel",
      "_options_labels": [
       "Pipeline Plot",
       "Hyperparameters",
       "AUC",
       "Confusion Matrix",
       "Threshold",
       "Precision Recall",
       "Prediction Error",
       "Class Report",
       "Feature Selection",
       "Learning Curve",
       "Manifold Learning",
       "Calibration Curve",
       "Validation Curve",
       "Dimensions",
       "Feature Importance",
       "Feature Importance (All)",
       "Decision Boundary",
       "Lift Chart",
       "Gain Chart",
       "Decision Tree",
       "KS Statistic Plot"
      ],
      "_view_count": null,
      "_view_module": "@jupyter-widgets/controls",
      "_view_module_version": "1.5.0",
      "_view_name": "ToggleButtonsView",
      "button_style": "",
      "description": "Plot Type:",
      "description_tooltip": null,
      "disabled": false,
      "icons": [
       ""
      ],
      "index": 0,
      "layout": "IPY_MODEL_85db26cb46774330afeff6809dbc45d6",
      "style": "IPY_MODEL_90179307290646dc9f5cb2af1afc24cd",
      "tooltips": []
     }
    },
    "61bb7d642c6642ce9c97d724dd05882e": {
     "model_module": "@jupyter-widgets/controls",
     "model_module_version": "1.5.0",
     "model_name": "FloatProgressModel",
     "state": {
      "_dom_classes": [],
      "_model_module": "@jupyter-widgets/controls",
      "_model_module_version": "1.5.0",
      "_model_name": "FloatProgressModel",
      "_view_count": null,
      "_view_module": "@jupyter-widgets/controls",
      "_view_module_version": "1.5.0",
      "_view_name": "ProgressView",
      "bar_style": "",
      "description": "",
      "description_tooltip": null,
      "layout": "IPY_MODEL_e3d1c7c8513b4f10a3fd13301b2aac67",
      "max": 4,
      "min": 0,
      "orientation": "horizontal",
      "style": "IPY_MODEL_9bc13e487fc144e48e3383db2c4ce767",
      "value": 4
     }
    },
    "61c35adf888e4c77bba86e79262af583": {
     "model_module": "@jupyter-widgets/controls",
     "model_module_version": "1.5.0",
     "model_name": "HBoxModel",
     "state": {
      "_dom_classes": [],
      "_model_module": "@jupyter-widgets/controls",
      "_model_module_version": "1.5.0",
      "_model_name": "HBoxModel",
      "_view_count": null,
      "_view_module": "@jupyter-widgets/controls",
      "_view_module_version": "1.5.0",
      "_view_name": "HBoxView",
      "box_style": "",
      "children": [
       "IPY_MODEL_ebe89a89d2fd4293842418bea4d4240b",
       "IPY_MODEL_41f3dc8859b548d79f486ce98563b0ed",
       "IPY_MODEL_70e80cdb6713446dbfde1c952feaa06e"
      ],
      "layout": "IPY_MODEL_757f879eb7f242388de26e58be95e2b7"
     }
    },
    "66c61d8f2b144120b419ac0a69ca5899": {
     "model_module": "@jupyter-widgets/base",
     "model_module_version": "1.2.0",
     "model_name": "LayoutModel",
     "state": {
      "_model_module": "@jupyter-widgets/base",
      "_model_module_version": "1.2.0",
      "_model_name": "LayoutModel",
      "_view_count": null,
      "_view_module": "@jupyter-widgets/base",
      "_view_module_version": "1.2.0",
      "_view_name": "LayoutView",
      "align_content": null,
      "align_items": null,
      "align_self": null,
      "border": null,
      "bottom": null,
      "display": null,
      "flex": null,
      "flex_flow": null,
      "grid_area": null,
      "grid_auto_columns": null,
      "grid_auto_flow": null,
      "grid_auto_rows": null,
      "grid_column": null,
      "grid_gap": null,
      "grid_row": null,
      "grid_template_areas": null,
      "grid_template_columns": null,
      "grid_template_rows": null,
      "height": null,
      "justify_content": null,
      "justify_items": null,
      "left": null,
      "margin": null,
      "max_height": null,
      "max_width": null,
      "min_height": null,
      "min_width": null,
      "object_fit": null,
      "object_position": null,
      "order": null,
      "overflow": null,
      "overflow_x": null,
      "overflow_y": null,
      "padding": null,
      "right": null,
      "top": null,
      "visibility": null,
      "width": null
     }
    },
    "671b0bad1c654f898bb1c150a53ad115": {
     "model_module": "@jupyter-widgets/controls",
     "model_module_version": "1.5.0",
     "model_name": "ToggleButtonsModel",
     "state": {
      "_dom_classes": [],
      "_model_module": "@jupyter-widgets/controls",
      "_model_module_version": "1.5.0",
      "_model_name": "ToggleButtonsModel",
      "_options_labels": [
       "Pipeline Plot",
       "Hyperparameters",
       "AUC",
       "Confusion Matrix",
       "Threshold",
       "Precision Recall",
       "Prediction Error",
       "Class Report",
       "Feature Selection",
       "Learning Curve",
       "Manifold Learning",
       "Calibration Curve",
       "Validation Curve",
       "Dimensions",
       "Feature Importance",
       "Feature Importance (All)",
       "Decision Boundary",
       "Lift Chart",
       "Gain Chart",
       "Decision Tree",
       "KS Statistic Plot"
      ],
      "_view_count": null,
      "_view_module": "@jupyter-widgets/controls",
      "_view_module_version": "1.5.0",
      "_view_name": "ToggleButtonsView",
      "button_style": "",
      "description": "Plot Type:",
      "description_tooltip": null,
      "disabled": false,
      "icons": [
       ""
      ],
      "index": 0,
      "layout": "IPY_MODEL_119288e01d034d31a9dcfabbb07f922a",
      "style": "IPY_MODEL_fe9bbcd5b1f1427ea6125718f1d27228",
      "tooltips": []
     }
    },
    "675153fbd0164ea88f979f7cdabb7237": {
     "model_module": "@jupyter-widgets/base",
     "model_module_version": "1.2.0",
     "model_name": "LayoutModel",
     "state": {
      "_model_module": "@jupyter-widgets/base",
      "_model_module_version": "1.2.0",
      "_model_name": "LayoutModel",
      "_view_count": null,
      "_view_module": "@jupyter-widgets/base",
      "_view_module_version": "1.2.0",
      "_view_name": "LayoutView",
      "align_content": null,
      "align_items": null,
      "align_self": null,
      "border": null,
      "bottom": null,
      "display": null,
      "flex": null,
      "flex_flow": null,
      "grid_area": null,
      "grid_auto_columns": null,
      "grid_auto_flow": null,
      "grid_auto_rows": null,
      "grid_column": null,
      "grid_gap": null,
      "grid_row": null,
      "grid_template_areas": null,
      "grid_template_columns": null,
      "grid_template_rows": null,
      "height": null,
      "justify_content": null,
      "justify_items": null,
      "left": null,
      "margin": null,
      "max_height": null,
      "max_width": null,
      "min_height": null,
      "min_width": null,
      "object_fit": null,
      "object_position": null,
      "order": null,
      "overflow": null,
      "overflow_x": null,
      "overflow_y": null,
      "padding": null,
      "right": null,
      "top": null,
      "visibility": null,
      "width": null
     }
    },
    "69666dbe439b42b9a44fe39cf4922bf7": {
     "model_module": "@jupyter-widgets/controls",
     "model_module_version": "1.5.0",
     "model_name": "HBoxModel",
     "state": {
      "_dom_classes": [],
      "_model_module": "@jupyter-widgets/controls",
      "_model_module_version": "1.5.0",
      "_model_name": "HBoxModel",
      "_view_count": null,
      "_view_module": "@jupyter-widgets/controls",
      "_view_module_version": "1.5.0",
      "_view_name": "HBoxView",
      "box_style": "",
      "children": [
       "IPY_MODEL_60aa741018924b7d9c7392e409c0e692",
       "IPY_MODEL_52b722520c38418892ceaec24cdd98e2",
       "IPY_MODEL_1f33c481506a447db9fce2ecdd45e81c"
      ],
      "layout": "IPY_MODEL_85043543b66f4115a37e6ac9aa372d2a"
     }
    },
    "6c8441a51df549e3a1f04d6a7a0c6d56": {
     "model_module": "@jupyter-widgets/controls",
     "model_module_version": "1.5.0",
     "model_name": "ProgressStyleModel",
     "state": {
      "_model_module": "@jupyter-widgets/controls",
      "_model_module_version": "1.5.0",
      "_model_name": "ProgressStyleModel",
      "_view_count": null,
      "_view_module": "@jupyter-widgets/base",
      "_view_module_version": "1.2.0",
      "_view_name": "StyleView",
      "bar_color": null,
      "description_width": ""
     }
    },
    "7038b44caea2498f851c6644ba8d77fd": {
     "model_module": "@jupyter-widgets/base",
     "model_module_version": "1.2.0",
     "model_name": "LayoutModel",
     "state": {
      "_model_module": "@jupyter-widgets/base",
      "_model_module_version": "1.2.0",
      "_model_name": "LayoutModel",
      "_view_count": null,
      "_view_module": "@jupyter-widgets/base",
      "_view_module_version": "1.2.0",
      "_view_name": "LayoutView",
      "align_content": null,
      "align_items": null,
      "align_self": null,
      "border": null,
      "bottom": null,
      "display": null,
      "flex": null,
      "flex_flow": null,
      "grid_area": null,
      "grid_auto_columns": null,
      "grid_auto_flow": null,
      "grid_auto_rows": null,
      "grid_column": null,
      "grid_gap": null,
      "grid_row": null,
      "grid_template_areas": null,
      "grid_template_columns": null,
      "grid_template_rows": null,
      "height": null,
      "justify_content": null,
      "justify_items": null,
      "left": null,
      "margin": null,
      "max_height": null,
      "max_width": null,
      "min_height": null,
      "min_width": null,
      "object_fit": null,
      "object_position": null,
      "order": null,
      "overflow": null,
      "overflow_x": null,
      "overflow_y": null,
      "padding": null,
      "right": null,
      "top": null,
      "visibility": null,
      "width": null
     }
    },
    "70883b2e11084c5487dcc3fc83739ac8": {
     "model_module": "@jupyter-widgets/controls",
     "model_module_version": "1.5.0",
     "model_name": "HBoxModel",
     "state": {
      "_dom_classes": [],
      "_model_module": "@jupyter-widgets/controls",
      "_model_module_version": "1.5.0",
      "_model_name": "HBoxModel",
      "_view_count": null,
      "_view_module": "@jupyter-widgets/controls",
      "_view_module_version": "1.5.0",
      "_view_name": "HBoxView",
      "box_style": "",
      "children": [
       "IPY_MODEL_138223814233493c90bd84d6df1ef498",
       "IPY_MODEL_d711b541f6524f9ea4b78bca4300525a",
       "IPY_MODEL_5c047ec3a79044cda58ec9c4055d5cb7"
      ],
      "layout": "IPY_MODEL_05f4023bfc5e459ca0367c1113ce8a78"
     }
    },
    "70e80cdb6713446dbfde1c952feaa06e": {
     "model_module": "@jupyter-widgets/controls",
     "model_module_version": "1.5.0",
     "model_name": "HTMLModel",
     "state": {
      "_dom_classes": [],
      "_model_module": "@jupyter-widgets/controls",
      "_model_module_version": "1.5.0",
      "_model_name": "HTMLModel",
      "_view_count": null,
      "_view_module": "@jupyter-widgets/controls",
      "_view_module_version": "1.5.0",
      "_view_name": "HTMLView",
      "description": "",
      "description_tooltip": null,
      "layout": "IPY_MODEL_4134ba8100d44846b05b44ab0ad09c5d",
      "placeholder": "​",
      "style": "IPY_MODEL_b20b1b2e8f5043efa8f1c1296fd41276",
      "value": " 7/7 [1:21:37&lt;00:00, 478.09s/it]"
     }
    },
    "757f879eb7f242388de26e58be95e2b7": {
     "model_module": "@jupyter-widgets/base",
     "model_module_version": "1.2.0",
     "model_name": "LayoutModel",
     "state": {
      "_model_module": "@jupyter-widgets/base",
      "_model_module_version": "1.2.0",
      "_model_name": "LayoutModel",
      "_view_count": null,
      "_view_module": "@jupyter-widgets/base",
      "_view_module_version": "1.2.0",
      "_view_name": "LayoutView",
      "align_content": null,
      "align_items": null,
      "align_self": null,
      "border": null,
      "bottom": null,
      "display": null,
      "flex": null,
      "flex_flow": null,
      "grid_area": null,
      "grid_auto_columns": null,
      "grid_auto_flow": null,
      "grid_auto_rows": null,
      "grid_column": null,
      "grid_gap": null,
      "grid_row": null,
      "grid_template_areas": null,
      "grid_template_columns": null,
      "grid_template_rows": null,
      "height": null,
      "justify_content": null,
      "justify_items": null,
      "left": null,
      "margin": null,
      "max_height": null,
      "max_width": null,
      "min_height": null,
      "min_width": null,
      "object_fit": null,
      "object_position": null,
      "order": null,
      "overflow": null,
      "overflow_x": null,
      "overflow_y": null,
      "padding": null,
      "right": null,
      "top": null,
      "visibility": "hidden",
      "width": null
     }
    },
    "7631349a4e4849b09081ef34bba74e8e": {
     "model_module": "@jupyter-widgets/base",
     "model_module_version": "1.2.0",
     "model_name": "LayoutModel",
     "state": {
      "_model_module": "@jupyter-widgets/base",
      "_model_module_version": "1.2.0",
      "_model_name": "LayoutModel",
      "_view_count": null,
      "_view_module": "@jupyter-widgets/base",
      "_view_module_version": "1.2.0",
      "_view_name": "LayoutView",
      "align_content": null,
      "align_items": null,
      "align_self": null,
      "border": null,
      "bottom": null,
      "display": null,
      "flex": null,
      "flex_flow": null,
      "grid_area": null,
      "grid_auto_columns": null,
      "grid_auto_flow": null,
      "grid_auto_rows": null,
      "grid_column": null,
      "grid_gap": null,
      "grid_row": null,
      "grid_template_areas": null,
      "grid_template_columns": null,
      "grid_template_rows": null,
      "height": null,
      "justify_content": null,
      "justify_items": null,
      "left": null,
      "margin": null,
      "max_height": null,
      "max_width": null,
      "min_height": null,
      "min_width": null,
      "object_fit": null,
      "object_position": null,
      "order": null,
      "overflow": null,
      "overflow_x": null,
      "overflow_y": null,
      "padding": null,
      "right": null,
      "top": null,
      "visibility": null,
      "width": null
     }
    },
    "77eaf70c7ab242748d960da6a0c48537": {
     "model_module": "@jupyter-widgets/base",
     "model_module_version": "1.2.0",
     "model_name": "LayoutModel",
     "state": {
      "_model_module": "@jupyter-widgets/base",
      "_model_module_version": "1.2.0",
      "_model_name": "LayoutModel",
      "_view_count": null,
      "_view_module": "@jupyter-widgets/base",
      "_view_module_version": "1.2.0",
      "_view_name": "LayoutView",
      "align_content": null,
      "align_items": null,
      "align_self": null,
      "border": null,
      "bottom": null,
      "display": null,
      "flex": null,
      "flex_flow": null,
      "grid_area": null,
      "grid_auto_columns": null,
      "grid_auto_flow": null,
      "grid_auto_rows": null,
      "grid_column": null,
      "grid_gap": null,
      "grid_row": null,
      "grid_template_areas": null,
      "grid_template_columns": null,
      "grid_template_rows": null,
      "height": null,
      "justify_content": null,
      "justify_items": null,
      "left": null,
      "margin": null,
      "max_height": null,
      "max_width": null,
      "min_height": null,
      "min_width": null,
      "object_fit": null,
      "object_position": null,
      "order": null,
      "overflow": null,
      "overflow_x": null,
      "overflow_y": null,
      "padding": null,
      "right": null,
      "top": null,
      "visibility": null,
      "width": null
     }
    },
    "787f81cb79f44fd88d05fd6445067491": {
     "model_module": "@jupyter-widgets/controls",
     "model_module_version": "1.5.0",
     "model_name": "DescriptionStyleModel",
     "state": {
      "_model_module": "@jupyter-widgets/controls",
      "_model_module_version": "1.5.0",
      "_model_name": "DescriptionStyleModel",
      "_view_count": null,
      "_view_module": "@jupyter-widgets/base",
      "_view_module_version": "1.2.0",
      "_view_name": "StyleView",
      "description_width": ""
     }
    },
    "78c4daa7b41a44bfa9553fecf871677e": {
     "model_module": "@jupyter-widgets/controls",
     "model_module_version": "1.5.0",
     "model_name": "ProgressStyleModel",
     "state": {
      "_model_module": "@jupyter-widgets/controls",
      "_model_module_version": "1.5.0",
      "_model_name": "ProgressStyleModel",
      "_view_count": null,
      "_view_module": "@jupyter-widgets/base",
      "_view_module_version": "1.2.0",
      "_view_name": "StyleView",
      "bar_color": null,
      "description_width": ""
     }
    },
    "7a03fa6fa7934aa0a3c3ed0bfab392e7": {
     "model_module": "@jupyter-widgets/controls",
     "model_module_version": "1.5.0",
     "model_name": "FloatProgressModel",
     "state": {
      "_dom_classes": [],
      "_model_module": "@jupyter-widgets/controls",
      "_model_module_version": "1.5.0",
      "_model_name": "FloatProgressModel",
      "_view_count": null,
      "_view_module": "@jupyter-widgets/controls",
      "_view_module_version": "1.5.0",
      "_view_name": "ProgressView",
      "bar_style": "",
      "description": "",
      "description_tooltip": null,
      "layout": "IPY_MODEL_7631349a4e4849b09081ef34bba74e8e",
      "max": 4,
      "min": 0,
      "orientation": "horizontal",
      "style": "IPY_MODEL_6c8441a51df549e3a1f04d6a7a0c6d56",
      "value": 4
     }
    },
    "7d239bf7dc2e4215982ca3b0e208a255": {
     "model_module": "@jupyter-widgets/base",
     "model_module_version": "1.2.0",
     "model_name": "LayoutModel",
     "state": {
      "_model_module": "@jupyter-widgets/base",
      "_model_module_version": "1.2.0",
      "_model_name": "LayoutModel",
      "_view_count": null,
      "_view_module": "@jupyter-widgets/base",
      "_view_module_version": "1.2.0",
      "_view_name": "LayoutView",
      "align_content": null,
      "align_items": null,
      "align_self": null,
      "border": null,
      "bottom": null,
      "display": null,
      "flex": null,
      "flex_flow": null,
      "grid_area": null,
      "grid_auto_columns": null,
      "grid_auto_flow": null,
      "grid_auto_rows": null,
      "grid_column": null,
      "grid_gap": null,
      "grid_row": null,
      "grid_template_areas": null,
      "grid_template_columns": null,
      "grid_template_rows": null,
      "height": null,
      "justify_content": null,
      "justify_items": null,
      "left": null,
      "margin": null,
      "max_height": null,
      "max_width": null,
      "min_height": null,
      "min_width": null,
      "object_fit": null,
      "object_position": null,
      "order": null,
      "overflow": null,
      "overflow_x": null,
      "overflow_y": null,
      "padding": null,
      "right": null,
      "top": null,
      "visibility": null,
      "width": null
     }
    },
    "7d6cd8027e0e41698a32146fe6bb8c50": {
     "model_module": "@jupyter-widgets/controls",
     "model_module_version": "1.5.0",
     "model_name": "HTMLModel",
     "state": {
      "_dom_classes": [],
      "_model_module": "@jupyter-widgets/controls",
      "_model_module_version": "1.5.0",
      "_model_name": "HTMLModel",
      "_view_count": null,
      "_view_module": "@jupyter-widgets/controls",
      "_view_module_version": "1.5.0",
      "_view_name": "HTMLView",
      "description": "",
      "description_tooltip": null,
      "layout": "IPY_MODEL_a512f83e65864603a7ea5d221437e520",
      "placeholder": "​",
      "style": "IPY_MODEL_c7bc58dae8ac485497802bb96d68fce6",
      "value": "Processing: 100%"
     }
    },
    "7e145158cb5242048ae36c2320558f70": {
     "model_module": "@jupyter-widgets/base",
     "model_module_version": "1.2.0",
     "model_name": "LayoutModel",
     "state": {
      "_model_module": "@jupyter-widgets/base",
      "_model_module_version": "1.2.0",
      "_model_name": "LayoutModel",
      "_view_count": null,
      "_view_module": "@jupyter-widgets/base",
      "_view_module_version": "1.2.0",
      "_view_name": "LayoutView",
      "align_content": null,
      "align_items": null,
      "align_self": null,
      "border": null,
      "bottom": null,
      "display": null,
      "flex": null,
      "flex_flow": null,
      "grid_area": null,
      "grid_auto_columns": null,
      "grid_auto_flow": null,
      "grid_auto_rows": null,
      "grid_column": null,
      "grid_gap": null,
      "grid_row": null,
      "grid_template_areas": null,
      "grid_template_columns": null,
      "grid_template_rows": null,
      "height": null,
      "justify_content": null,
      "justify_items": null,
      "left": null,
      "margin": null,
      "max_height": null,
      "max_width": null,
      "min_height": null,
      "min_width": null,
      "object_fit": null,
      "object_position": null,
      "order": null,
      "overflow": null,
      "overflow_x": null,
      "overflow_y": null,
      "padding": null,
      "right": null,
      "top": null,
      "visibility": null,
      "width": null
     }
    },
    "7e4d3b9cba6a4726a9473432fd266719": {
     "model_module": "@jupyter-widgets/controls",
     "model_module_version": "1.5.0",
     "model_name": "ProgressStyleModel",
     "state": {
      "_model_module": "@jupyter-widgets/controls",
      "_model_module_version": "1.5.0",
      "_model_name": "ProgressStyleModel",
      "_view_count": null,
      "_view_module": "@jupyter-widgets/base",
      "_view_module_version": "1.2.0",
      "_view_name": "StyleView",
      "bar_color": null,
      "description_width": ""
     }
    },
    "824137155b464f4585edb0a55690d5e5": {
     "model_module": "@jupyter-widgets/controls",
     "model_module_version": "1.5.0",
     "model_name": "DescriptionStyleModel",
     "state": {
      "_model_module": "@jupyter-widgets/controls",
      "_model_module_version": "1.5.0",
      "_model_name": "DescriptionStyleModel",
      "_view_count": null,
      "_view_module": "@jupyter-widgets/base",
      "_view_module_version": "1.2.0",
      "_view_name": "StyleView",
      "description_width": ""
     }
    },
    "85043543b66f4115a37e6ac9aa372d2a": {
     "model_module": "@jupyter-widgets/base",
     "model_module_version": "1.2.0",
     "model_name": "LayoutModel",
     "state": {
      "_model_module": "@jupyter-widgets/base",
      "_model_module_version": "1.2.0",
      "_model_name": "LayoutModel",
      "_view_count": null,
      "_view_module": "@jupyter-widgets/base",
      "_view_module_version": "1.2.0",
      "_view_name": "LayoutView",
      "align_content": null,
      "align_items": null,
      "align_self": null,
      "border": null,
      "bottom": null,
      "display": null,
      "flex": null,
      "flex_flow": null,
      "grid_area": null,
      "grid_auto_columns": null,
      "grid_auto_flow": null,
      "grid_auto_rows": null,
      "grid_column": null,
      "grid_gap": null,
      "grid_row": null,
      "grid_template_areas": null,
      "grid_template_columns": null,
      "grid_template_rows": null,
      "height": null,
      "justify_content": null,
      "justify_items": null,
      "left": null,
      "margin": null,
      "max_height": null,
      "max_width": null,
      "min_height": null,
      "min_width": null,
      "object_fit": null,
      "object_position": null,
      "order": null,
      "overflow": null,
      "overflow_x": null,
      "overflow_y": null,
      "padding": null,
      "right": null,
      "top": null,
      "visibility": "hidden",
      "width": null
     }
    },
    "85db26cb46774330afeff6809dbc45d6": {
     "model_module": "@jupyter-widgets/base",
     "model_module_version": "1.2.0",
     "model_name": "LayoutModel",
     "state": {
      "_model_module": "@jupyter-widgets/base",
      "_model_module_version": "1.2.0",
      "_model_name": "LayoutModel",
      "_view_count": null,
      "_view_module": "@jupyter-widgets/base",
      "_view_module_version": "1.2.0",
      "_view_name": "LayoutView",
      "align_content": null,
      "align_items": null,
      "align_self": null,
      "border": null,
      "bottom": null,
      "display": null,
      "flex": null,
      "flex_flow": null,
      "grid_area": null,
      "grid_auto_columns": null,
      "grid_auto_flow": null,
      "grid_auto_rows": null,
      "grid_column": null,
      "grid_gap": null,
      "grid_row": null,
      "grid_template_areas": null,
      "grid_template_columns": null,
      "grid_template_rows": null,
      "height": null,
      "justify_content": null,
      "justify_items": null,
      "left": null,
      "margin": null,
      "max_height": null,
      "max_width": null,
      "min_height": null,
      "min_width": null,
      "object_fit": null,
      "object_position": null,
      "order": null,
      "overflow": null,
      "overflow_x": null,
      "overflow_y": null,
      "padding": null,
      "right": null,
      "top": null,
      "visibility": null,
      "width": null
     }
    },
    "8ac9f686c0c1429097628886b33393bd": {
     "model_module": "@jupyter-widgets/controls",
     "model_module_version": "1.5.0",
     "model_name": "DescriptionStyleModel",
     "state": {
      "_model_module": "@jupyter-widgets/controls",
      "_model_module_version": "1.5.0",
      "_model_name": "DescriptionStyleModel",
      "_view_count": null,
      "_view_module": "@jupyter-widgets/base",
      "_view_module_version": "1.2.0",
      "_view_name": "StyleView",
      "description_width": ""
     }
    },
    "90177502b820479d93a1ca4a4a15e5be": {
     "model_module": "@jupyter-widgets/controls",
     "model_module_version": "1.5.0",
     "model_name": "HTMLModel",
     "state": {
      "_dom_classes": [],
      "_model_module": "@jupyter-widgets/controls",
      "_model_module_version": "1.5.0",
      "_model_name": "HTMLModel",
      "_view_count": null,
      "_view_module": "@jupyter-widgets/controls",
      "_view_module_version": "1.5.0",
      "_view_name": "HTMLView",
      "description": "",
      "description_tooltip": null,
      "layout": "IPY_MODEL_d07185defd6e48719aa10a4d020a92a2",
      "placeholder": "​",
      "style": "IPY_MODEL_c8b809a70fbb4229abc0031e5109bbc8",
      "value": "Processing: 100%"
     }
    },
    "90179307290646dc9f5cb2af1afc24cd": {
     "model_module": "@jupyter-widgets/controls",
     "model_module_version": "1.5.0",
     "model_name": "ToggleButtonsStyleModel",
     "state": {
      "_model_module": "@jupyter-widgets/controls",
      "_model_module_version": "1.5.0",
      "_model_name": "ToggleButtonsStyleModel",
      "_view_count": null,
      "_view_module": "@jupyter-widgets/base",
      "_view_module_version": "1.2.0",
      "_view_name": "StyleView",
      "button_width": "",
      "description_width": "",
      "font_weight": ""
     }
    },
    "94d1d1142603464ebfdc1aedcddfb05b": {
     "model_module": "@jupyter-widgets/output",
     "model_module_version": "1.0.0",
     "model_name": "OutputModel",
     "state": {
      "_dom_classes": [],
      "_model_module": "@jupyter-widgets/output",
      "_model_module_version": "1.0.0",
      "_model_name": "OutputModel",
      "_view_count": null,
      "_view_module": "@jupyter-widgets/output",
      "_view_module_version": "1.0.0",
      "_view_name": "OutputView",
      "layout": "IPY_MODEL_7e145158cb5242048ae36c2320558f70",
      "msg_id": "",
      "outputs": [
       {
        "data": {
         "image/png": "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\n",
         "text/plain": "<Figure size 2700x600 with 1 Axes>"
        },
        "metadata": {},
        "output_type": "display_data"
       },
       {
        "data": {
         "text/html": "",
         "text/plain": "<IPython.core.display.HTML object>"
        },
        "displayId": "df2876d723ce82616a37ebd93422033b",
        "metadata": {},
        "output_type": "display_data"
       }
      ]
     }
    },
    "98d12a016dcd4165b7d0c34fbf3630d4": {
     "model_module": "@jupyter-widgets/base",
     "model_module_version": "1.2.0",
     "model_name": "LayoutModel",
     "state": {
      "_model_module": "@jupyter-widgets/base",
      "_model_module_version": "1.2.0",
      "_model_name": "LayoutModel",
      "_view_count": null,
      "_view_module": "@jupyter-widgets/base",
      "_view_module_version": "1.2.0",
      "_view_name": "LayoutView",
      "align_content": null,
      "align_items": null,
      "align_self": null,
      "border": null,
      "bottom": null,
      "display": null,
      "flex": null,
      "flex_flow": null,
      "grid_area": null,
      "grid_auto_columns": null,
      "grid_auto_flow": null,
      "grid_auto_rows": null,
      "grid_column": null,
      "grid_gap": null,
      "grid_row": null,
      "grid_template_areas": null,
      "grid_template_columns": null,
      "grid_template_rows": null,
      "height": null,
      "justify_content": null,
      "justify_items": null,
      "left": null,
      "margin": null,
      "max_height": null,
      "max_width": null,
      "min_height": null,
      "min_width": null,
      "object_fit": null,
      "object_position": null,
      "order": null,
      "overflow": null,
      "overflow_x": null,
      "overflow_y": null,
      "padding": null,
      "right": null,
      "top": null,
      "visibility": null,
      "width": null
     }
    },
    "9bc13e487fc144e48e3383db2c4ce767": {
     "model_module": "@jupyter-widgets/controls",
     "model_module_version": "1.5.0",
     "model_name": "ProgressStyleModel",
     "state": {
      "_model_module": "@jupyter-widgets/controls",
      "_model_module_version": "1.5.0",
      "_model_name": "ProgressStyleModel",
      "_view_count": null,
      "_view_module": "@jupyter-widgets/base",
      "_view_module_version": "1.2.0",
      "_view_name": "StyleView",
      "bar_color": null,
      "description_width": ""
     }
    },
    "a35cc53ba089449bbdb844cdfc089e92": {
     "model_module": "@jupyter-widgets/controls",
     "model_module_version": "1.5.0",
     "model_name": "DescriptionStyleModel",
     "state": {
      "_model_module": "@jupyter-widgets/controls",
      "_model_module_version": "1.5.0",
      "_model_name": "DescriptionStyleModel",
      "_view_count": null,
      "_view_module": "@jupyter-widgets/base",
      "_view_module_version": "1.2.0",
      "_view_name": "StyleView",
      "description_width": ""
     }
    },
    "a3885b65b7a34f13b4ca340741e3f634": {
     "model_module": "@jupyter-widgets/base",
     "model_module_version": "1.2.0",
     "model_name": "LayoutModel",
     "state": {
      "_model_module": "@jupyter-widgets/base",
      "_model_module_version": "1.2.0",
      "_model_name": "LayoutModel",
      "_view_count": null,
      "_view_module": "@jupyter-widgets/base",
      "_view_module_version": "1.2.0",
      "_view_name": "LayoutView",
      "align_content": null,
      "align_items": null,
      "align_self": null,
      "border": null,
      "bottom": null,
      "display": null,
      "flex": null,
      "flex_flow": null,
      "grid_area": null,
      "grid_auto_columns": null,
      "grid_auto_flow": null,
      "grid_auto_rows": null,
      "grid_column": null,
      "grid_gap": null,
      "grid_row": null,
      "grid_template_areas": null,
      "grid_template_columns": null,
      "grid_template_rows": null,
      "height": null,
      "justify_content": null,
      "justify_items": null,
      "left": null,
      "margin": null,
      "max_height": null,
      "max_width": null,
      "min_height": null,
      "min_width": null,
      "object_fit": null,
      "object_position": null,
      "order": null,
      "overflow": null,
      "overflow_x": null,
      "overflow_y": null,
      "padding": null,
      "right": null,
      "top": null,
      "visibility": "hidden",
      "width": null
     }
    },
    "a512f83e65864603a7ea5d221437e520": {
     "model_module": "@jupyter-widgets/base",
     "model_module_version": "1.2.0",
     "model_name": "LayoutModel",
     "state": {
      "_model_module": "@jupyter-widgets/base",
      "_model_module_version": "1.2.0",
      "_model_name": "LayoutModel",
      "_view_count": null,
      "_view_module": "@jupyter-widgets/base",
      "_view_module_version": "1.2.0",
      "_view_name": "LayoutView",
      "align_content": null,
      "align_items": null,
      "align_self": null,
      "border": null,
      "bottom": null,
      "display": null,
      "flex": null,
      "flex_flow": null,
      "grid_area": null,
      "grid_auto_columns": null,
      "grid_auto_flow": null,
      "grid_auto_rows": null,
      "grid_column": null,
      "grid_gap": null,
      "grid_row": null,
      "grid_template_areas": null,
      "grid_template_columns": null,
      "grid_template_rows": null,
      "height": null,
      "justify_content": null,
      "justify_items": null,
      "left": null,
      "margin": null,
      "max_height": null,
      "max_width": null,
      "min_height": null,
      "min_width": null,
      "object_fit": null,
      "object_position": null,
      "order": null,
      "overflow": null,
      "overflow_x": null,
      "overflow_y": null,
      "padding": null,
      "right": null,
      "top": null,
      "visibility": null,
      "width": null
     }
    },
    "adce2fb3be4b460fa9bfadf89d1ee0f3": {
     "model_module": "@jupyter-widgets/controls",
     "model_module_version": "1.5.0",
     "model_name": "HBoxModel",
     "state": {
      "_dom_classes": [],
      "_model_module": "@jupyter-widgets/controls",
      "_model_module_version": "1.5.0",
      "_model_name": "HBoxModel",
      "_view_count": null,
      "_view_module": "@jupyter-widgets/controls",
      "_view_module_version": "1.5.0",
      "_view_name": "HBoxView",
      "box_style": "",
      "children": [
       "IPY_MODEL_7d6cd8027e0e41698a32146fe6bb8c50",
       "IPY_MODEL_15d2076afff544c687089a9e93a3aaf3",
       "IPY_MODEL_c4d0b960ad104276998a0b208ed48fca"
      ],
      "layout": "IPY_MODEL_46bfe2fba2f3492783e8d687256100ba"
     }
    },
    "adf1e267b27c45eea04e2cc7eacd9274": {
     "model_module": "@jupyter-widgets/controls",
     "model_module_version": "1.5.0",
     "model_name": "DescriptionStyleModel",
     "state": {
      "_model_module": "@jupyter-widgets/controls",
      "_model_module_version": "1.5.0",
      "_model_name": "DescriptionStyleModel",
      "_view_count": null,
      "_view_module": "@jupyter-widgets/base",
      "_view_module_version": "1.2.0",
      "_view_name": "StyleView",
      "description_width": ""
     }
    },
    "b20b1b2e8f5043efa8f1c1296fd41276": {
     "model_module": "@jupyter-widgets/controls",
     "model_module_version": "1.5.0",
     "model_name": "DescriptionStyleModel",
     "state": {
      "_model_module": "@jupyter-widgets/controls",
      "_model_module_version": "1.5.0",
      "_model_name": "DescriptionStyleModel",
      "_view_count": null,
      "_view_module": "@jupyter-widgets/base",
      "_view_module_version": "1.2.0",
      "_view_name": "StyleView",
      "description_width": ""
     }
    },
    "baff89b6e5b9498fb8c3215719799586": {
     "model_module": "@jupyter-widgets/controls",
     "model_module_version": "1.5.0",
     "model_name": "HTMLModel",
     "state": {
      "_dom_classes": [],
      "_model_module": "@jupyter-widgets/controls",
      "_model_module_version": "1.5.0",
      "_model_name": "HTMLModel",
      "_view_count": null,
      "_view_module": "@jupyter-widgets/controls",
      "_view_module_version": "1.5.0",
      "_view_name": "HTMLView",
      "description": "",
      "description_tooltip": null,
      "layout": "IPY_MODEL_98d12a016dcd4165b7d0c34fbf3630d4",
      "placeholder": "​",
      "style": "IPY_MODEL_159e259f235943b8a86f1948aeb21357",
      "value": " 4/4 [02:41&lt;00:00, 38.23s/it]"
     }
    },
    "bcbd385245fc4f7d80e82680d79a648b": {
     "model_module": "@jupyter-widgets/base",
     "model_module_version": "1.2.0",
     "model_name": "LayoutModel",
     "state": {
      "_model_module": "@jupyter-widgets/base",
      "_model_module_version": "1.2.0",
      "_model_name": "LayoutModel",
      "_view_count": null,
      "_view_module": "@jupyter-widgets/base",
      "_view_module_version": "1.2.0",
      "_view_name": "LayoutView",
      "align_content": null,
      "align_items": null,
      "align_self": null,
      "border": null,
      "bottom": null,
      "display": null,
      "flex": null,
      "flex_flow": null,
      "grid_area": null,
      "grid_auto_columns": null,
      "grid_auto_flow": null,
      "grid_auto_rows": null,
      "grid_column": null,
      "grid_gap": null,
      "grid_row": null,
      "grid_template_areas": null,
      "grid_template_columns": null,
      "grid_template_rows": null,
      "height": null,
      "justify_content": null,
      "justify_items": null,
      "left": null,
      "margin": null,
      "max_height": null,
      "max_width": null,
      "min_height": null,
      "min_width": null,
      "object_fit": null,
      "object_position": null,
      "order": null,
      "overflow": null,
      "overflow_x": null,
      "overflow_y": null,
      "padding": null,
      "right": null,
      "top": null,
      "visibility": null,
      "width": null
     }
    },
    "be44ea78a14a4264834a78a3ae3556a1": {
     "model_module": "@jupyter-widgets/controls",
     "model_module_version": "1.5.0",
     "model_name": "HBoxModel",
     "state": {
      "_dom_classes": [],
      "_model_module": "@jupyter-widgets/controls",
      "_model_module_version": "1.5.0",
      "_model_name": "HBoxModel",
      "_view_count": null,
      "_view_module": "@jupyter-widgets/controls",
      "_view_module_version": "1.5.0",
      "_view_name": "HBoxView",
      "box_style": "",
      "children": [
       "IPY_MODEL_90177502b820479d93a1ca4a4a15e5be",
       "IPY_MODEL_7a03fa6fa7934aa0a3c3ed0bfab392e7",
       "IPY_MODEL_1b6904bb41744cfa92ea0cbff2a518cc"
      ],
      "layout": "IPY_MODEL_f2450d74bdfa47b2a091f48fad0d5d22"
     }
    },
    "c050b1cd348346efa6daa4584a482546": {
     "model_module": "@jupyter-widgets/base",
     "model_module_version": "1.2.0",
     "model_name": "LayoutModel",
     "state": {
      "_model_module": "@jupyter-widgets/base",
      "_model_module_version": "1.2.0",
      "_model_name": "LayoutModel",
      "_view_count": null,
      "_view_module": "@jupyter-widgets/base",
      "_view_module_version": "1.2.0",
      "_view_name": "LayoutView",
      "align_content": null,
      "align_items": null,
      "align_self": null,
      "border": null,
      "bottom": null,
      "display": null,
      "flex": null,
      "flex_flow": null,
      "grid_area": null,
      "grid_auto_columns": null,
      "grid_auto_flow": null,
      "grid_auto_rows": null,
      "grid_column": null,
      "grid_gap": null,
      "grid_row": null,
      "grid_template_areas": null,
      "grid_template_columns": null,
      "grid_template_rows": null,
      "height": null,
      "justify_content": null,
      "justify_items": null,
      "left": null,
      "margin": null,
      "max_height": null,
      "max_width": null,
      "min_height": null,
      "min_width": null,
      "object_fit": null,
      "object_position": null,
      "order": null,
      "overflow": null,
      "overflow_x": null,
      "overflow_y": null,
      "padding": null,
      "right": null,
      "top": null,
      "visibility": null,
      "width": null
     }
    },
    "c1284445413c479b95c691f4dae10a3f": {
     "model_module": "@jupyter-widgets/controls",
     "model_module_version": "1.5.0",
     "model_name": "ProgressStyleModel",
     "state": {
      "_model_module": "@jupyter-widgets/controls",
      "_model_module_version": "1.5.0",
      "_model_name": "ProgressStyleModel",
      "_view_count": null,
      "_view_module": "@jupyter-widgets/base",
      "_view_module_version": "1.2.0",
      "_view_name": "StyleView",
      "bar_color": null,
      "description_width": ""
     }
    },
    "c22cc8b6af4a40638fd3bea08fd1ac2e": {
     "model_module": "@jupyter-widgets/controls",
     "model_module_version": "1.5.0",
     "model_name": "DescriptionStyleModel",
     "state": {
      "_model_module": "@jupyter-widgets/controls",
      "_model_module_version": "1.5.0",
      "_model_name": "DescriptionStyleModel",
      "_view_count": null,
      "_view_module": "@jupyter-widgets/base",
      "_view_module_version": "1.2.0",
      "_view_name": "StyleView",
      "description_width": ""
     }
    },
    "c2575c0ff54743c0b299766cfe683075": {
     "model_module": "@jupyter-widgets/controls",
     "model_module_version": "1.5.0",
     "model_name": "HTMLModel",
     "state": {
      "_dom_classes": [],
      "_model_module": "@jupyter-widgets/controls",
      "_model_module_version": "1.5.0",
      "_model_name": "HTMLModel",
      "_view_count": null,
      "_view_module": "@jupyter-widgets/controls",
      "_view_module_version": "1.5.0",
      "_view_name": "HTMLView",
      "description": "",
      "description_tooltip": null,
      "layout": "IPY_MODEL_cb13cadde57b492dbcf52504003fd01c",
      "placeholder": "​",
      "style": "IPY_MODEL_c22cc8b6af4a40638fd3bea08fd1ac2e",
      "value": " 4/4 [07:04&lt;00:00, 100.19s/it]"
     }
    },
    "c4d0b960ad104276998a0b208ed48fca": {
     "model_module": "@jupyter-widgets/controls",
     "model_module_version": "1.5.0",
     "model_name": "HTMLModel",
     "state": {
      "_dom_classes": [],
      "_model_module": "@jupyter-widgets/controls",
      "_model_module_version": "1.5.0",
      "_model_name": "HTMLModel",
      "_view_count": null,
      "_view_module": "@jupyter-widgets/controls",
      "_view_module_version": "1.5.0",
      "_view_name": "HTMLView",
      "description": "",
      "description_tooltip": null,
      "layout": "IPY_MODEL_5dc10e35f1174ceeb3fac60672ee4c50",
      "placeholder": "​",
      "style": "IPY_MODEL_34fe69a6fd9c450497c72095478c1ae7",
      "value": " 4/4 [04:21&lt;00:00, 61.61s/it]"
     }
    },
    "c577b67572e54a3093285e9898af543c": {
     "model_module": "@jupyter-widgets/base",
     "model_module_version": "1.2.0",
     "model_name": "LayoutModel",
     "state": {
      "_model_module": "@jupyter-widgets/base",
      "_model_module_version": "1.2.0",
      "_model_name": "LayoutModel",
      "_view_count": null,
      "_view_module": "@jupyter-widgets/base",
      "_view_module_version": "1.2.0",
      "_view_name": "LayoutView",
      "align_content": null,
      "align_items": null,
      "align_self": null,
      "border": null,
      "bottom": null,
      "display": null,
      "flex": null,
      "flex_flow": null,
      "grid_area": null,
      "grid_auto_columns": null,
      "grid_auto_flow": null,
      "grid_auto_rows": null,
      "grid_column": null,
      "grid_gap": null,
      "grid_row": null,
      "grid_template_areas": null,
      "grid_template_columns": null,
      "grid_template_rows": null,
      "height": null,
      "justify_content": null,
      "justify_items": null,
      "left": null,
      "margin": null,
      "max_height": null,
      "max_width": null,
      "min_height": null,
      "min_width": null,
      "object_fit": null,
      "object_position": null,
      "order": null,
      "overflow": null,
      "overflow_x": null,
      "overflow_y": null,
      "padding": null,
      "right": null,
      "top": null,
      "visibility": null,
      "width": null
     }
    },
    "c7323a3284fe45138f5a757979d6a6eb": {
     "model_module": "@jupyter-widgets/base",
     "model_module_version": "1.2.0",
     "model_name": "LayoutModel",
     "state": {
      "_model_module": "@jupyter-widgets/base",
      "_model_module_version": "1.2.0",
      "_model_name": "LayoutModel",
      "_view_count": null,
      "_view_module": "@jupyter-widgets/base",
      "_view_module_version": "1.2.0",
      "_view_name": "LayoutView",
      "align_content": null,
      "align_items": null,
      "align_self": null,
      "border": null,
      "bottom": null,
      "display": null,
      "flex": null,
      "flex_flow": null,
      "grid_area": null,
      "grid_auto_columns": null,
      "grid_auto_flow": null,
      "grid_auto_rows": null,
      "grid_column": null,
      "grid_gap": null,
      "grid_row": null,
      "grid_template_areas": null,
      "grid_template_columns": null,
      "grid_template_rows": null,
      "height": null,
      "justify_content": null,
      "justify_items": null,
      "left": null,
      "margin": null,
      "max_height": null,
      "max_width": null,
      "min_height": null,
      "min_width": null,
      "object_fit": null,
      "object_position": null,
      "order": null,
      "overflow": null,
      "overflow_x": null,
      "overflow_y": null,
      "padding": null,
      "right": null,
      "top": null,
      "visibility": null,
      "width": null
     }
    },
    "c7bc58dae8ac485497802bb96d68fce6": {
     "model_module": "@jupyter-widgets/controls",
     "model_module_version": "1.5.0",
     "model_name": "DescriptionStyleModel",
     "state": {
      "_model_module": "@jupyter-widgets/controls",
      "_model_module_version": "1.5.0",
      "_model_name": "DescriptionStyleModel",
      "_view_count": null,
      "_view_module": "@jupyter-widgets/base",
      "_view_module_version": "1.2.0",
      "_view_name": "StyleView",
      "description_width": ""
     }
    },
    "c8b809a70fbb4229abc0031e5109bbc8": {
     "model_module": "@jupyter-widgets/controls",
     "model_module_version": "1.5.0",
     "model_name": "DescriptionStyleModel",
     "state": {
      "_model_module": "@jupyter-widgets/controls",
      "_model_module_version": "1.5.0",
      "_model_name": "DescriptionStyleModel",
      "_view_count": null,
      "_view_module": "@jupyter-widgets/base",
      "_view_module_version": "1.2.0",
      "_view_name": "StyleView",
      "description_width": ""
     }
    },
    "cae04cd41b3a48a8bb46f2097e19dadb": {
     "model_module": "@jupyter-widgets/controls",
     "model_module_version": "1.5.0",
     "model_name": "DescriptionStyleModel",
     "state": {
      "_model_module": "@jupyter-widgets/controls",
      "_model_module_version": "1.5.0",
      "_model_name": "DescriptionStyleModel",
      "_view_count": null,
      "_view_module": "@jupyter-widgets/base",
      "_view_module_version": "1.2.0",
      "_view_name": "StyleView",
      "description_width": ""
     }
    },
    "cb13cadde57b492dbcf52504003fd01c": {
     "model_module": "@jupyter-widgets/base",
     "model_module_version": "1.2.0",
     "model_name": "LayoutModel",
     "state": {
      "_model_module": "@jupyter-widgets/base",
      "_model_module_version": "1.2.0",
      "_model_name": "LayoutModel",
      "_view_count": null,
      "_view_module": "@jupyter-widgets/base",
      "_view_module_version": "1.2.0",
      "_view_name": "LayoutView",
      "align_content": null,
      "align_items": null,
      "align_self": null,
      "border": null,
      "bottom": null,
      "display": null,
      "flex": null,
      "flex_flow": null,
      "grid_area": null,
      "grid_auto_columns": null,
      "grid_auto_flow": null,
      "grid_auto_rows": null,
      "grid_column": null,
      "grid_gap": null,
      "grid_row": null,
      "grid_template_areas": null,
      "grid_template_columns": null,
      "grid_template_rows": null,
      "height": null,
      "justify_content": null,
      "justify_items": null,
      "left": null,
      "margin": null,
      "max_height": null,
      "max_width": null,
      "min_height": null,
      "min_width": null,
      "object_fit": null,
      "object_position": null,
      "order": null,
      "overflow": null,
      "overflow_x": null,
      "overflow_y": null,
      "padding": null,
      "right": null,
      "top": null,
      "visibility": null,
      "width": null
     }
    },
    "cdfb8352838a485596d9c63e8d8d7bba": {
     "model_module": "@jupyter-widgets/controls",
     "model_module_version": "1.5.0",
     "model_name": "FloatProgressModel",
     "state": {
      "_dom_classes": [],
      "_model_module": "@jupyter-widgets/controls",
      "_model_module_version": "1.5.0",
      "_model_name": "FloatProgressModel",
      "_view_count": null,
      "_view_module": "@jupyter-widgets/controls",
      "_view_module_version": "1.5.0",
      "_view_name": "ProgressView",
      "bar_style": "",
      "description": "",
      "description_tooltip": null,
      "layout": "IPY_MODEL_66c61d8f2b144120b419ac0a69ca5899",
      "max": 4,
      "min": 0,
      "orientation": "horizontal",
      "style": "IPY_MODEL_3abe7239e8a4417f8e72bbc788f5c076",
      "value": 4
     }
    },
    "ce4154e133b84074b706fd6727ba6bee": {
     "model_module": "@jupyter-widgets/controls",
     "model_module_version": "1.5.0",
     "model_name": "DescriptionStyleModel",
     "state": {
      "_model_module": "@jupyter-widgets/controls",
      "_model_module_version": "1.5.0",
      "_model_name": "DescriptionStyleModel",
      "_view_count": null,
      "_view_module": "@jupyter-widgets/base",
      "_view_module_version": "1.2.0",
      "_view_name": "StyleView",
      "description_width": ""
     }
    },
    "ce606ebb57e44d1c8dcf85778ea1fc20": {
     "model_module": "@jupyter-widgets/base",
     "model_module_version": "1.2.0",
     "model_name": "LayoutModel",
     "state": {
      "_model_module": "@jupyter-widgets/base",
      "_model_module_version": "1.2.0",
      "_model_name": "LayoutModel",
      "_view_count": null,
      "_view_module": "@jupyter-widgets/base",
      "_view_module_version": "1.2.0",
      "_view_name": "LayoutView",
      "align_content": null,
      "align_items": null,
      "align_self": null,
      "border": null,
      "bottom": null,
      "display": null,
      "flex": null,
      "flex_flow": null,
      "grid_area": null,
      "grid_auto_columns": null,
      "grid_auto_flow": null,
      "grid_auto_rows": null,
      "grid_column": null,
      "grid_gap": null,
      "grid_row": null,
      "grid_template_areas": null,
      "grid_template_columns": null,
      "grid_template_rows": null,
      "height": null,
      "justify_content": null,
      "justify_items": null,
      "left": null,
      "margin": null,
      "max_height": null,
      "max_width": null,
      "min_height": null,
      "min_width": null,
      "object_fit": null,
      "object_position": null,
      "order": null,
      "overflow": null,
      "overflow_x": null,
      "overflow_y": null,
      "padding": null,
      "right": null,
      "top": null,
      "visibility": null,
      "width": null
     }
    },
    "cf0f1f1f93a145b4ad83dddc2ab69677": {
     "model_module": "@jupyter-widgets/base",
     "model_module_version": "1.2.0",
     "model_name": "LayoutModel",
     "state": {
      "_model_module": "@jupyter-widgets/base",
      "_model_module_version": "1.2.0",
      "_model_name": "LayoutModel",
      "_view_count": null,
      "_view_module": "@jupyter-widgets/base",
      "_view_module_version": "1.2.0",
      "_view_name": "LayoutView",
      "align_content": null,
      "align_items": null,
      "align_self": null,
      "border": null,
      "bottom": null,
      "display": null,
      "flex": null,
      "flex_flow": null,
      "grid_area": null,
      "grid_auto_columns": null,
      "grid_auto_flow": null,
      "grid_auto_rows": null,
      "grid_column": null,
      "grid_gap": null,
      "grid_row": null,
      "grid_template_areas": null,
      "grid_template_columns": null,
      "grid_template_rows": null,
      "height": null,
      "justify_content": null,
      "justify_items": null,
      "left": null,
      "margin": null,
      "max_height": null,
      "max_width": null,
      "min_height": null,
      "min_width": null,
      "object_fit": null,
      "object_position": null,
      "order": null,
      "overflow": null,
      "overflow_x": null,
      "overflow_y": null,
      "padding": null,
      "right": null,
      "top": null,
      "visibility": null,
      "width": null
     }
    },
    "d07185defd6e48719aa10a4d020a92a2": {
     "model_module": "@jupyter-widgets/base",
     "model_module_version": "1.2.0",
     "model_name": "LayoutModel",
     "state": {
      "_model_module": "@jupyter-widgets/base",
      "_model_module_version": "1.2.0",
      "_model_name": "LayoutModel",
      "_view_count": null,
      "_view_module": "@jupyter-widgets/base",
      "_view_module_version": "1.2.0",
      "_view_name": "LayoutView",
      "align_content": null,
      "align_items": null,
      "align_self": null,
      "border": null,
      "bottom": null,
      "display": null,
      "flex": null,
      "flex_flow": null,
      "grid_area": null,
      "grid_auto_columns": null,
      "grid_auto_flow": null,
      "grid_auto_rows": null,
      "grid_column": null,
      "grid_gap": null,
      "grid_row": null,
      "grid_template_areas": null,
      "grid_template_columns": null,
      "grid_template_rows": null,
      "height": null,
      "justify_content": null,
      "justify_items": null,
      "left": null,
      "margin": null,
      "max_height": null,
      "max_width": null,
      "min_height": null,
      "min_width": null,
      "object_fit": null,
      "object_position": null,
      "order": null,
      "overflow": null,
      "overflow_x": null,
      "overflow_y": null,
      "padding": null,
      "right": null,
      "top": null,
      "visibility": null,
      "width": null
     }
    },
    "d0fabec64c9740709f2c0e9c4443df34": {
     "model_module": "@jupyter-widgets/controls",
     "model_module_version": "1.5.0",
     "model_name": "HBoxModel",
     "state": {
      "_dom_classes": [],
      "_model_module": "@jupyter-widgets/controls",
      "_model_module_version": "1.5.0",
      "_model_name": "HBoxModel",
      "_view_count": null,
      "_view_module": "@jupyter-widgets/controls",
      "_view_module_version": "1.5.0",
      "_view_name": "HBoxView",
      "box_style": "",
      "children": [
       "IPY_MODEL_d47dc4d383eb47e3adcefdf8bf785038",
       "IPY_MODEL_cdfb8352838a485596d9c63e8d8d7bba",
       "IPY_MODEL_baff89b6e5b9498fb8c3215719799586"
      ],
      "layout": "IPY_MODEL_2cd4916c7731472c9bce8c177a88198f"
     }
    },
    "d47dc4d383eb47e3adcefdf8bf785038": {
     "model_module": "@jupyter-widgets/controls",
     "model_module_version": "1.5.0",
     "model_name": "HTMLModel",
     "state": {
      "_dom_classes": [],
      "_model_module": "@jupyter-widgets/controls",
      "_model_module_version": "1.5.0",
      "_model_name": "HTMLModel",
      "_view_count": null,
      "_view_module": "@jupyter-widgets/controls",
      "_view_module_version": "1.5.0",
      "_view_name": "HTMLView",
      "description": "",
      "description_tooltip": null,
      "layout": "IPY_MODEL_c577b67572e54a3093285e9898af543c",
      "placeholder": "​",
      "style": "IPY_MODEL_5683c27016f745d78be4d40dde4cc1a2",
      "value": "Processing: 100%"
     }
    },
    "d711b541f6524f9ea4b78bca4300525a": {
     "model_module": "@jupyter-widgets/controls",
     "model_module_version": "1.5.0",
     "model_name": "FloatProgressModel",
     "state": {
      "_dom_classes": [],
      "_model_module": "@jupyter-widgets/controls",
      "_model_module_version": "1.5.0",
      "_model_name": "FloatProgressModel",
      "_view_count": null,
      "_view_module": "@jupyter-widgets/controls",
      "_view_module_version": "1.5.0",
      "_view_name": "ProgressView",
      "bar_style": "",
      "description": "",
      "description_tooltip": null,
      "layout": "IPY_MODEL_55de66cb488c4b0e875166047ebc2ff7",
      "max": 4,
      "min": 0,
      "orientation": "horizontal",
      "style": "IPY_MODEL_5b179a0da6b64627b3f9186b3d9196c9",
      "value": 4
     }
    },
    "db079f408a294a30a8d9340ab56c3293": {
     "model_module": "@jupyter-widgets/base",
     "model_module_version": "1.2.0",
     "model_name": "LayoutModel",
     "state": {
      "_model_module": "@jupyter-widgets/base",
      "_model_module_version": "1.2.0",
      "_model_name": "LayoutModel",
      "_view_count": null,
      "_view_module": "@jupyter-widgets/base",
      "_view_module_version": "1.2.0",
      "_view_name": "LayoutView",
      "align_content": null,
      "align_items": null,
      "align_self": null,
      "border": null,
      "bottom": null,
      "display": null,
      "flex": null,
      "flex_flow": null,
      "grid_area": null,
      "grid_auto_columns": null,
      "grid_auto_flow": null,
      "grid_auto_rows": null,
      "grid_column": null,
      "grid_gap": null,
      "grid_row": null,
      "grid_template_areas": null,
      "grid_template_columns": null,
      "grid_template_rows": null,
      "height": null,
      "justify_content": null,
      "justify_items": null,
      "left": null,
      "margin": null,
      "max_height": null,
      "max_width": null,
      "min_height": null,
      "min_width": null,
      "object_fit": null,
      "object_position": null,
      "order": null,
      "overflow": null,
      "overflow_x": null,
      "overflow_y": null,
      "padding": null,
      "right": null,
      "top": null,
      "visibility": "hidden",
      "width": null
     }
    },
    "e3d1c7c8513b4f10a3fd13301b2aac67": {
     "model_module": "@jupyter-widgets/base",
     "model_module_version": "1.2.0",
     "model_name": "LayoutModel",
     "state": {
      "_model_module": "@jupyter-widgets/base",
      "_model_module_version": "1.2.0",
      "_model_name": "LayoutModel",
      "_view_count": null,
      "_view_module": "@jupyter-widgets/base",
      "_view_module_version": "1.2.0",
      "_view_name": "LayoutView",
      "align_content": null,
      "align_items": null,
      "align_self": null,
      "border": null,
      "bottom": null,
      "display": null,
      "flex": null,
      "flex_flow": null,
      "grid_area": null,
      "grid_auto_columns": null,
      "grid_auto_flow": null,
      "grid_auto_rows": null,
      "grid_column": null,
      "grid_gap": null,
      "grid_row": null,
      "grid_template_areas": null,
      "grid_template_columns": null,
      "grid_template_rows": null,
      "height": null,
      "justify_content": null,
      "justify_items": null,
      "left": null,
      "margin": null,
      "max_height": null,
      "max_width": null,
      "min_height": null,
      "min_width": null,
      "object_fit": null,
      "object_position": null,
      "order": null,
      "overflow": null,
      "overflow_x": null,
      "overflow_y": null,
      "padding": null,
      "right": null,
      "top": null,
      "visibility": null,
      "width": null
     }
    },
    "e8f321e3381b4384888709a9ed87ddbf": {
     "model_module": "@jupyter-widgets/controls",
     "model_module_version": "1.5.0",
     "model_name": "DescriptionStyleModel",
     "state": {
      "_model_module": "@jupyter-widgets/controls",
      "_model_module_version": "1.5.0",
      "_model_name": "DescriptionStyleModel",
      "_view_count": null,
      "_view_module": "@jupyter-widgets/base",
      "_view_module_version": "1.2.0",
      "_view_name": "StyleView",
      "description_width": ""
     }
    },
    "ebe89a89d2fd4293842418bea4d4240b": {
     "model_module": "@jupyter-widgets/controls",
     "model_module_version": "1.5.0",
     "model_name": "HTMLModel",
     "state": {
      "_dom_classes": [],
      "_model_module": "@jupyter-widgets/controls",
      "_model_module_version": "1.5.0",
      "_model_name": "HTMLModel",
      "_view_count": null,
      "_view_module": "@jupyter-widgets/controls",
      "_view_module_version": "1.5.0",
      "_view_name": "HTMLView",
      "description": "",
      "description_tooltip": null,
      "layout": "IPY_MODEL_7d239bf7dc2e4215982ca3b0e208a255",
      "placeholder": "​",
      "style": "IPY_MODEL_cae04cd41b3a48a8bb46f2097e19dadb",
      "value": "Processing: 100%"
     }
    },
    "ec811eef1d9b48a59c5efce9df32e57e": {
     "model_module": "@jupyter-widgets/controls",
     "model_module_version": "1.5.0",
     "model_name": "HTMLModel",
     "state": {
      "_dom_classes": [],
      "_model_module": "@jupyter-widgets/controls",
      "_model_module_version": "1.5.0",
      "_model_name": "HTMLModel",
      "_view_count": null,
      "_view_module": "@jupyter-widgets/controls",
      "_view_module_version": "1.5.0",
      "_view_name": "HTMLView",
      "description": "",
      "description_tooltip": null,
      "layout": "IPY_MODEL_675153fbd0164ea88f979f7cdabb7237",
      "placeholder": "​",
      "style": "IPY_MODEL_787f81cb79f44fd88d05fd6445067491",
      "value": "Processing: 100%"
     }
    },
    "f2450d74bdfa47b2a091f48fad0d5d22": {
     "model_module": "@jupyter-widgets/base",
     "model_module_version": "1.2.0",
     "model_name": "LayoutModel",
     "state": {
      "_model_module": "@jupyter-widgets/base",
      "_model_module_version": "1.2.0",
      "_model_name": "LayoutModel",
      "_view_count": null,
      "_view_module": "@jupyter-widgets/base",
      "_view_module_version": "1.2.0",
      "_view_name": "LayoutView",
      "align_content": null,
      "align_items": null,
      "align_self": null,
      "border": null,
      "bottom": null,
      "display": null,
      "flex": null,
      "flex_flow": null,
      "grid_area": null,
      "grid_auto_columns": null,
      "grid_auto_flow": null,
      "grid_auto_rows": null,
      "grid_column": null,
      "grid_gap": null,
      "grid_row": null,
      "grid_template_areas": null,
      "grid_template_columns": null,
      "grid_template_rows": null,
      "height": null,
      "justify_content": null,
      "justify_items": null,
      "left": null,
      "margin": null,
      "max_height": null,
      "max_width": null,
      "min_height": null,
      "min_width": null,
      "object_fit": null,
      "object_position": null,
      "order": null,
      "overflow": null,
      "overflow_x": null,
      "overflow_y": null,
      "padding": null,
      "right": null,
      "top": null,
      "visibility": "hidden",
      "width": null
     }
    },
    "fa107af6e4564949830bb522486f5123": {
     "model_module": "@jupyter-widgets/base",
     "model_module_version": "1.2.0",
     "model_name": "LayoutModel",
     "state": {
      "_model_module": "@jupyter-widgets/base",
      "_model_module_version": "1.2.0",
      "_model_name": "LayoutModel",
      "_view_count": null,
      "_view_module": "@jupyter-widgets/base",
      "_view_module_version": "1.2.0",
      "_view_name": "LayoutView",
      "align_content": null,
      "align_items": null,
      "align_self": null,
      "border": null,
      "bottom": null,
      "display": null,
      "flex": null,
      "flex_flow": null,
      "grid_area": null,
      "grid_auto_columns": null,
      "grid_auto_flow": null,
      "grid_auto_rows": null,
      "grid_column": null,
      "grid_gap": null,
      "grid_row": null,
      "grid_template_areas": null,
      "grid_template_columns": null,
      "grid_template_rows": null,
      "height": null,
      "justify_content": null,
      "justify_items": null,
      "left": null,
      "margin": null,
      "max_height": null,
      "max_width": null,
      "min_height": null,
      "min_width": null,
      "object_fit": null,
      "object_position": null,
      "order": null,
      "overflow": null,
      "overflow_x": null,
      "overflow_y": null,
      "padding": null,
      "right": null,
      "top": null,
      "visibility": null,
      "width": null
     }
    },
    "fdce28ac7d90461e96bdeb6e4663fd01": {
     "model_module": "@jupyter-widgets/controls",
     "model_module_version": "1.5.0",
     "model_name": "FloatProgressModel",
     "state": {
      "_dom_classes": [],
      "_model_module": "@jupyter-widgets/controls",
      "_model_module_version": "1.5.0",
      "_model_name": "FloatProgressModel",
      "_view_count": null,
      "_view_module": "@jupyter-widgets/controls",
      "_view_module_version": "1.5.0",
      "_view_name": "ProgressView",
      "bar_style": "",
      "description": "",
      "description_tooltip": null,
      "layout": "IPY_MODEL_1a884d76ceef4ae5b969a9841e1dbf70",
      "max": 6,
      "min": 0,
      "orientation": "horizontal",
      "style": "IPY_MODEL_78c4daa7b41a44bfa9553fecf871677e",
      "value": 6
     }
    },
    "fe9bbcd5b1f1427ea6125718f1d27228": {
     "model_module": "@jupyter-widgets/controls",
     "model_module_version": "1.5.0",
     "model_name": "ToggleButtonsStyleModel",
     "state": {
      "_model_module": "@jupyter-widgets/controls",
      "_model_module_version": "1.5.0",
      "_model_name": "ToggleButtonsStyleModel",
      "_view_count": null,
      "_view_module": "@jupyter-widgets/base",
      "_view_module_version": "1.2.0",
      "_view_name": "StyleView",
      "button_width": "",
      "description_width": "",
      "font_weight": ""
     }
    },
    "ff29e467f5b44ff08602ed877e3d7849": {
     "model_module": "@jupyter-widgets/controls",
     "model_module_version": "1.5.0",
     "model_name": "ProgressStyleModel",
     "state": {
      "_model_module": "@jupyter-widgets/controls",
      "_model_module_version": "1.5.0",
      "_model_name": "ProgressStyleModel",
      "_view_count": null,
      "_view_module": "@jupyter-widgets/base",
      "_view_module_version": "1.2.0",
      "_view_name": "StyleView",
      "bar_color": null,
      "description_width": ""
     }
    }
   }
  }
 },
 "nbformat": 4,
 "nbformat_minor": 5
}
