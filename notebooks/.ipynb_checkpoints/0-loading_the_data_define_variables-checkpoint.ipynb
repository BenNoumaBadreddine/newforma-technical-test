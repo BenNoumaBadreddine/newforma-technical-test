{
 "cells": [
  {
   "cell_type": "markdown",
   "id": "8d9aa658",
   "metadata": {},
   "source": [
    "# Load the data"
   ]
  },
  {
   "cell_type": "markdown",
   "id": "4e1c4a21",
   "metadata": {},
   "source": [
    "## Import libraries"
   ]
  },
  {
   "cell_type": "code",
   "execution_count": 1,
   "id": "8f09b511",
   "metadata": {},
   "outputs": [],
   "source": [
    "import pandas as pd\n",
    "import sys\n",
    "import matplotlib.pyplot as plt\n",
    "import seaborn as sns\n",
    "import dataframe_image as dfi\n",
    "from pycaret.classification import *\n",
    "from sklearn.preprocessing import LabelEncoder\n",
    "\n",
    "sns.set_style(\"whitegrid\")\n",
    "sys.path.append('/Users/badr/github_projects/')\n",
    "from newforma_technical_test.src.cleaning_operations import is_valid_state\n"
   ]
  },
  {
   "cell_type": "markdown",
   "id": "4af4e728",
   "metadata": {},
   "source": [
    "# Loading the datasets"
   ]
  },
  {
   "cell_type": "code",
   "execution_count": 4,
   "id": "5d7b72e4",
   "metadata": {},
   "outputs": [
    {
     "data": {
      "text/html": [
       "<div>\n",
       "<style scoped>\n",
       "    .dataframe tbody tr th:only-of-type {\n",
       "        vertical-align: middle;\n",
       "    }\n",
       "\n",
       "    .dataframe tbody tr th {\n",
       "        vertical-align: top;\n",
       "    }\n",
       "\n",
       "    .dataframe thead th {\n",
       "        text-align: right;\n",
       "    }\n",
       "</style>\n",
       "<table border=\"1\" class=\"dataframe\">\n",
       "  <thead>\n",
       "    <tr style=\"text-align: right;\">\n",
       "      <th></th>\n",
       "      <th>ID</th>\n",
       "      <th>name</th>\n",
       "      <th>category</th>\n",
       "      <th>main_category</th>\n",
       "      <th>currency</th>\n",
       "      <th>deadline</th>\n",
       "      <th>goal</th>\n",
       "      <th>launched</th>\n",
       "      <th>pledged</th>\n",
       "      <th>state</th>\n",
       "      <th>backers</th>\n",
       "      <th>country</th>\n",
       "      <th>usd_pledged</th>\n",
       "    </tr>\n",
       "  </thead>\n",
       "  <tbody>\n",
       "    <tr>\n",
       "      <th>323749</th>\n",
       "      <td>999988282</td>\n",
       "      <td>Nou Renmen Ayiti!  We Love Haiti!</td>\n",
       "      <td>Performance Art</td>\n",
       "      <td>Art</td>\n",
       "      <td>USD</td>\n",
       "      <td>2011-08-16 09:07:47</td>\n",
       "      <td>2000</td>\n",
       "      <td>2011-07-19 09:07:47</td>\n",
       "      <td>524</td>\n",
       "      <td>failed</td>\n",
       "      <td>17</td>\n",
       "      <td>US</td>\n",
       "      <td>524</td>\n",
       "    </tr>\n",
       "  </tbody>\n",
       "</table>\n",
       "</div>"
      ],
      "text/plain": [
       "               ID                               name         category  \\\n",
       "323749  999988282  Nou Renmen Ayiti!  We Love Haiti!  Performance Art   \n",
       "\n",
       "       main_category currency             deadline  goal             launched  \\\n",
       "323749           Art      USD  2011-08-16 09:07:47  2000  2011-07-19 09:07:47   \n",
       "\n",
       "       pledged   state backers country usd_pledged  \n",
       "323749     524  failed      17      US         524  "
      ]
     },
     "execution_count": 4,
     "metadata": {},
     "output_type": "execute_result"
    }
   ],
   "source": [
    "n=13\n",
    "df = pd.read_csv(\"../data/ks_dataset.csv\",encoding='cp1252', usecols=[i for i in range(n)])\n",
    "df.rename(columns=lambda x: x.strip(), inplace=True)\n",
    "df.rename(columns={'usd pledged': 'usd_pledged'}, inplace=True)\n",
    "\n",
    "df.tail(1)"
   ]
  },
  {
   "cell_type": "markdown",
   "id": "c1ab8e84",
   "metadata": {},
   "source": [
    "# Define variables"
   ]
  },
  {
   "cell_type": "code",
   "execution_count": 13,
   "id": "d1e2458d",
   "metadata": {},
   "outputs": [],
   "source": [
    "from newforma_technical_test.src.cleaning_operations import is_valid_state\n",
    "from newforma_technical_test.src.config import ColumnTypeConverter, COLUMNS_CONVERT_TO_INT, COLUMNS_CONVERT_TO_FLOAT, COLUMNS_CONVERT_TO_DATETIME, COLUMNS_TO_BE_DELETED, CATEGORICAL_COLUMNS_TO_ENCODE, PrintStyle\n",
    "from newforma_technical_test.src.visualization_functions import numerical_var_distribution, categorical_var_distribution, categorical_variables_versus_target\n",
    "\n",
    "theme_colors = [\"#ff8533\", \"#808080\"]\n",
    "target = \"state\"\n",
    "\n"
   ]
  },
  {
   "cell_type": "code",
   "execution_count": null,
   "id": "94bb7b15",
   "metadata": {},
   "outputs": [],
   "source": []
  }
 ],
 "metadata": {
  "kernelspec": {
   "display_name": "Python 3 (ipykernel)",
   "language": "python",
   "name": "python3"
  },
  "language_info": {
   "codemirror_mode": {
    "name": "ipython",
    "version": 3
   },
   "file_extension": ".py",
   "mimetype": "text/x-python",
   "name": "python",
   "nbconvert_exporter": "python",
   "pygments_lexer": "ipython3",
   "version": "3.9.13"
  }
 },
 "nbformat": 4,
 "nbformat_minor": 5
}
