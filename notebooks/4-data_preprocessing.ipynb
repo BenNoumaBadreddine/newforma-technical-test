{
 "cells": [
  {
   "cell_type": "markdown",
   "id": "b5cc59e0",
   "metadata": {},
   "source": [
    "# Load the data"
   ]
  },
  {
   "cell_type": "code",
   "execution_count": 1,
   "id": "6a75e403",
   "metadata": {},
   "outputs": [],
   "source": [
    "%run ./0-loading_the_data_define_variables.ipynb"
   ]
  },
  {
   "cell_type": "markdown",
   "id": "465f9f99",
   "metadata": {},
   "source": [
    "# Handle the Missing values and Drop wrong input records "
   ]
  },
  {
   "cell_type": "raw",
   "id": "8e13407d",
   "metadata": {},
   "source": [
    "I have noticed that there is records that are wrongly filled in, e.g in the place of having a number in 'backers' column we found datetime. So, in order to solve that we are going to start with filtering the records and keep only those having failed and successful values in state column.\n",
    "\n",
    "After doing so, the wrong records are already eliminated so no need for further filtering.\n"
   ]
  },
  {
   "cell_type": "code",
   "execution_count": 2,
   "id": "2eb220f5",
   "metadata": {},
   "outputs": [
    {
     "name": "stdout",
     "output_type": "stream",
     "text": [
      "We dropped 42448 records.\n"
     ]
    }
   ],
   "source": [
    "\n",
    "initial_records = len(df)\n",
    "# we are interested only on two state: successful and failed to develop the prediction model\n",
    "df = df[df.apply(is_valid_state, axis=1)]\n",
    "print(f'We dropped {initial_records - len(df)} records.')"
   ]
  },
  {
   "cell_type": "code",
   "execution_count": 3,
   "id": "89b955d4",
   "metadata": {},
   "outputs": [
    {
     "data": {
      "text/plain": [
       "usd_pledged      210\n",
       "name               3\n",
       "ID                 0\n",
       "category           0\n",
       "main_category      0\n",
       "currency           0\n",
       "deadline           0\n",
       "goal               0\n",
       "launched           0\n",
       "pledged            0\n",
       "state              0\n",
       "backers            0\n",
       "country            0\n",
       "dtype: int64"
      ]
     },
     "execution_count": 3,
     "metadata": {},
     "output_type": "execute_result"
    }
   ],
   "source": [
    "df.isnull().sum().sort_values(ascending=False)"
   ]
  },
  {
   "cell_type": "code",
   "execution_count": 4,
   "id": "aba10c6f",
   "metadata": {},
   "outputs": [],
   "source": [
    "# We are going to fill the missing values by zero or we can keep it as it is. \n",
    "# The reason is because we are not going to use this column while training our model.\n",
    "\n",
    "df['usd_pledged'].fillna(0, inplace=True)\n"
   ]
  },
  {
   "cell_type": "markdown",
   "id": "39aa8f1c",
   "metadata": {},
   "source": [
    "# Convert object column type to float , int and datetime"
   ]
  },
  {
   "cell_type": "code",
   "execution_count": 5,
   "id": "810dfcf5",
   "metadata": {},
   "outputs": [
    {
     "name": "stdout",
     "output_type": "stream",
     "text": [
      "Done!\n"
     ]
    }
   ],
   "source": [
    "\n",
    "# Create an instance of the ColumnTypeConverter\n",
    "converter = ColumnTypeConverter(df)\n",
    "# Convert the columns to the specified data types\n",
    "converter.convert_to_int(COLUMNS_CONVERT_TO_INT)\n",
    "converter.convert_to_float(COLUMNS_CONVERT_TO_FLOAT)\n",
    "converter.convert_to_datetime(COLUMNS_CONVERT_TO_DATETIME)\n",
    "\n",
    "\n",
    "print('Done!')"
   ]
  },
  {
   "cell_type": "markdown",
   "id": "2ad1bb26",
   "metadata": {},
   "source": [
    "# Currency conversion to US"
   ]
  },
  {
   "cell_type": "code",
   "execution_count": 6,
   "id": "8ffb7f0c",
   "metadata": {},
   "outputs": [],
   "source": [
    "from newforma_technical_test.src.feature_engineering import convert_goal_to_usd\n",
    "\n",
    "# Apply the function to the DataFrame\n",
    "df['goal_usd'] = df.apply(convert_goal_to_usd, axis=1)\n"
   ]
  },
  {
   "cell_type": "markdown",
   "id": "57ba3603",
   "metadata": {},
   "source": [
    "# Deal with the Outliers "
   ]
  },
  {
   "cell_type": "raw",
   "id": "666fdaa6",
   "metadata": {},
   "source": [
    "We can choose one of the available techniques to deal with the outliers. For example, we can remove outliers, we can transform the data (ogarithm transformation, root square, ...) to make the data less sensitive to the outliers,we can rescale the data, etc.\n",
    "\n",
    "The machine learning tool we are going to use can deal automatically with the outliers.\n"
   ]
  },
  {
   "cell_type": "markdown",
   "id": "1d1dcd5a",
   "metadata": {},
   "source": [
    "# Deal with the multicolinearity"
   ]
  },
  {
   "cell_type": "raw",
   "id": "ff4752ad",
   "metadata": {},
   "source": [
    "If an input variables perfectly predict each another input then this situation can lea to multicollinearity.\n",
    "\n",
    "The variance inflation factor (VIF) number is a measure of multicolinearity of the feature. Generaly, greater than 1 indicates a possibility of having multicolinearrity. But, theoritecally, we can set a threshold equal to 5 or 10 to select the set of features having high probablity of multicolinearity.\n",
    "It is possible to remove the suspected feature but we risk to loose information. There is another wayhow to deal with that kind of situation which is creating new derived feature instead.\n",
    "\n",
    "The machine learning tool we are going to use can deal automatically with the multicolinearity."
   ]
  },
  {
   "cell_type": "markdown",
   "id": "9860bde4",
   "metadata": {},
   "source": [
    "# Derived features"
   ]
  },
  {
   "cell_type": "markdown",
   "id": "fdf3e766",
   "metadata": {},
   "source": [
    "### Campaigns duration"
   ]
  },
  {
   "cell_type": "code",
   "execution_count": 7,
   "id": "1de52356",
   "metadata": {},
   "outputs": [
    {
     "data": {
      "text/html": [
       "<div>\n",
       "<style scoped>\n",
       "    .dataframe tbody tr th:only-of-type {\n",
       "        vertical-align: middle;\n",
       "    }\n",
       "\n",
       "    .dataframe tbody tr th {\n",
       "        vertical-align: top;\n",
       "    }\n",
       "\n",
       "    .dataframe thead th {\n",
       "        text-align: right;\n",
       "    }\n",
       "</style>\n",
       "<table border=\"1\" class=\"dataframe\">\n",
       "  <thead>\n",
       "    <tr style=\"text-align: right;\">\n",
       "      <th></th>\n",
       "      <th>ID</th>\n",
       "      <th>name</th>\n",
       "      <th>category</th>\n",
       "      <th>main_category</th>\n",
       "      <th>currency</th>\n",
       "      <th>deadline</th>\n",
       "      <th>goal</th>\n",
       "      <th>launched</th>\n",
       "      <th>pledged</th>\n",
       "      <th>state</th>\n",
       "      <th>backers</th>\n",
       "      <th>country</th>\n",
       "      <th>usd_pledged</th>\n",
       "      <th>goal_usd</th>\n",
       "      <th>campaigns_duration</th>\n",
       "    </tr>\n",
       "  </thead>\n",
       "  <tbody>\n",
       "    <tr>\n",
       "      <th>0</th>\n",
       "      <td>1000002330</td>\n",
       "      <td>The Songs of Adelaide &amp; Abullah</td>\n",
       "      <td>Poetry</td>\n",
       "      <td>Publishing</td>\n",
       "      <td>GBP</td>\n",
       "      <td>2015-10-09 11:36:00</td>\n",
       "      <td>1000.0</td>\n",
       "      <td>2015-08-11 12:12:28</td>\n",
       "      <td>0.0</td>\n",
       "      <td>failed</td>\n",
       "      <td>0</td>\n",
       "      <td>GB</td>\n",
       "      <td>0.0</td>\n",
       "      <td>769.230769</td>\n",
       "      <td>58</td>\n",
       "    </tr>\n",
       "    <tr>\n",
       "      <th>1</th>\n",
       "      <td>1000004038</td>\n",
       "      <td>Where is Hank?</td>\n",
       "      <td>Narrative Film</td>\n",
       "      <td>Film &amp; Video</td>\n",
       "      <td>USD</td>\n",
       "      <td>2013-02-26 00:20:50</td>\n",
       "      <td>45000.0</td>\n",
       "      <td>2013-01-12 00:20:50</td>\n",
       "      <td>220.0</td>\n",
       "      <td>failed</td>\n",
       "      <td>3</td>\n",
       "      <td>US</td>\n",
       "      <td>220.0</td>\n",
       "      <td>45000.000000</td>\n",
       "      <td>45</td>\n",
       "    </tr>\n",
       "  </tbody>\n",
       "</table>\n",
       "</div>"
      ],
      "text/plain": [
       "           ID                             name        category main_category  \\\n",
       "0  1000002330  The Songs of Adelaide & Abullah          Poetry    Publishing   \n",
       "1  1000004038                   Where is Hank?  Narrative Film  Film & Video   \n",
       "\n",
       "  currency            deadline     goal            launched  pledged   state  \\\n",
       "0      GBP 2015-10-09 11:36:00   1000.0 2015-08-11 12:12:28      0.0  failed   \n",
       "1      USD 2013-02-26 00:20:50  45000.0 2013-01-12 00:20:50    220.0  failed   \n",
       "\n",
       "   backers country  usd_pledged      goal_usd  campaigns_duration  \n",
       "0        0      GB          0.0    769.230769                  58  \n",
       "1        3      US        220.0  45000.000000                  45  "
      ]
     },
     "execution_count": 7,
     "metadata": {},
     "output_type": "execute_result"
    }
   ],
   "source": [
    "df['campaigns_duration'] = (df['deadline'] - df['launched']).dt.days\n",
    "df.head(2)"
   ]
  },
  {
   "cell_type": "markdown",
   "id": "ff9da77c",
   "metadata": {},
   "source": [
    "##  Derive features from deadline and launced date"
   ]
  },
  {
   "cell_type": "code",
   "execution_count": 8,
   "id": "a4d04f69",
   "metadata": {},
   "outputs": [],
   "source": [
    "df = df.assign(day_launched=df.launched.dt.day,\n",
    "          month_launched=df.launched.dt.month,\n",
    "          year_launched=df.launched.dt.year,\n",
    "          week_day=df.launched.dt.weekday)\n"
   ]
  },
  {
   "cell_type": "markdown",
   "id": "87bc1b37",
   "metadata": {},
   "source": [
    "##  Derive season from the launched month "
   ]
  },
  {
   "cell_type": "code",
   "execution_count": 9,
   "id": "5abd7dc2",
   "metadata": {},
   "outputs": [],
   "source": [
    "from newforma_technical_test.src.feature_engineering import get_season_by_month\n",
    "\n",
    "\n",
    "# create season column\n",
    "df['season'] = df['month_launched'].apply(get_season_by_month)"
   ]
  },
  {
   "cell_type": "markdown",
   "id": "dbd8d917",
   "metadata": {},
   "source": [
    "# Remove unecessary columns"
   ]
  },
  {
   "cell_type": "code",
   "execution_count": 10,
   "id": "4e3b02bc",
   "metadata": {},
   "outputs": [
    {
     "data": {
      "text/html": [
       "<div>\n",
       "<style scoped>\n",
       "    .dataframe tbody tr th:only-of-type {\n",
       "        vertical-align: middle;\n",
       "    }\n",
       "\n",
       "    .dataframe tbody tr th {\n",
       "        vertical-align: top;\n",
       "    }\n",
       "\n",
       "    .dataframe thead th {\n",
       "        text-align: right;\n",
       "    }\n",
       "</style>\n",
       "<table border=\"1\" class=\"dataframe\">\n",
       "  <thead>\n",
       "    <tr style=\"text-align: right;\">\n",
       "      <th></th>\n",
       "      <th>category</th>\n",
       "      <th>main_category</th>\n",
       "      <th>goal</th>\n",
       "      <th>pledged</th>\n",
       "      <th>state</th>\n",
       "      <th>backers</th>\n",
       "      <th>country</th>\n",
       "      <th>usd_pledged</th>\n",
       "      <th>goal_usd</th>\n",
       "      <th>campaigns_duration</th>\n",
       "      <th>day_launched</th>\n",
       "      <th>month_launched</th>\n",
       "      <th>year_launched</th>\n",
       "      <th>week_day</th>\n",
       "      <th>season</th>\n",
       "    </tr>\n",
       "  </thead>\n",
       "  <tbody>\n",
       "    <tr>\n",
       "      <th>0</th>\n",
       "      <td>Poetry</td>\n",
       "      <td>Publishing</td>\n",
       "      <td>1000.0</td>\n",
       "      <td>0.0</td>\n",
       "      <td>failed</td>\n",
       "      <td>0</td>\n",
       "      <td>GB</td>\n",
       "      <td>0.0</td>\n",
       "      <td>769.230769</td>\n",
       "      <td>58</td>\n",
       "      <td>11</td>\n",
       "      <td>8</td>\n",
       "      <td>2015</td>\n",
       "      <td>1</td>\n",
       "      <td>Summer</td>\n",
       "    </tr>\n",
       "    <tr>\n",
       "      <th>1</th>\n",
       "      <td>Narrative Film</td>\n",
       "      <td>Film &amp; Video</td>\n",
       "      <td>45000.0</td>\n",
       "      <td>220.0</td>\n",
       "      <td>failed</td>\n",
       "      <td>3</td>\n",
       "      <td>US</td>\n",
       "      <td>220.0</td>\n",
       "      <td>45000.000000</td>\n",
       "      <td>45</td>\n",
       "      <td>12</td>\n",
       "      <td>1</td>\n",
       "      <td>2013</td>\n",
       "      <td>5</td>\n",
       "      <td>Winter</td>\n",
       "    </tr>\n",
       "  </tbody>\n",
       "</table>\n",
       "</div>"
      ],
      "text/plain": [
       "         category main_category     goal  pledged   state  backers country  \\\n",
       "0          Poetry    Publishing   1000.0      0.0  failed        0      GB   \n",
       "1  Narrative Film  Film & Video  45000.0    220.0  failed        3      US   \n",
       "\n",
       "   usd_pledged      goal_usd  campaigns_duration  day_launched  \\\n",
       "0          0.0    769.230769                  58            11   \n",
       "1        220.0  45000.000000                  45            12   \n",
       "\n",
       "   month_launched  year_launched  week_day  season  \n",
       "0               8           2015         1  Summer  \n",
       "1               1           2013         5  Winter  "
      ]
     },
     "execution_count": 10,
     "metadata": {},
     "output_type": "execute_result"
    }
   ],
   "source": [
    "df.drop(columns=COLUMNS_TO_BE_DELETED, inplace=True)\n",
    "df.head(2)"
   ]
  },
  {
   "cell_type": "code",
   "execution_count": null,
   "id": "af0502ed",
   "metadata": {},
   "outputs": [],
   "source": []
  },
  {
   "cell_type": "markdown",
   "id": "2781084d",
   "metadata": {},
   "source": [
    "# Handle the categorical variables"
   ]
  },
  {
   "cell_type": "markdown",
   "id": "054dd29b",
   "metadata": {},
   "source": [
    "## Ordinal Variable"
   ]
  },
  {
   "cell_type": "raw",
   "id": "4d257ad9",
   "metadata": {},
   "source": [
    "Ordinal variables are variables with a meaningful order or ranking."
   ]
  },
  {
   "cell_type": "code",
   "execution_count": 11,
   "id": "2b92c3c4",
   "metadata": {},
   "outputs": [
    {
     "data": {
      "text/html": [
       "<div>\n",
       "<style scoped>\n",
       "    .dataframe tbody tr th:only-of-type {\n",
       "        vertical-align: middle;\n",
       "    }\n",
       "\n",
       "    .dataframe tbody tr th {\n",
       "        vertical-align: top;\n",
       "    }\n",
       "\n",
       "    .dataframe thead th {\n",
       "        text-align: right;\n",
       "    }\n",
       "</style>\n",
       "<table border=\"1\" class=\"dataframe\">\n",
       "  <thead>\n",
       "    <tr style=\"text-align: right;\">\n",
       "      <th></th>\n",
       "      <th>category</th>\n",
       "      <th>main_category</th>\n",
       "      <th>goal</th>\n",
       "      <th>pledged</th>\n",
       "      <th>state</th>\n",
       "      <th>backers</th>\n",
       "      <th>country</th>\n",
       "      <th>usd_pledged</th>\n",
       "      <th>goal_usd</th>\n",
       "      <th>campaigns_duration</th>\n",
       "      <th>day_launched</th>\n",
       "      <th>month_launched</th>\n",
       "      <th>year_launched</th>\n",
       "      <th>week_day</th>\n",
       "      <th>season</th>\n",
       "    </tr>\n",
       "  </thead>\n",
       "  <tbody>\n",
       "    <tr>\n",
       "      <th>0</th>\n",
       "      <td>Poetry</td>\n",
       "      <td>Publishing</td>\n",
       "      <td>1000.0</td>\n",
       "      <td>0.0</td>\n",
       "      <td>0</td>\n",
       "      <td>0</td>\n",
       "      <td>GB</td>\n",
       "      <td>0.0</td>\n",
       "      <td>769.230769</td>\n",
       "      <td>58</td>\n",
       "      <td>11</td>\n",
       "      <td>8</td>\n",
       "      <td>2015</td>\n",
       "      <td>1</td>\n",
       "      <td>Summer</td>\n",
       "    </tr>\n",
       "    <tr>\n",
       "      <th>1</th>\n",
       "      <td>Narrative Film</td>\n",
       "      <td>Film &amp; Video</td>\n",
       "      <td>45000.0</td>\n",
       "      <td>220.0</td>\n",
       "      <td>0</td>\n",
       "      <td>3</td>\n",
       "      <td>US</td>\n",
       "      <td>220.0</td>\n",
       "      <td>45000.000000</td>\n",
       "      <td>45</td>\n",
       "      <td>12</td>\n",
       "      <td>1</td>\n",
       "      <td>2013</td>\n",
       "      <td>5</td>\n",
       "      <td>Winter</td>\n",
       "    </tr>\n",
       "  </tbody>\n",
       "</table>\n",
       "</div>"
      ],
      "text/plain": [
       "         category main_category     goal  pledged  state  backers country  \\\n",
       "0          Poetry    Publishing   1000.0      0.0      0        0      GB   \n",
       "1  Narrative Film  Film & Video  45000.0    220.0      0        3      US   \n",
       "\n",
       "   usd_pledged      goal_usd  campaigns_duration  day_launched  \\\n",
       "0          0.0    769.230769                  58            11   \n",
       "1        220.0  45000.000000                  45            12   \n",
       "\n",
       "   month_launched  year_launched  week_day  season  \n",
       "0               8           2015         1  Summer  \n",
       "1               1           2013         5  Winter  "
      ]
     },
     "execution_count": 11,
     "metadata": {},
     "output_type": "execute_result"
    }
   ],
   "source": [
    "from newforma_technical_test.src.feature_engineering import ordinal_encoding\n",
    "mapper= {'failed': 0, 'successful': 1 }\n",
    "df = ordinal_encoding(df, 'state', mapper)\n",
    "df.head(2)"
   ]
  },
  {
   "cell_type": "markdown",
   "id": "9a2c6b8d",
   "metadata": {},
   "source": [
    "##  Nominal variables "
   ]
  },
  {
   "cell_type": "raw",
   "id": "06cea7d3",
   "metadata": {},
   "source": [
    "Nominal variables are variables without a meaningful order or ranking."
   ]
  },
  {
   "cell_type": "code",
   "execution_count": 12,
   "id": "d84551c7",
   "metadata": {},
   "outputs": [
    {
     "data": {
      "text/html": [
       "<div>\n",
       "<style scoped>\n",
       "    .dataframe tbody tr th:only-of-type {\n",
       "        vertical-align: middle;\n",
       "    }\n",
       "\n",
       "    .dataframe tbody tr th {\n",
       "        vertical-align: top;\n",
       "    }\n",
       "\n",
       "    .dataframe thead th {\n",
       "        text-align: right;\n",
       "    }\n",
       "</style>\n",
       "<table border=\"1\" class=\"dataframe\">\n",
       "  <thead>\n",
       "    <tr style=\"text-align: right;\">\n",
       "      <th></th>\n",
       "      <th>category</th>\n",
       "      <th>main_category</th>\n",
       "      <th>goal</th>\n",
       "      <th>pledged</th>\n",
       "      <th>state</th>\n",
       "      <th>backers</th>\n",
       "      <th>country</th>\n",
       "      <th>usd_pledged</th>\n",
       "      <th>goal_usd</th>\n",
       "      <th>campaigns_duration</th>\n",
       "      <th>...</th>\n",
       "      <th>main_category_2</th>\n",
       "      <th>main_category_3</th>\n",
       "      <th>country_0</th>\n",
       "      <th>country_1</th>\n",
       "      <th>country_2</th>\n",
       "      <th>country_3</th>\n",
       "      <th>country_4</th>\n",
       "      <th>season_0</th>\n",
       "      <th>season_1</th>\n",
       "      <th>season_2</th>\n",
       "    </tr>\n",
       "  </thead>\n",
       "  <tbody>\n",
       "    <tr>\n",
       "      <th>0</th>\n",
       "      <td>Poetry</td>\n",
       "      <td>Publishing</td>\n",
       "      <td>1000.0</td>\n",
       "      <td>0.0</td>\n",
       "      <td>0</td>\n",
       "      <td>0</td>\n",
       "      <td>GB</td>\n",
       "      <td>0.0</td>\n",
       "      <td>769.230769</td>\n",
       "      <td>58</td>\n",
       "      <td>...</td>\n",
       "      <td>0</td>\n",
       "      <td>1</td>\n",
       "      <td>0</td>\n",
       "      <td>0</td>\n",
       "      <td>0</td>\n",
       "      <td>0</td>\n",
       "      <td>1</td>\n",
       "      <td>0</td>\n",
       "      <td>0</td>\n",
       "      <td>1</td>\n",
       "    </tr>\n",
       "    <tr>\n",
       "      <th>1</th>\n",
       "      <td>Narrative Film</td>\n",
       "      <td>Film &amp; Video</td>\n",
       "      <td>45000.0</td>\n",
       "      <td>220.0</td>\n",
       "      <td>0</td>\n",
       "      <td>3</td>\n",
       "      <td>US</td>\n",
       "      <td>220.0</td>\n",
       "      <td>45000.000000</td>\n",
       "      <td>45</td>\n",
       "      <td>...</td>\n",
       "      <td>1</td>\n",
       "      <td>0</td>\n",
       "      <td>0</td>\n",
       "      <td>0</td>\n",
       "      <td>0</td>\n",
       "      <td>1</td>\n",
       "      <td>0</td>\n",
       "      <td>0</td>\n",
       "      <td>1</td>\n",
       "      <td>0</td>\n",
       "    </tr>\n",
       "  </tbody>\n",
       "</table>\n",
       "<p>2 rows × 35 columns</p>\n",
       "</div>"
      ],
      "text/plain": [
       "         category main_category     goal  pledged  state  backers country  \\\n",
       "0          Poetry    Publishing   1000.0      0.0      0        0      GB   \n",
       "1  Narrative Film  Film & Video  45000.0    220.0      0        3      US   \n",
       "\n",
       "   usd_pledged      goal_usd  campaigns_duration  ...  main_category_2  \\\n",
       "0          0.0    769.230769                  58  ...                0   \n",
       "1        220.0  45000.000000                  45  ...                1   \n",
       "\n",
       "   main_category_3  country_0  country_1 country_2  country_3  country_4  \\\n",
       "0                1          0          0         0          0          1   \n",
       "1                0          0          0         0          1          0   \n",
       "\n",
       "   season_0  season_1  season_2  \n",
       "0         0         0         1  \n",
       "1         0         1         0  \n",
       "\n",
       "[2 rows x 35 columns]"
      ]
     },
     "execution_count": 12,
     "metadata": {},
     "output_type": "execute_result"
    }
   ],
   "source": [
    "from newforma_technical_test.src.feature_engineering import binary_encoding\n",
    "\n",
    "\n",
    "categorical_cols = ['category', 'main_category', 'country', 'season']\n",
    "df = binary_encoding(df, categorical_cols)\n",
    "df.head(2)"
   ]
  },
  {
   "cell_type": "code",
   "execution_count": 13,
   "id": "23a768b8",
   "metadata": {},
   "outputs": [
    {
     "data": {
      "text/html": [
       "<div>\n",
       "<style scoped>\n",
       "    .dataframe tbody tr th:only-of-type {\n",
       "        vertical-align: middle;\n",
       "    }\n",
       "\n",
       "    .dataframe tbody tr th {\n",
       "        vertical-align: top;\n",
       "    }\n",
       "\n",
       "    .dataframe thead th {\n",
       "        text-align: right;\n",
       "    }\n",
       "</style>\n",
       "<table border=\"1\" class=\"dataframe\">\n",
       "  <thead>\n",
       "    <tr style=\"text-align: right;\">\n",
       "      <th></th>\n",
       "      <th>category</th>\n",
       "      <th>main_category</th>\n",
       "      <th>goal</th>\n",
       "      <th>pledged</th>\n",
       "      <th>state</th>\n",
       "      <th>backers</th>\n",
       "      <th>country</th>\n",
       "      <th>usd_pledged</th>\n",
       "      <th>goal_usd</th>\n",
       "      <th>campaigns_duration</th>\n",
       "      <th>...</th>\n",
       "      <th>main_category_2</th>\n",
       "      <th>main_category_3</th>\n",
       "      <th>country_0</th>\n",
       "      <th>country_1</th>\n",
       "      <th>country_2</th>\n",
       "      <th>country_3</th>\n",
       "      <th>country_4</th>\n",
       "      <th>season_0</th>\n",
       "      <th>season_1</th>\n",
       "      <th>season_2</th>\n",
       "    </tr>\n",
       "  </thead>\n",
       "  <tbody>\n",
       "    <tr>\n",
       "      <th>0</th>\n",
       "      <td>107</td>\n",
       "      <td>12</td>\n",
       "      <td>1000.0</td>\n",
       "      <td>0.0</td>\n",
       "      <td>0</td>\n",
       "      <td>0</td>\n",
       "      <td>9</td>\n",
       "      <td>0.0</td>\n",
       "      <td>769.230769</td>\n",
       "      <td>58</td>\n",
       "      <td>...</td>\n",
       "      <td>0</td>\n",
       "      <td>1</td>\n",
       "      <td>0</td>\n",
       "      <td>0</td>\n",
       "      <td>0</td>\n",
       "      <td>0</td>\n",
       "      <td>1</td>\n",
       "      <td>0</td>\n",
       "      <td>0</td>\n",
       "      <td>1</td>\n",
       "    </tr>\n",
       "    <tr>\n",
       "      <th>1</th>\n",
       "      <td>92</td>\n",
       "      <td>6</td>\n",
       "      <td>45000.0</td>\n",
       "      <td>220.0</td>\n",
       "      <td>0</td>\n",
       "      <td>3</td>\n",
       "      <td>21</td>\n",
       "      <td>220.0</td>\n",
       "      <td>45000.000000</td>\n",
       "      <td>45</td>\n",
       "      <td>...</td>\n",
       "      <td>1</td>\n",
       "      <td>0</td>\n",
       "      <td>0</td>\n",
       "      <td>0</td>\n",
       "      <td>0</td>\n",
       "      <td>1</td>\n",
       "      <td>0</td>\n",
       "      <td>0</td>\n",
       "      <td>1</td>\n",
       "      <td>0</td>\n",
       "    </tr>\n",
       "  </tbody>\n",
       "</table>\n",
       "<p>2 rows × 35 columns</p>\n",
       "</div>"
      ],
      "text/plain": [
       "   category  main_category     goal  pledged  state  backers  country  \\\n",
       "0       107             12   1000.0      0.0      0        0        9   \n",
       "1        92              6  45000.0    220.0      0        3       21   \n",
       "\n",
       "   usd_pledged      goal_usd  campaigns_duration  ...  main_category_2  \\\n",
       "0          0.0    769.230769                  58  ...                0   \n",
       "1        220.0  45000.000000                  45  ...                1   \n",
       "\n",
       "   main_category_3  country_0  country_1  country_2  country_3  country_4  \\\n",
       "0                1          0          0          0          0          1   \n",
       "1                0          0          0          0          1          0   \n",
       "\n",
       "   season_0  season_1  season_2  \n",
       "0         0         0         1  \n",
       "1         0         1         0  \n",
       "\n",
       "[2 rows x 35 columns]"
      ]
     },
     "execution_count": 13,
     "metadata": {},
     "output_type": "execute_result"
    }
   ],
   "source": [
    "# create ordinal features anyway for later experimentation\n",
    "# the reason is because we are getting a large number of columns and the computational ressources is limited.\n",
    "\n",
    "CATEGORICAL_COLUMNS_TO_ENCODE=CATEGORICAL_COLUMNS_TO_ENCODE+['season']\n",
    "df[CATEGORICAL_COLUMNS_TO_ENCODE] = df[CATEGORICAL_COLUMNS_TO_ENCODE].apply(LabelEncoder().fit_transform)\n",
    "df.head(2)"
   ]
  },
  {
   "cell_type": "markdown",
   "id": "812c98fe",
   "metadata": {},
   "source": [
    "# Handle the un-balanced dataset"
   ]
  },
  {
   "cell_type": "code",
   "execution_count": 15,
   "id": "f8de6d1d",
   "metadata": {},
   "outputs": [],
   "source": [
    "from newforma_technical_test.src.data_split import handle_unbalanced_dataset\n",
    "\n",
    "\n",
    "balanced_df = handle_unbalanced_dataset(df) "
   ]
  },
  {
   "cell_type": "markdown",
   "id": "66a4dce4",
   "metadata": {},
   "source": [
    "# Split the data: training and testing"
   ]
  },
  {
   "cell_type": "code",
   "execution_count": 17,
   "id": "ad260d49",
   "metadata": {},
   "outputs": [
    {
     "data": {
      "text/plain": [
       "(269152, 67290)"
      ]
     },
     "execution_count": 17,
     "metadata": {},
     "output_type": "execute_result"
    }
   ],
   "source": [
    "from newforma_technical_test.src.data_split import dataset_balanced_split\n",
    "\n",
    "\n",
    "train_df, test_df = dataset_balanced_split(balanced_df, testing_percentage = 0.2)\n",
    "len(train_df), len(test_df)"
   ]
  },
  {
   "cell_type": "code",
   "execution_count": 19,
   "id": "61e3319d",
   "metadata": {},
   "outputs": [
    {
     "data": {
      "text/plain": [
       "True"
      ]
     },
     "execution_count": 19,
     "metadata": {},
     "output_type": "execute_result"
    }
   ],
   "source": [
    "len(test_df[test_df.state==1]) == len(test_df[test_df.state==0])"
   ]
  },
  {
   "cell_type": "markdown",
   "id": "d177f984",
   "metadata": {},
   "source": [
    "# Save the data "
   ]
  },
  {
   "cell_type": "code",
   "execution_count": 20,
   "id": "e9a201d7",
   "metadata": {},
   "outputs": [
    {
     "name": "stdout",
     "output_type": "stream",
     "text": [
      "Preprocessed dataset saved correctly!\n"
     ]
    }
   ],
   "source": [
    "train_file_path = '../data/preprocessed_train_ks_dataset.csv'\n",
    "test_file_path = '../data/preprocessed_test_ks_dataset.csv'\n",
    "train_df.to_csv(train_file_path, index=False)\n",
    "test_df.to_csv(test_file_path, index=False)\n",
    "print('Preprocessed dataset saved correctly!')"
   ]
  },
  {
   "cell_type": "code",
   "execution_count": null,
   "id": "271a7b09",
   "metadata": {},
   "outputs": [],
   "source": []
  },
  {
   "cell_type": "code",
   "execution_count": null,
   "id": "a3c5e5f1",
   "metadata": {},
   "outputs": [],
   "source": []
  },
  {
   "cell_type": "code",
   "execution_count": null,
   "id": "12c59aa4",
   "metadata": {},
   "outputs": [],
   "source": []
  },
  {
   "cell_type": "code",
   "execution_count": null,
   "id": "7a50fd64",
   "metadata": {},
   "outputs": [],
   "source": []
  },
  {
   "cell_type": "code",
   "execution_count": null,
   "id": "da6ff569",
   "metadata": {},
   "outputs": [],
   "source": []
  },
  {
   "cell_type": "code",
   "execution_count": null,
   "id": "6f056f4d",
   "metadata": {},
   "outputs": [],
   "source": []
  },
  {
   "cell_type": "code",
   "execution_count": null,
   "id": "7a29a0a8",
   "metadata": {},
   "outputs": [],
   "source": []
  },
  {
   "cell_type": "code",
   "execution_count": null,
   "id": "25d42a46",
   "metadata": {},
   "outputs": [],
   "source": []
  },
  {
   "cell_type": "markdown",
   "id": "a46e92f5",
   "metadata": {},
   "source": [
    "### "
   ]
  }
 ],
 "metadata": {
  "kernelspec": {
   "display_name": "Python 3 (ipykernel)",
   "language": "python",
   "name": "python3"
  },
  "language_info": {
   "codemirror_mode": {
    "name": "ipython",
    "version": 3
   },
   "file_extension": ".py",
   "mimetype": "text/x-python",
   "name": "python",
   "nbconvert_exporter": "python",
   "pygments_lexer": "ipython3",
   "version": "3.9.13"
  }
 },
 "nbformat": 4,
 "nbformat_minor": 5
}
